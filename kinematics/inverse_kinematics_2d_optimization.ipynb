{
 "cells": [
  {
   "cell_type": "markdown",
   "metadata": {},
   "source": [
    "# Inverse Kinematics (2D)"
   ]
  },
  {
   "cell_type": "code",
   "execution_count": 1,
   "metadata": {},
   "outputs": [],
   "source": [
    "%matplotlib notebook\n",
    "from matplotlib import pylab as plt\n",
    "from numpy import sin, cos, pi, matrix, random, linalg, asarray\n",
    "from __future__ import division\n",
    "from math import atan2\n",
    "from IPython import display\n",
    "from ipywidgets import interact, fixed"
   ]
  },
  {
   "cell_type": "markdown",
   "metadata": {},
   "source": [
    "## Coordinate Transformation"
   ]
  },
  {
   "cell_type": "code",
   "execution_count": 2,
   "metadata": {},
   "outputs": [],
   "source": [
    "def trans(x, y, a):\n",
    "    '''create a 2D transformation'''\n",
    "    s = sin(a)\n",
    "    c = cos(a)\n",
    "    return matrix([[c, -s, x],\n",
    "                   [s,  c, y],\n",
    "                   [0,  0, 1]])\n",
    "\n",
    "def from_trans(m):\n",
    "    '''get x, y, theta from transform matrix'''\n",
    "    return [m[0, -1], m[1, -1], atan2(m[1, 0], m[0, 0])]"
   ]
  },
  {
   "cell_type": "code",
   "execution_count": 3,
   "metadata": {},
   "outputs": [
    {
     "data": {
      "text/plain": [
       "matrix([[ 1., -0.,  0.],\n",
       "        [ 0.,  1.,  0.],\n",
       "        [ 0.,  0.,  1.]])"
      ]
     },
     "execution_count": 3,
     "metadata": {},
     "output_type": "execute_result"
    }
   ],
   "source": [
    "trans(0, 0, 0)"
   ]
  },
  {
   "cell_type": "markdown",
   "metadata": {},
   "source": [
    "## Parameters of robot arm"
   ]
  },
  {
   "cell_type": "code",
   "execution_count": 4,
   "metadata": {},
   "outputs": [],
   "source": [
    "l = [0, 3, 2, 1]\n",
    "#l = [0, 3, 2, 1, 1]\n",
    "#l = [0, 3, 2, 1, 1, 1]\n",
    "l = [1] * 30\n",
    "N = len(l) - 1  # number of links\n",
    "max_len = sum(l)\n",
    "a = random.random_sample(N)  # angles of joints\n",
    "T0 = trans(0, 0, 0)  # base"
   ]
  },
  {
   "cell_type": "markdown",
   "metadata": {},
   "source": [
    "## Forward Kinematics"
   ]
  },
  {
   "cell_type": "code",
   "execution_count": 5,
   "metadata": {},
   "outputs": [],
   "source": [
    "def forward_kinematics(T0, l, a):\n",
    "    T = [T0]\n",
    "    for i in range(len(a)):\n",
    "        Ti = T[-1] * trans(l[i], 0, a[i])\n",
    "        T.append(Ti)\n",
    "    Te = T[-1] * trans(l[-1], 0, 0)  # end effector\n",
    "    T.append(Te)\n",
    "    return T"
   ]
  },
  {
   "cell_type": "code",
   "execution_count": 6,
   "metadata": {},
   "outputs": [],
   "source": [
    "def show_robot_arm(T):\n",
    "    plt.cla()\n",
    "    x = [Ti[0,-1] for Ti in T]\n",
    "    y = [Ti[1,-1] for Ti in T]\n",
    "    plt.plot(x, y, '-or', linewidth=5, markersize=10)\n",
    "    plt.plot(x[-1], y[-1], 'og', linewidth=5, markersize=10)\n",
    "    plt.xlim([-max_len, max_len])\n",
    "    plt.ylim([-max_len, max_len]) \n",
    "    ax = plt.axes()\n",
    "    ax.set_aspect('equal')\n",
    "    t = atan2(T[-1][1, 0], T[-1][0,0])\n",
    "    ax.annotate('[%.2f,%.2f,%.2f]' % (x[-1], y[-1], t), xy=(x[-1], y[-1]), xytext=(x[-1], y[-1] + 0.5))\n",
    "    plt.show\n",
    "    return ax"
   ]
  },
  {
   "cell_type": "markdown",
   "metadata": {},
   "source": [
    "## Inverse Kinematics"
   ]
  },
  {
   "cell_type": "markdown",
   "metadata": {},
   "source": [
    "### Numerical Solution: optimzation approach"
   ]
  },
  {
   "cell_type": "code",
   "execution_count": 7,
   "metadata": {},
   "outputs": [
    {
     "data": {
      "application/javascript": [
       "/* Put everything inside the global mpl namespace */\n",
       "/* global mpl */\n",
       "window.mpl = {};\n",
       "\n",
       "mpl.get_websocket_type = function () {\n",
       "    if (typeof WebSocket !== 'undefined') {\n",
       "        return WebSocket;\n",
       "    } else if (typeof MozWebSocket !== 'undefined') {\n",
       "        return MozWebSocket;\n",
       "    } else {\n",
       "        alert(\n",
       "            'Your browser does not have WebSocket support. ' +\n",
       "                'Please try Chrome, Safari or Firefox ≥ 6. ' +\n",
       "                'Firefox 4 and 5 are also supported but you ' +\n",
       "                'have to enable WebSockets in about:config.'\n",
       "        );\n",
       "    }\n",
       "};\n",
       "\n",
       "mpl.figure = function (figure_id, websocket, ondownload, parent_element) {\n",
       "    this.id = figure_id;\n",
       "\n",
       "    this.ws = websocket;\n",
       "\n",
       "    this.supports_binary = this.ws.binaryType !== undefined;\n",
       "\n",
       "    if (!this.supports_binary) {\n",
       "        var warnings = document.getElementById('mpl-warnings');\n",
       "        if (warnings) {\n",
       "            warnings.style.display = 'block';\n",
       "            warnings.textContent =\n",
       "                'This browser does not support binary websocket messages. ' +\n",
       "                'Performance may be slow.';\n",
       "        }\n",
       "    }\n",
       "\n",
       "    this.imageObj = new Image();\n",
       "\n",
       "    this.context = undefined;\n",
       "    this.message = undefined;\n",
       "    this.canvas = undefined;\n",
       "    this.rubberband_canvas = undefined;\n",
       "    this.rubberband_context = undefined;\n",
       "    this.format_dropdown = undefined;\n",
       "\n",
       "    this.image_mode = 'full';\n",
       "\n",
       "    this.root = document.createElement('div');\n",
       "    this.root.setAttribute('style', 'display: inline-block');\n",
       "    this._root_extra_style(this.root);\n",
       "\n",
       "    parent_element.appendChild(this.root);\n",
       "\n",
       "    this._init_header(this);\n",
       "    this._init_canvas(this);\n",
       "    this._init_toolbar(this);\n",
       "\n",
       "    var fig = this;\n",
       "\n",
       "    this.waiting = false;\n",
       "\n",
       "    this.ws.onopen = function () {\n",
       "        fig.send_message('supports_binary', { value: fig.supports_binary });\n",
       "        fig.send_message('send_image_mode', {});\n",
       "        if (fig.ratio !== 1) {\n",
       "            fig.send_message('set_dpi_ratio', { dpi_ratio: fig.ratio });\n",
       "        }\n",
       "        fig.send_message('refresh', {});\n",
       "    };\n",
       "\n",
       "    this.imageObj.onload = function () {\n",
       "        if (fig.image_mode === 'full') {\n",
       "            // Full images could contain transparency (where diff images\n",
       "            // almost always do), so we need to clear the canvas so that\n",
       "            // there is no ghosting.\n",
       "            fig.context.clearRect(0, 0, fig.canvas.width, fig.canvas.height);\n",
       "        }\n",
       "        fig.context.drawImage(fig.imageObj, 0, 0);\n",
       "    };\n",
       "\n",
       "    this.imageObj.onunload = function () {\n",
       "        fig.ws.close();\n",
       "    };\n",
       "\n",
       "    this.ws.onmessage = this._make_on_message_function(this);\n",
       "\n",
       "    this.ondownload = ondownload;\n",
       "};\n",
       "\n",
       "mpl.figure.prototype._init_header = function () {\n",
       "    var titlebar = document.createElement('div');\n",
       "    titlebar.classList =\n",
       "        'ui-dialog-titlebar ui-widget-header ui-corner-all ui-helper-clearfix';\n",
       "    var titletext = document.createElement('div');\n",
       "    titletext.classList = 'ui-dialog-title';\n",
       "    titletext.setAttribute(\n",
       "        'style',\n",
       "        'width: 100%; text-align: center; padding: 3px;'\n",
       "    );\n",
       "    titlebar.appendChild(titletext);\n",
       "    this.root.appendChild(titlebar);\n",
       "    this.header = titletext;\n",
       "};\n",
       "\n",
       "mpl.figure.prototype._canvas_extra_style = function (_canvas_div) {};\n",
       "\n",
       "mpl.figure.prototype._root_extra_style = function (_canvas_div) {};\n",
       "\n",
       "mpl.figure.prototype._init_canvas = function () {\n",
       "    var fig = this;\n",
       "\n",
       "    var canvas_div = (this.canvas_div = document.createElement('div'));\n",
       "    canvas_div.setAttribute(\n",
       "        'style',\n",
       "        'border: 1px solid #ddd;' +\n",
       "            'box-sizing: content-box;' +\n",
       "            'clear: both;' +\n",
       "            'min-height: 1px;' +\n",
       "            'min-width: 1px;' +\n",
       "            'outline: 0;' +\n",
       "            'overflow: hidden;' +\n",
       "            'position: relative;' +\n",
       "            'resize: both;'\n",
       "    );\n",
       "\n",
       "    function on_keyboard_event_closure(name) {\n",
       "        return function (event) {\n",
       "            return fig.key_event(event, name);\n",
       "        };\n",
       "    }\n",
       "\n",
       "    canvas_div.addEventListener(\n",
       "        'keydown',\n",
       "        on_keyboard_event_closure('key_press')\n",
       "    );\n",
       "    canvas_div.addEventListener(\n",
       "        'keyup',\n",
       "        on_keyboard_event_closure('key_release')\n",
       "    );\n",
       "\n",
       "    this._canvas_extra_style(canvas_div);\n",
       "    this.root.appendChild(canvas_div);\n",
       "\n",
       "    var canvas = (this.canvas = document.createElement('canvas'));\n",
       "    canvas.classList.add('mpl-canvas');\n",
       "    canvas.setAttribute('style', 'box-sizing: content-box;');\n",
       "\n",
       "    this.context = canvas.getContext('2d');\n",
       "\n",
       "    var backingStore =\n",
       "        this.context.backingStorePixelRatio ||\n",
       "        this.context.webkitBackingStorePixelRatio ||\n",
       "        this.context.mozBackingStorePixelRatio ||\n",
       "        this.context.msBackingStorePixelRatio ||\n",
       "        this.context.oBackingStorePixelRatio ||\n",
       "        this.context.backingStorePixelRatio ||\n",
       "        1;\n",
       "\n",
       "    this.ratio = (window.devicePixelRatio || 1) / backingStore;\n",
       "\n",
       "    var rubberband_canvas = (this.rubberband_canvas = document.createElement(\n",
       "        'canvas'\n",
       "    ));\n",
       "    rubberband_canvas.setAttribute(\n",
       "        'style',\n",
       "        'box-sizing: content-box; position: absolute; left: 0; top: 0; z-index: 1;'\n",
       "    );\n",
       "\n",
       "    // Apply a ponyfill if ResizeObserver is not implemented by browser.\n",
       "    if (this.ResizeObserver === undefined) {\n",
       "        if (window.ResizeObserver !== undefined) {\n",
       "            this.ResizeObserver = window.ResizeObserver;\n",
       "        } else {\n",
       "            var obs = _JSXTOOLS_RESIZE_OBSERVER({});\n",
       "            this.ResizeObserver = obs.ResizeObserver;\n",
       "        }\n",
       "    }\n",
       "\n",
       "    this.resizeObserverInstance = new this.ResizeObserver(function (entries) {\n",
       "        var nentries = entries.length;\n",
       "        for (var i = 0; i < nentries; i++) {\n",
       "            var entry = entries[i];\n",
       "            var width, height;\n",
       "            if (entry.contentBoxSize) {\n",
       "                if (entry.contentBoxSize instanceof Array) {\n",
       "                    // Chrome 84 implements new version of spec.\n",
       "                    width = entry.contentBoxSize[0].inlineSize;\n",
       "                    height = entry.contentBoxSize[0].blockSize;\n",
       "                } else {\n",
       "                    // Firefox implements old version of spec.\n",
       "                    width = entry.contentBoxSize.inlineSize;\n",
       "                    height = entry.contentBoxSize.blockSize;\n",
       "                }\n",
       "            } else {\n",
       "                // Chrome <84 implements even older version of spec.\n",
       "                width = entry.contentRect.width;\n",
       "                height = entry.contentRect.height;\n",
       "            }\n",
       "\n",
       "            // Keep the size of the canvas and rubber band canvas in sync with\n",
       "            // the canvas container.\n",
       "            if (entry.devicePixelContentBoxSize) {\n",
       "                // Chrome 84 implements new version of spec.\n",
       "                canvas.setAttribute(\n",
       "                    'width',\n",
       "                    entry.devicePixelContentBoxSize[0].inlineSize\n",
       "                );\n",
       "                canvas.setAttribute(\n",
       "                    'height',\n",
       "                    entry.devicePixelContentBoxSize[0].blockSize\n",
       "                );\n",
       "            } else {\n",
       "                canvas.setAttribute('width', width * fig.ratio);\n",
       "                canvas.setAttribute('height', height * fig.ratio);\n",
       "            }\n",
       "            canvas.setAttribute(\n",
       "                'style',\n",
       "                'width: ' + width + 'px; height: ' + height + 'px;'\n",
       "            );\n",
       "\n",
       "            rubberband_canvas.setAttribute('width', width);\n",
       "            rubberband_canvas.setAttribute('height', height);\n",
       "\n",
       "            // And update the size in Python. We ignore the initial 0/0 size\n",
       "            // that occurs as the element is placed into the DOM, which should\n",
       "            // otherwise not happen due to the minimum size styling.\n",
       "            if (fig.ws.readyState == 1 && width != 0 && height != 0) {\n",
       "                fig.request_resize(width, height);\n",
       "            }\n",
       "        }\n",
       "    });\n",
       "    this.resizeObserverInstance.observe(canvas_div);\n",
       "\n",
       "    function on_mouse_event_closure(name) {\n",
       "        return function (event) {\n",
       "            return fig.mouse_event(event, name);\n",
       "        };\n",
       "    }\n",
       "\n",
       "    rubberband_canvas.addEventListener(\n",
       "        'mousedown',\n",
       "        on_mouse_event_closure('button_press')\n",
       "    );\n",
       "    rubberband_canvas.addEventListener(\n",
       "        'mouseup',\n",
       "        on_mouse_event_closure('button_release')\n",
       "    );\n",
       "    rubberband_canvas.addEventListener(\n",
       "        'dblclick',\n",
       "        on_mouse_event_closure('dblclick')\n",
       "    );\n",
       "    // Throttle sequential mouse events to 1 every 20ms.\n",
       "    rubberband_canvas.addEventListener(\n",
       "        'mousemove',\n",
       "        on_mouse_event_closure('motion_notify')\n",
       "    );\n",
       "\n",
       "    rubberband_canvas.addEventListener(\n",
       "        'mouseenter',\n",
       "        on_mouse_event_closure('figure_enter')\n",
       "    );\n",
       "    rubberband_canvas.addEventListener(\n",
       "        'mouseleave',\n",
       "        on_mouse_event_closure('figure_leave')\n",
       "    );\n",
       "\n",
       "    canvas_div.addEventListener('wheel', function (event) {\n",
       "        if (event.deltaY < 0) {\n",
       "            event.step = 1;\n",
       "        } else {\n",
       "            event.step = -1;\n",
       "        }\n",
       "        on_mouse_event_closure('scroll')(event);\n",
       "    });\n",
       "\n",
       "    canvas_div.appendChild(canvas);\n",
       "    canvas_div.appendChild(rubberband_canvas);\n",
       "\n",
       "    this.rubberband_context = rubberband_canvas.getContext('2d');\n",
       "    this.rubberband_context.strokeStyle = '#000000';\n",
       "\n",
       "    this._resize_canvas = function (width, height, forward) {\n",
       "        if (forward) {\n",
       "            canvas_div.style.width = width + 'px';\n",
       "            canvas_div.style.height = height + 'px';\n",
       "        }\n",
       "    };\n",
       "\n",
       "    // Disable right mouse context menu.\n",
       "    this.rubberband_canvas.addEventListener('contextmenu', function (_e) {\n",
       "        event.preventDefault();\n",
       "        return false;\n",
       "    });\n",
       "\n",
       "    function set_focus() {\n",
       "        canvas.focus();\n",
       "        canvas_div.focus();\n",
       "    }\n",
       "\n",
       "    window.setTimeout(set_focus, 100);\n",
       "};\n",
       "\n",
       "mpl.figure.prototype._init_toolbar = function () {\n",
       "    var fig = this;\n",
       "\n",
       "    var toolbar = document.createElement('div');\n",
       "    toolbar.classList = 'mpl-toolbar';\n",
       "    this.root.appendChild(toolbar);\n",
       "\n",
       "    function on_click_closure(name) {\n",
       "        return function (_event) {\n",
       "            return fig.toolbar_button_onclick(name);\n",
       "        };\n",
       "    }\n",
       "\n",
       "    function on_mouseover_closure(tooltip) {\n",
       "        return function (event) {\n",
       "            if (!event.currentTarget.disabled) {\n",
       "                return fig.toolbar_button_onmouseover(tooltip);\n",
       "            }\n",
       "        };\n",
       "    }\n",
       "\n",
       "    fig.buttons = {};\n",
       "    var buttonGroup = document.createElement('div');\n",
       "    buttonGroup.classList = 'mpl-button-group';\n",
       "    for (var toolbar_ind in mpl.toolbar_items) {\n",
       "        var name = mpl.toolbar_items[toolbar_ind][0];\n",
       "        var tooltip = mpl.toolbar_items[toolbar_ind][1];\n",
       "        var image = mpl.toolbar_items[toolbar_ind][2];\n",
       "        var method_name = mpl.toolbar_items[toolbar_ind][3];\n",
       "\n",
       "        if (!name) {\n",
       "            /* Instead of a spacer, we start a new button group. */\n",
       "            if (buttonGroup.hasChildNodes()) {\n",
       "                toolbar.appendChild(buttonGroup);\n",
       "            }\n",
       "            buttonGroup = document.createElement('div');\n",
       "            buttonGroup.classList = 'mpl-button-group';\n",
       "            continue;\n",
       "        }\n",
       "\n",
       "        var button = (fig.buttons[name] = document.createElement('button'));\n",
       "        button.classList = 'mpl-widget';\n",
       "        button.setAttribute('role', 'button');\n",
       "        button.setAttribute('aria-disabled', 'false');\n",
       "        button.addEventListener('click', on_click_closure(method_name));\n",
       "        button.addEventListener('mouseover', on_mouseover_closure(tooltip));\n",
       "\n",
       "        var icon_img = document.createElement('img');\n",
       "        icon_img.src = '_images/' + image + '.png';\n",
       "        icon_img.srcset = '_images/' + image + '_large.png 2x';\n",
       "        icon_img.alt = tooltip;\n",
       "        button.appendChild(icon_img);\n",
       "\n",
       "        buttonGroup.appendChild(button);\n",
       "    }\n",
       "\n",
       "    if (buttonGroup.hasChildNodes()) {\n",
       "        toolbar.appendChild(buttonGroup);\n",
       "    }\n",
       "\n",
       "    var fmt_picker = document.createElement('select');\n",
       "    fmt_picker.classList = 'mpl-widget';\n",
       "    toolbar.appendChild(fmt_picker);\n",
       "    this.format_dropdown = fmt_picker;\n",
       "\n",
       "    for (var ind in mpl.extensions) {\n",
       "        var fmt = mpl.extensions[ind];\n",
       "        var option = document.createElement('option');\n",
       "        option.selected = fmt === mpl.default_extension;\n",
       "        option.innerHTML = fmt;\n",
       "        fmt_picker.appendChild(option);\n",
       "    }\n",
       "\n",
       "    var status_bar = document.createElement('span');\n",
       "    status_bar.classList = 'mpl-message';\n",
       "    toolbar.appendChild(status_bar);\n",
       "    this.message = status_bar;\n",
       "};\n",
       "\n",
       "mpl.figure.prototype.request_resize = function (x_pixels, y_pixels) {\n",
       "    // Request matplotlib to resize the figure. Matplotlib will then trigger a resize in the client,\n",
       "    // which will in turn request a refresh of the image.\n",
       "    this.send_message('resize', { width: x_pixels, height: y_pixels });\n",
       "};\n",
       "\n",
       "mpl.figure.prototype.send_message = function (type, properties) {\n",
       "    properties['type'] = type;\n",
       "    properties['figure_id'] = this.id;\n",
       "    this.ws.send(JSON.stringify(properties));\n",
       "};\n",
       "\n",
       "mpl.figure.prototype.send_draw_message = function () {\n",
       "    if (!this.waiting) {\n",
       "        this.waiting = true;\n",
       "        this.ws.send(JSON.stringify({ type: 'draw', figure_id: this.id }));\n",
       "    }\n",
       "};\n",
       "\n",
       "mpl.figure.prototype.handle_save = function (fig, _msg) {\n",
       "    var format_dropdown = fig.format_dropdown;\n",
       "    var format = format_dropdown.options[format_dropdown.selectedIndex].value;\n",
       "    fig.ondownload(fig, format);\n",
       "};\n",
       "\n",
       "mpl.figure.prototype.handle_resize = function (fig, msg) {\n",
       "    var size = msg['size'];\n",
       "    if (size[0] !== fig.canvas.width || size[1] !== fig.canvas.height) {\n",
       "        fig._resize_canvas(size[0], size[1], msg['forward']);\n",
       "        fig.send_message('refresh', {});\n",
       "    }\n",
       "};\n",
       "\n",
       "mpl.figure.prototype.handle_rubberband = function (fig, msg) {\n",
       "    var x0 = msg['x0'] / fig.ratio;\n",
       "    var y0 = (fig.canvas.height - msg['y0']) / fig.ratio;\n",
       "    var x1 = msg['x1'] / fig.ratio;\n",
       "    var y1 = (fig.canvas.height - msg['y1']) / fig.ratio;\n",
       "    x0 = Math.floor(x0) + 0.5;\n",
       "    y0 = Math.floor(y0) + 0.5;\n",
       "    x1 = Math.floor(x1) + 0.5;\n",
       "    y1 = Math.floor(y1) + 0.5;\n",
       "    var min_x = Math.min(x0, x1);\n",
       "    var min_y = Math.min(y0, y1);\n",
       "    var width = Math.abs(x1 - x0);\n",
       "    var height = Math.abs(y1 - y0);\n",
       "\n",
       "    fig.rubberband_context.clearRect(\n",
       "        0,\n",
       "        0,\n",
       "        fig.canvas.width / fig.ratio,\n",
       "        fig.canvas.height / fig.ratio\n",
       "    );\n",
       "\n",
       "    fig.rubberband_context.strokeRect(min_x, min_y, width, height);\n",
       "};\n",
       "\n",
       "mpl.figure.prototype.handle_figure_label = function (fig, msg) {\n",
       "    // Updates the figure title.\n",
       "    fig.header.textContent = msg['label'];\n",
       "};\n",
       "\n",
       "mpl.figure.prototype.handle_cursor = function (fig, msg) {\n",
       "    var cursor = msg['cursor'];\n",
       "    switch (cursor) {\n",
       "        case 0:\n",
       "            cursor = 'pointer';\n",
       "            break;\n",
       "        case 1:\n",
       "            cursor = 'default';\n",
       "            break;\n",
       "        case 2:\n",
       "            cursor = 'crosshair';\n",
       "            break;\n",
       "        case 3:\n",
       "            cursor = 'move';\n",
       "            break;\n",
       "    }\n",
       "    fig.rubberband_canvas.style.cursor = cursor;\n",
       "};\n",
       "\n",
       "mpl.figure.prototype.handle_message = function (fig, msg) {\n",
       "    fig.message.textContent = msg['message'];\n",
       "};\n",
       "\n",
       "mpl.figure.prototype.handle_draw = function (fig, _msg) {\n",
       "    // Request the server to send over a new figure.\n",
       "    fig.send_draw_message();\n",
       "};\n",
       "\n",
       "mpl.figure.prototype.handle_image_mode = function (fig, msg) {\n",
       "    fig.image_mode = msg['mode'];\n",
       "};\n",
       "\n",
       "mpl.figure.prototype.handle_history_buttons = function (fig, msg) {\n",
       "    for (var key in msg) {\n",
       "        if (!(key in fig.buttons)) {\n",
       "            continue;\n",
       "        }\n",
       "        fig.buttons[key].disabled = !msg[key];\n",
       "        fig.buttons[key].setAttribute('aria-disabled', !msg[key]);\n",
       "    }\n",
       "};\n",
       "\n",
       "mpl.figure.prototype.handle_navigate_mode = function (fig, msg) {\n",
       "    if (msg['mode'] === 'PAN') {\n",
       "        fig.buttons['Pan'].classList.add('active');\n",
       "        fig.buttons['Zoom'].classList.remove('active');\n",
       "    } else if (msg['mode'] === 'ZOOM') {\n",
       "        fig.buttons['Pan'].classList.remove('active');\n",
       "        fig.buttons['Zoom'].classList.add('active');\n",
       "    } else {\n",
       "        fig.buttons['Pan'].classList.remove('active');\n",
       "        fig.buttons['Zoom'].classList.remove('active');\n",
       "    }\n",
       "};\n",
       "\n",
       "mpl.figure.prototype.updated_canvas_event = function () {\n",
       "    // Called whenever the canvas gets updated.\n",
       "    this.send_message('ack', {});\n",
       "};\n",
       "\n",
       "// A function to construct a web socket function for onmessage handling.\n",
       "// Called in the figure constructor.\n",
       "mpl.figure.prototype._make_on_message_function = function (fig) {\n",
       "    return function socket_on_message(evt) {\n",
       "        if (evt.data instanceof Blob) {\n",
       "            var img = evt.data;\n",
       "            if (img.type !== 'image/png') {\n",
       "                /* FIXME: We get \"Resource interpreted as Image but\n",
       "                 * transferred with MIME type text/plain:\" errors on\n",
       "                 * Chrome.  But how to set the MIME type?  It doesn't seem\n",
       "                 * to be part of the websocket stream */\n",
       "                img.type = 'image/png';\n",
       "            }\n",
       "\n",
       "            /* Free the memory for the previous frames */\n",
       "            if (fig.imageObj.src) {\n",
       "                (window.URL || window.webkitURL).revokeObjectURL(\n",
       "                    fig.imageObj.src\n",
       "                );\n",
       "            }\n",
       "\n",
       "            fig.imageObj.src = (window.URL || window.webkitURL).createObjectURL(\n",
       "                img\n",
       "            );\n",
       "            fig.updated_canvas_event();\n",
       "            fig.waiting = false;\n",
       "            return;\n",
       "        } else if (\n",
       "            typeof evt.data === 'string' &&\n",
       "            evt.data.slice(0, 21) === 'data:image/png;base64'\n",
       "        ) {\n",
       "            fig.imageObj.src = evt.data;\n",
       "            fig.updated_canvas_event();\n",
       "            fig.waiting = false;\n",
       "            return;\n",
       "        }\n",
       "\n",
       "        var msg = JSON.parse(evt.data);\n",
       "        var msg_type = msg['type'];\n",
       "\n",
       "        // Call the  \"handle_{type}\" callback, which takes\n",
       "        // the figure and JSON message as its only arguments.\n",
       "        try {\n",
       "            var callback = fig['handle_' + msg_type];\n",
       "        } catch (e) {\n",
       "            console.log(\n",
       "                \"No handler for the '\" + msg_type + \"' message type: \",\n",
       "                msg\n",
       "            );\n",
       "            return;\n",
       "        }\n",
       "\n",
       "        if (callback) {\n",
       "            try {\n",
       "                // console.log(\"Handling '\" + msg_type + \"' message: \", msg);\n",
       "                callback(fig, msg);\n",
       "            } catch (e) {\n",
       "                console.log(\n",
       "                    \"Exception inside the 'handler_\" + msg_type + \"' callback:\",\n",
       "                    e,\n",
       "                    e.stack,\n",
       "                    msg\n",
       "                );\n",
       "            }\n",
       "        }\n",
       "    };\n",
       "};\n",
       "\n",
       "// from http://stackoverflow.com/questions/1114465/getting-mouse-location-in-canvas\n",
       "mpl.findpos = function (e) {\n",
       "    //this section is from http://www.quirksmode.org/js/events_properties.html\n",
       "    var targ;\n",
       "    if (!e) {\n",
       "        e = window.event;\n",
       "    }\n",
       "    if (e.target) {\n",
       "        targ = e.target;\n",
       "    } else if (e.srcElement) {\n",
       "        targ = e.srcElement;\n",
       "    }\n",
       "    if (targ.nodeType === 3) {\n",
       "        // defeat Safari bug\n",
       "        targ = targ.parentNode;\n",
       "    }\n",
       "\n",
       "    // pageX,Y are the mouse positions relative to the document\n",
       "    var boundingRect = targ.getBoundingClientRect();\n",
       "    var x = e.pageX - (boundingRect.left + document.body.scrollLeft);\n",
       "    var y = e.pageY - (boundingRect.top + document.body.scrollTop);\n",
       "\n",
       "    return { x: x, y: y };\n",
       "};\n",
       "\n",
       "/*\n",
       " * return a copy of an object with only non-object keys\n",
       " * we need this to avoid circular references\n",
       " * http://stackoverflow.com/a/24161582/3208463\n",
       " */\n",
       "function simpleKeys(original) {\n",
       "    return Object.keys(original).reduce(function (obj, key) {\n",
       "        if (typeof original[key] !== 'object') {\n",
       "            obj[key] = original[key];\n",
       "        }\n",
       "        return obj;\n",
       "    }, {});\n",
       "}\n",
       "\n",
       "mpl.figure.prototype.mouse_event = function (event, name) {\n",
       "    var canvas_pos = mpl.findpos(event);\n",
       "\n",
       "    if (name === 'button_press') {\n",
       "        this.canvas.focus();\n",
       "        this.canvas_div.focus();\n",
       "    }\n",
       "\n",
       "    var x = canvas_pos.x * this.ratio;\n",
       "    var y = canvas_pos.y * this.ratio;\n",
       "\n",
       "    this.send_message(name, {\n",
       "        x: x,\n",
       "        y: y,\n",
       "        button: event.button,\n",
       "        step: event.step,\n",
       "        guiEvent: simpleKeys(event),\n",
       "    });\n",
       "\n",
       "    /* This prevents the web browser from automatically changing to\n",
       "     * the text insertion cursor when the button is pressed.  We want\n",
       "     * to control all of the cursor setting manually through the\n",
       "     * 'cursor' event from matplotlib */\n",
       "    event.preventDefault();\n",
       "    return false;\n",
       "};\n",
       "\n",
       "mpl.figure.prototype._key_event_extra = function (_event, _name) {\n",
       "    // Handle any extra behaviour associated with a key event\n",
       "};\n",
       "\n",
       "mpl.figure.prototype.key_event = function (event, name) {\n",
       "    // Prevent repeat events\n",
       "    if (name === 'key_press') {\n",
       "        if (event.key === this._key) {\n",
       "            return;\n",
       "        } else {\n",
       "            this._key = event.key;\n",
       "        }\n",
       "    }\n",
       "    if (name === 'key_release') {\n",
       "        this._key = null;\n",
       "    }\n",
       "\n",
       "    var value = '';\n",
       "    if (event.ctrlKey && event.key !== 'Control') {\n",
       "        value += 'ctrl+';\n",
       "    }\n",
       "    else if (event.altKey && event.key !== 'Alt') {\n",
       "        value += 'alt+';\n",
       "    }\n",
       "    else if (event.shiftKey && event.key !== 'Shift') {\n",
       "        value += 'shift+';\n",
       "    }\n",
       "\n",
       "    value += 'k' + event.key;\n",
       "\n",
       "    this._key_event_extra(event, name);\n",
       "\n",
       "    this.send_message(name, { key: value, guiEvent: simpleKeys(event) });\n",
       "    return false;\n",
       "};\n",
       "\n",
       "mpl.figure.prototype.toolbar_button_onclick = function (name) {\n",
       "    if (name === 'download') {\n",
       "        this.handle_save(this, null);\n",
       "    } else {\n",
       "        this.send_message('toolbar_button', { name: name });\n",
       "    }\n",
       "};\n",
       "\n",
       "mpl.figure.prototype.toolbar_button_onmouseover = function (tooltip) {\n",
       "    this.message.textContent = tooltip;\n",
       "};\n",
       "\n",
       "///////////////// REMAINING CONTENT GENERATED BY embed_js.py /////////////////\n",
       "// prettier-ignore\n",
       "var _JSXTOOLS_RESIZE_OBSERVER=function(A){var t,i=new WeakMap,n=new WeakMap,a=new WeakMap,r=new WeakMap,o=new Set;function s(e){if(!(this instanceof s))throw new TypeError(\"Constructor requires 'new' operator\");i.set(this,e)}function h(){throw new TypeError(\"Function is not a constructor\")}function c(e,t,i,n){e=0 in arguments?Number(arguments[0]):0,t=1 in arguments?Number(arguments[1]):0,i=2 in arguments?Number(arguments[2]):0,n=3 in arguments?Number(arguments[3]):0,this.right=(this.x=this.left=e)+(this.width=i),this.bottom=(this.y=this.top=t)+(this.height=n),Object.freeze(this)}function d(){t=requestAnimationFrame(d);var s=new WeakMap,p=new Set;o.forEach((function(t){r.get(t).forEach((function(i){var r=t instanceof window.SVGElement,o=a.get(t),d=r?0:parseFloat(o.paddingTop),f=r?0:parseFloat(o.paddingRight),l=r?0:parseFloat(o.paddingBottom),u=r?0:parseFloat(o.paddingLeft),g=r?0:parseFloat(o.borderTopWidth),m=r?0:parseFloat(o.borderRightWidth),w=r?0:parseFloat(o.borderBottomWidth),b=u+f,F=d+l,v=(r?0:parseFloat(o.borderLeftWidth))+m,W=g+w,y=r?0:t.offsetHeight-W-t.clientHeight,E=r?0:t.offsetWidth-v-t.clientWidth,R=b+v,z=F+W,M=r?t.width:parseFloat(o.width)-R-E,O=r?t.height:parseFloat(o.height)-z-y;if(n.has(t)){var k=n.get(t);if(k[0]===M&&k[1]===O)return}n.set(t,[M,O]);var S=Object.create(h.prototype);S.target=t,S.contentRect=new c(u,d,M,O),s.has(i)||(s.set(i,[]),p.add(i)),s.get(i).push(S)}))})),p.forEach((function(e){i.get(e).call(e,s.get(e),e)}))}return s.prototype.observe=function(i){if(i instanceof window.Element){r.has(i)||(r.set(i,new Set),o.add(i),a.set(i,window.getComputedStyle(i)));var n=r.get(i);n.has(this)||n.add(this),cancelAnimationFrame(t),t=requestAnimationFrame(d)}},s.prototype.unobserve=function(i){if(i instanceof window.Element&&r.has(i)){var n=r.get(i);n.has(this)&&(n.delete(this),n.size||(r.delete(i),o.delete(i))),n.size||r.delete(i),o.size||cancelAnimationFrame(t)}},A.DOMRectReadOnly=c,A.ResizeObserver=s,A.ResizeObserverEntry=h,A}; // eslint-disable-line\n",
       "mpl.toolbar_items = [[\"Home\", \"Reset original view\", \"fa fa-home icon-home\", \"home\"], [\"Back\", \"Back to previous view\", \"fa fa-arrow-left icon-arrow-left\", \"back\"], [\"Forward\", \"Forward to next view\", \"fa fa-arrow-right icon-arrow-right\", \"forward\"], [\"\", \"\", \"\", \"\"], [\"Pan\", \"Left button pans, Right button zooms\\nx/y fixes axis, CTRL fixes aspect\", \"fa fa-arrows icon-move\", \"pan\"], [\"Zoom\", \"Zoom to rectangle\\nx/y fixes axis, CTRL fixes aspect\", \"fa fa-square-o icon-check-empty\", \"zoom\"], [\"\", \"\", \"\", \"\"], [\"Download\", \"Download plot\", \"fa fa-floppy-o icon-save\", \"download\"]];\n",
       "\n",
       "mpl.extensions = [\"eps\", \"jpeg\", \"pgf\", \"pdf\", \"png\", \"ps\", \"raw\", \"svg\", \"tif\"];\n",
       "\n",
       "mpl.default_extension = \"png\";/* global mpl */\n",
       "\n",
       "var comm_websocket_adapter = function (comm) {\n",
       "    // Create a \"websocket\"-like object which calls the given IPython comm\n",
       "    // object with the appropriate methods. Currently this is a non binary\n",
       "    // socket, so there is still some room for performance tuning.\n",
       "    var ws = {};\n",
       "\n",
       "    ws.binaryType = comm.kernel.ws.binaryType;\n",
       "    ws.readyState = comm.kernel.ws.readyState;\n",
       "    function updateReadyState(_event) {\n",
       "        if (comm.kernel.ws) {\n",
       "            ws.readyState = comm.kernel.ws.readyState;\n",
       "        } else {\n",
       "            ws.readyState = 3; // Closed state.\n",
       "        }\n",
       "    }\n",
       "    comm.kernel.ws.addEventListener('open', updateReadyState);\n",
       "    comm.kernel.ws.addEventListener('close', updateReadyState);\n",
       "    comm.kernel.ws.addEventListener('error', updateReadyState);\n",
       "\n",
       "    ws.close = function () {\n",
       "        comm.close();\n",
       "    };\n",
       "    ws.send = function (m) {\n",
       "        //console.log('sending', m);\n",
       "        comm.send(m);\n",
       "    };\n",
       "    // Register the callback with on_msg.\n",
       "    comm.on_msg(function (msg) {\n",
       "        //console.log('receiving', msg['content']['data'], msg);\n",
       "        var data = msg['content']['data'];\n",
       "        if (data['blob'] !== undefined) {\n",
       "            data = {\n",
       "                data: new Blob(msg['buffers'], { type: data['blob'] }),\n",
       "            };\n",
       "        }\n",
       "        // Pass the mpl event to the overridden (by mpl) onmessage function.\n",
       "        ws.onmessage(data);\n",
       "    });\n",
       "    return ws;\n",
       "};\n",
       "\n",
       "mpl.mpl_figure_comm = function (comm, msg) {\n",
       "    // This is the function which gets called when the mpl process\n",
       "    // starts-up an IPython Comm through the \"matplotlib\" channel.\n",
       "\n",
       "    var id = msg.content.data.id;\n",
       "    // Get hold of the div created by the display call when the Comm\n",
       "    // socket was opened in Python.\n",
       "    var element = document.getElementById(id);\n",
       "    var ws_proxy = comm_websocket_adapter(comm);\n",
       "\n",
       "    function ondownload(figure, _format) {\n",
       "        window.open(figure.canvas.toDataURL());\n",
       "    }\n",
       "\n",
       "    var fig = new mpl.figure(id, ws_proxy, ondownload, element);\n",
       "\n",
       "    // Call onopen now - mpl needs it, as it is assuming we've passed it a real\n",
       "    // web socket which is closed, not our websocket->open comm proxy.\n",
       "    ws_proxy.onopen();\n",
       "\n",
       "    fig.parent_element = element;\n",
       "    fig.cell_info = mpl.find_output_cell(\"<div id='\" + id + \"'></div>\");\n",
       "    if (!fig.cell_info) {\n",
       "        console.error('Failed to find cell for figure', id, fig);\n",
       "        return;\n",
       "    }\n",
       "    fig.cell_info[0].output_area.element.on(\n",
       "        'cleared',\n",
       "        { fig: fig },\n",
       "        fig._remove_fig_handler\n",
       "    );\n",
       "};\n",
       "\n",
       "mpl.figure.prototype.handle_close = function (fig, msg) {\n",
       "    var width = fig.canvas.width / fig.ratio;\n",
       "    fig.cell_info[0].output_area.element.off(\n",
       "        'cleared',\n",
       "        fig._remove_fig_handler\n",
       "    );\n",
       "    fig.resizeObserverInstance.unobserve(fig.canvas_div);\n",
       "\n",
       "    // Update the output cell to use the data from the current canvas.\n",
       "    fig.push_to_output();\n",
       "    var dataURL = fig.canvas.toDataURL();\n",
       "    // Re-enable the keyboard manager in IPython - without this line, in FF,\n",
       "    // the notebook keyboard shortcuts fail.\n",
       "    IPython.keyboard_manager.enable();\n",
       "    fig.parent_element.innerHTML =\n",
       "        '<img src=\"' + dataURL + '\" width=\"' + width + '\">';\n",
       "    fig.close_ws(fig, msg);\n",
       "};\n",
       "\n",
       "mpl.figure.prototype.close_ws = function (fig, msg) {\n",
       "    fig.send_message('closing', msg);\n",
       "    // fig.ws.close()\n",
       "};\n",
       "\n",
       "mpl.figure.prototype.push_to_output = function (_remove_interactive) {\n",
       "    // Turn the data on the canvas into data in the output cell.\n",
       "    var width = this.canvas.width / this.ratio;\n",
       "    var dataURL = this.canvas.toDataURL();\n",
       "    this.cell_info[1]['text/html'] =\n",
       "        '<img src=\"' + dataURL + '\" width=\"' + width + '\">';\n",
       "};\n",
       "\n",
       "mpl.figure.prototype.updated_canvas_event = function () {\n",
       "    // Tell IPython that the notebook contents must change.\n",
       "    IPython.notebook.set_dirty(true);\n",
       "    this.send_message('ack', {});\n",
       "    var fig = this;\n",
       "    // Wait a second, then push the new image to the DOM so\n",
       "    // that it is saved nicely (might be nice to debounce this).\n",
       "    setTimeout(function () {\n",
       "        fig.push_to_output();\n",
       "    }, 1000);\n",
       "};\n",
       "\n",
       "mpl.figure.prototype._init_toolbar = function () {\n",
       "    var fig = this;\n",
       "\n",
       "    var toolbar = document.createElement('div');\n",
       "    toolbar.classList = 'btn-toolbar';\n",
       "    this.root.appendChild(toolbar);\n",
       "\n",
       "    function on_click_closure(name) {\n",
       "        return function (_event) {\n",
       "            return fig.toolbar_button_onclick(name);\n",
       "        };\n",
       "    }\n",
       "\n",
       "    function on_mouseover_closure(tooltip) {\n",
       "        return function (event) {\n",
       "            if (!event.currentTarget.disabled) {\n",
       "                return fig.toolbar_button_onmouseover(tooltip);\n",
       "            }\n",
       "        };\n",
       "    }\n",
       "\n",
       "    fig.buttons = {};\n",
       "    var buttonGroup = document.createElement('div');\n",
       "    buttonGroup.classList = 'btn-group';\n",
       "    var button;\n",
       "    for (var toolbar_ind in mpl.toolbar_items) {\n",
       "        var name = mpl.toolbar_items[toolbar_ind][0];\n",
       "        var tooltip = mpl.toolbar_items[toolbar_ind][1];\n",
       "        var image = mpl.toolbar_items[toolbar_ind][2];\n",
       "        var method_name = mpl.toolbar_items[toolbar_ind][3];\n",
       "\n",
       "        if (!name) {\n",
       "            /* Instead of a spacer, we start a new button group. */\n",
       "            if (buttonGroup.hasChildNodes()) {\n",
       "                toolbar.appendChild(buttonGroup);\n",
       "            }\n",
       "            buttonGroup = document.createElement('div');\n",
       "            buttonGroup.classList = 'btn-group';\n",
       "            continue;\n",
       "        }\n",
       "\n",
       "        button = fig.buttons[name] = document.createElement('button');\n",
       "        button.classList = 'btn btn-default';\n",
       "        button.href = '#';\n",
       "        button.title = name;\n",
       "        button.innerHTML = '<i class=\"fa ' + image + ' fa-lg\"></i>';\n",
       "        button.addEventListener('click', on_click_closure(method_name));\n",
       "        button.addEventListener('mouseover', on_mouseover_closure(tooltip));\n",
       "        buttonGroup.appendChild(button);\n",
       "    }\n",
       "\n",
       "    if (buttonGroup.hasChildNodes()) {\n",
       "        toolbar.appendChild(buttonGroup);\n",
       "    }\n",
       "\n",
       "    // Add the status bar.\n",
       "    var status_bar = document.createElement('span');\n",
       "    status_bar.classList = 'mpl-message pull-right';\n",
       "    toolbar.appendChild(status_bar);\n",
       "    this.message = status_bar;\n",
       "\n",
       "    // Add the close button to the window.\n",
       "    var buttongrp = document.createElement('div');\n",
       "    buttongrp.classList = 'btn-group inline pull-right';\n",
       "    button = document.createElement('button');\n",
       "    button.classList = 'btn btn-mini btn-primary';\n",
       "    button.href = '#';\n",
       "    button.title = 'Stop Interaction';\n",
       "    button.innerHTML = '<i class=\"fa fa-power-off icon-remove icon-large\"></i>';\n",
       "    button.addEventListener('click', function (_evt) {\n",
       "        fig.handle_close(fig, {});\n",
       "    });\n",
       "    button.addEventListener(\n",
       "        'mouseover',\n",
       "        on_mouseover_closure('Stop Interaction')\n",
       "    );\n",
       "    buttongrp.appendChild(button);\n",
       "    var titlebar = this.root.querySelector('.ui-dialog-titlebar');\n",
       "    titlebar.insertBefore(buttongrp, titlebar.firstChild);\n",
       "};\n",
       "\n",
       "mpl.figure.prototype._remove_fig_handler = function (event) {\n",
       "    var fig = event.data.fig;\n",
       "    if (event.target !== this) {\n",
       "        // Ignore bubbled events from children.\n",
       "        return;\n",
       "    }\n",
       "    fig.close_ws(fig, {});\n",
       "};\n",
       "\n",
       "mpl.figure.prototype._root_extra_style = function (el) {\n",
       "    el.style.boxSizing = 'content-box'; // override notebook setting of border-box.\n",
       "};\n",
       "\n",
       "mpl.figure.prototype._canvas_extra_style = function (el) {\n",
       "    // this is important to make the div 'focusable\n",
       "    el.setAttribute('tabindex', 0);\n",
       "    // reach out to IPython and tell the keyboard manager to turn it's self\n",
       "    // off when our div gets focus\n",
       "\n",
       "    // location in version 3\n",
       "    if (IPython.notebook.keyboard_manager) {\n",
       "        IPython.notebook.keyboard_manager.register_events(el);\n",
       "    } else {\n",
       "        // location in version 2\n",
       "        IPython.keyboard_manager.register_events(el);\n",
       "    }\n",
       "};\n",
       "\n",
       "mpl.figure.prototype._key_event_extra = function (event, _name) {\n",
       "    var manager = IPython.notebook.keyboard_manager;\n",
       "    if (!manager) {\n",
       "        manager = IPython.keyboard_manager;\n",
       "    }\n",
       "\n",
       "    // Check for shift+enter\n",
       "    if (event.shiftKey && event.which === 13) {\n",
       "        this.canvas_div.blur();\n",
       "        // select the cell after this one\n",
       "        var index = IPython.notebook.find_cell_index(this.cell_info[0]);\n",
       "        IPython.notebook.select(index + 1);\n",
       "    }\n",
       "};\n",
       "\n",
       "mpl.figure.prototype.handle_save = function (fig, _msg) {\n",
       "    fig.ondownload(fig, null);\n",
       "};\n",
       "\n",
       "mpl.find_output_cell = function (html_output) {\n",
       "    // Return the cell and output element which can be found *uniquely* in the notebook.\n",
       "    // Note - this is a bit hacky, but it is done because the \"notebook_saving.Notebook\"\n",
       "    // IPython event is triggered only after the cells have been serialised, which for\n",
       "    // our purposes (turning an active figure into a static one), is too late.\n",
       "    var cells = IPython.notebook.get_cells();\n",
       "    var ncells = cells.length;\n",
       "    for (var i = 0; i < ncells; i++) {\n",
       "        var cell = cells[i];\n",
       "        if (cell.cell_type === 'code') {\n",
       "            for (var j = 0; j < cell.output_area.outputs.length; j++) {\n",
       "                var data = cell.output_area.outputs[j];\n",
       "                if (data.data) {\n",
       "                    // IPython >= 3 moved mimebundle to data attribute of output\n",
       "                    data = data.data;\n",
       "                }\n",
       "                if (data['text/html'] === html_output) {\n",
       "                    return [cell, data, j];\n",
       "                }\n",
       "            }\n",
       "        }\n",
       "    }\n",
       "};\n",
       "\n",
       "// Register the function which deals with the matplotlib target/channel.\n",
       "// The kernel may be null if the page has been refreshed.\n",
       "if (IPython.notebook.kernel !== null) {\n",
       "    IPython.notebook.kernel.comm_manager.register_target(\n",
       "        'matplotlib',\n",
       "        mpl.mpl_figure_comm\n",
       "    );\n",
       "}\n"
      ],
      "text/plain": [
       "<IPython.core.display.Javascript object>"
      ]
     },
     "metadata": {},
     "output_type": "display_data"
    },
    {
     "data": {
      "text/html": [
       "<img src=\"data:image/png;base64,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\" width=\"640\">"
      ],
      "text/plain": [
       "<IPython.core.display.HTML object>"
      ]
     },
     "metadata": {},
     "output_type": "display_data"
    },
    {
     "data": {
      "application/vnd.jupyter.widget-view+json": {
       "model_id": "1dbad776430a44d3b1252912efb29094",
       "version_major": 2,
       "version_minor": 0
      },
      "text/plain": [
       "interactive(children=(FloatSlider(value=0.0, description='x_e', max=30.0, step=0.01), FloatSlider(value=4.6112…"
      ]
     },
     "metadata": {},
     "output_type": "display_data"
    }
   ],
   "source": [
    "from scipy.optimize import fmin\n",
    "\n",
    "def error_func(theta, target):\n",
    "    Ts = forward_kinematics(T0, l, theta)\n",
    "    Te = matrix([from_trans(Ts[-1])]).T\n",
    "    e = target - Te\n",
    "    return linalg.norm(e)\n",
    "\n",
    "theta = random.random(N)\n",
    "def inverse_kinematics(x_e, y_e, theta_e, theta):\n",
    "    target = matrix([[x_e, y_e, theta_e]]).T\n",
    "    func = lambda t: error_func(t, target)\n",
    "    return fmin(func, theta)\n",
    "\n",
    "T = forward_kinematics(T0, l, theta)\n",
    "show_robot_arm(T)\n",
    "Te = matrix([from_trans(T[-1])])\n",
    "\n",
    "@interact(x_e=(0, max_len, 0.01), y_e=(-max_len, max_len, 0.01), theta_e=(-pi, pi, 0.01), theta=fixed(theta))\n",
    "def set_end_effector(x_e=Te[0,0], y_e=Te[0,1], theta_e=Te[0,2], theta=theta):\n",
    "    theta = inverse_kinematics(x_e, y_e, theta_e, theta)\n",
    "    T = forward_kinematics(T0, l, theta)\n",
    "    show_robot_arm(T)\n",
    "    return theta\n"
   ]
  },
  {
   "cell_type": "code",
   "execution_count": null,
   "metadata": {},
   "outputs": [],
   "source": []
  }
 ],
 "metadata": {
  "kernelspec": {
   "display_name": "Python 3",
   "language": "python",
   "name": "python3"
  },
  "language_info": {
   "codemirror_mode": {
    "name": "ipython",
    "version": 3
   },
   "file_extension": ".py",
   "mimetype": "text/x-python",
   "name": "python",
   "nbconvert_exporter": "python",
   "pygments_lexer": "ipython3",
   "version": "3.8.8"
  },
  "widgets": {
   "state": {
    "0065ff23834146a99efd42e25d3294dc": {
     "views": []
    },
    "00c59707f24e4d80b90a6ca59c255d84": {
     "views": [
      {
       "cell": {
        "cell_type": "code",
        "execution_count": 7,
        "metadata": {
         "collapsed": false,
         "trusted": true
        },
        "outputs": [
         {
          "data": {
           "image/png": "iVBORw0KGgoAAAANSUhEUgAAAz4AAAKPCAYAAACsKh+8AAAABHNCSVQICAgIfAhkiAAAAAlwSFlz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\nwgcAAGjv/wNiuh1JRm4QPQAAAABJRU5ErkJggg==\n",
           "text/plain": "<matplotlib.figure.Figure at 0x7f7e6e60add0>"
          },
          "metadata": {},
          "output_type": "display_data"
         }
        ],
        "source": "for i in range(N):\n    @interact(value=(-pi/2, pi/2, 0.1), n=fixed(i))\n    def set_joint_angle(n, value=0):\n        global a\n        a[n] = value\n        T = forward_kinematics(T0, l, a)\n        show_robot_arm(T)\n"
       },
       "cell_index": 10,
       "root": true
      }
     ]
    },
    "00f75449d7d54ba5ba468dfebddab990": {
     "views": []
    },
    "01197fb664744b00857456cf154e7124": {
     "views": []
    },
    "025623f89e024585b05e5f3de8c8fc1e": {
     "views": []
    },
    "02ac05d57f5c42659f040340dcd55ea9": {
     "views": []
    },
    "02d7dfe535434c1698a0f8eeb2a0c835": {
     "views": []
    },
    "02e74237e1be4b489983c17eceffc582": {
     "views": []
    },
    "0306388837804817b89e33a7a41c615d": {
     "views": []
    },
    "03bec2d2dbcd4c34bc951fcd36b34c47": {
     "views": []
    },
    "03bfc095b8424b54aea7b3925bc1c883": {
     "views": []
    },
    "0411d5af1cc945d1b7ef6f618a533290": {
     "views": []
    },
    "044b6e3699664a5ebf3f52745ef9604d": {
     "views": []
    },
    "046acc5e6d8e4bbcaf7d310d440670d0": {
     "views": []
    },
    "04bc6c3f6f1c4db1a7da8baafcaf48ab": {
     "views": []
    },
    "05860612929a4837a45ff10c7098f21c": {
     "views": []
    },
    "066d1043b4ca4cb6a4a52a0e7396aecd": {
     "views": []
    },
    "06cf2a6f329f44e48da63b0e8d2be23f": {
     "views": []
    },
    "0706dfac87a642468fc6d2902a277340": {
     "views": []
    },
    "071db28e83174fadb6480fa59dc351cd": {
     "views": []
    },
    "078cd19f8c5b4e48a16eedf57d4139f5": {
     "views": []
    },
    "07b4147354dc482eadf0d2f2e85a8f5a": {
     "views": []
    },
    "07dfd29a7b2c4e1f817cd16a08a0e69b": {
     "views": []
    },
    "082ee6c3ea5541d59277d73bc3904e81": {
     "views": []
    },
    "08bc4e34c979463eadd9590bdf72c5e2": {
     "views": []
    },
    "08d70037af964a3082f43b7e47558be9": {
     "views": []
    },
    "0976810a8f27407f81cac903cae046c1": {
     "views": []
    },
    "0997f9f997a24efd96a42331f5b643b7": {
     "views": []
    },
    "0998272120cd42de814b1b294615bdac": {
     "views": []
    },
    "0a10f0128c704654a62d8caaa3ce0f96": {
     "views": []
    },
    "0a7a9f646ec0447f83cff55d61643dc1": {
     "views": []
    },
    "0a90d90f570440cf8651f399071e498b": {
     "views": []
    },
    "0ae2bb4809e34834baca0b575d1e3488": {
     "views": []
    },
    "0c3faaaa475e4629a440e89ef47a0ed1": {
     "views": []
    },
    "0c47d4db96974564becbbea3540e0df9": {
     "views": []
    },
    "0ca043f1cdd34fa3807a701624d0f09b": {
     "views": []
    },
    "0ce0f28eb09c46c6b3f72b62f966bb2c": {
     "views": []
    },
    "0d8971b3f89448dfa5b6dcebef4d08a6": {
     "views": []
    },
    "0da1f22325bd471382cc655a93f82f9f": {
     "views": []
    },
    "0e28bc970070433a94639521a153b8ed": {
     "views": []
    },
    "0e7568409c2246cc92276dbd9009ec4d": {
     "views": []
    },
    "0e7a6be183ef4af58a82aa511961c510": {
     "views": []
    },
    "0e8fe06c2bd247418c85a31bee590836": {
     "views": []
    },
    "0ebd979b90d64257acffbd03330c1a53": {
     "views": []
    },
    "0efe43293aa74e7ebaf98e3cb160cb31": {
     "views": []
    },
    "0f1c1ce7e5af4cd689428b9e2317ba63": {
     "views": []
    },
    "0f2675e1e9d44b5592135a1662977760": {
     "views": []
    },
    "0f5e329526044d61b0916b3e41037c72": {
     "views": []
    },
    "0fbb7ae2603c45a8b340823f3a8c7b43": {
     "views": []
    },
    "0ffbc64f07a3429f8516a4183a81820e": {
     "views": []
    },
    "108a1c9a58724430ac137973ac3cb47d": {
     "views": []
    },
    "10985d7bd27541e38bb2260573dab947": {
     "views": []
    },
    "1109bc012659480882e38de485ee5413": {
     "views": []
    },
    "1385ae228a1442ea9aad2e8becc37448": {
     "views": []
    },
    "140542204e6740daaacb0a4c0faa2aba": {
     "views": []
    },
    "14b4efd6bc5246c0a7b46c5bec2ba897": {
     "views": []
    },
    "14e805778a4b4f1eb9d9fb9bbe5fff33": {
     "views": []
    },
    "153e44de9842488f95a70f6b2ee1649d": {
     "views": []
    },
    "155566a370a344f48c7e3251fbddf3ca": {
     "views": []
    },
    "159f5618c9c44f4fb3a3c67da11c29c1": {
     "views": []
    },
    "15c4b76d92a743cf8d505b7234b9dfc8": {
     "views": []
    },
    "15ed897d15b64d29bd69a81190934914": {
     "views": []
    },
    "16285d9d94e94b44885e872a1ca8bae1": {
     "views": []
    },
    "165d51378d4b49eba1b5bbc9a7d752e6": {
     "views": []
    },
    "16b618d2f4824f81aa782be23654a9ed": {
     "views": []
    },
    "171b66d4c00f43c4b7f67becb8817aef": {
     "views": []
    },
    "1720c95b0f5444679b20e0045339335f": {
     "views": []
    },
    "17cc32c2d9bc4c4e8bb3d1962fa89320": {
     "views": []
    },
    "19335fed26e04a08b8c255ece46ccf8e": {
     "views": []
    },
    "19504ebba88a4a3baf26b7380a6db72a": {
     "views": []
    },
    "19b242f0288a414d8c4367ae5953a19b": {
     "views": []
    },
    "1a37bfa87b8f4432967a7dc14e0b3e59": {
     "views": []
    },
    "1a7983cc04404bf58bbae6ca184fb1ff": {
     "views": []
    },
    "1a8f162acf35400a9036c34ef6518a86": {
     "views": []
    },
    "1aa828149cbe4e8bb1090b332d530bae": {
     "views": []
    },
    "1b4ecba2072943f08683ac88a2d35df8": {
     "views": []
    },
    "1baa08ccb9664b529edecb0a001587e4": {
     "views": []
    },
    "1c0bcf60404b4a44830882ffb7ed1973": {
     "views": []
    },
    "1c4144446a22452bbe67809ff3be6ae1": {
     "views": []
    },
    "1c5f7528b6864bafb8c4a4990ef46a2d": {
     "views": [
      {
       "cell": {
        "cell_type": "code",
        "execution_count": 7,
        "metadata": {
         "collapsed": false,
         "trusted": true
        },
        "outputs": [
         {
          "data": {
           "image/png": "iVBORw0KGgoAAAANSUhEUgAAAz4AAAKPCAYAAACsKh+8AAAABHNCSVQICAgIfAhkiAAAAAlwSFlz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\nwgcAAGjv/wNiuh1JRm4QPQAAAABJRU5ErkJggg==\n",
           "text/plain": "<matplotlib.figure.Figure at 0x7f7e6e60add0>"
          },
          "metadata": {},
          "output_type": "display_data"
         }
        ],
        "source": "for i in range(N):\n    @interact(value=(-pi/2, pi/2, 0.1), n=fixed(i))\n    def set_joint_angle(n, value=0):\n        global a\n        a[n] = value\n        T = forward_kinematics(T0, l, a)\n        show_robot_arm(T)\n"
       },
       "cell_index": 10,
       "root": true
      }
     ]
    },
    "1cfd9a6f210b4054bcb39b0429cc55de": {
     "views": []
    },
    "1d683e58238c426daa981843821bbe42": {
     "views": []
    },
    "1da0339e3c6e4a44884e772f18fa4e2b": {
     "views": []
    },
    "1dee2d42496b4c838041027fdf78954d": {
     "views": []
    },
    "1e92889027a541ddb44f454e7f14a387": {
     "views": []
    },
    "1f76e9cb47ce4bf9b0b3452b6bd854a0": {
     "views": []
    },
    "212aab5aa2bf4660a541d175db422584": {
     "views": []
    },
    "22df1d38fd2d43539cc7d9fccbaf577f": {
     "views": []
    },
    "22f22aafaf554defab70e6fe1bf02f58": {
     "views": []
    },
    "2310bd576c5b4f88a20f09a7d851a497": {
     "views": []
    },
    "236f20f3353a427796cd3e1e2d4475f9": {
     "views": []
    },
    "23cf28a2d9f5434696f27517edb1e019": {
     "views": []
    },
    "23e68019becd47078dbd546b0907a08f": {
     "views": []
    },
    "2494fdbd167046d8a7a0fe196ff53f54": {
     "views": []
    },
    "2600b6c694094bffb6043623d1819ea9": {
     "views": []
    },
    "26406e17a6ff431688684397e3d84ecd": {
     "views": [
      {
       "cell": {
        "cell_type": "code",
        "execution_count": 7,
        "metadata": {
         "collapsed": false,
         "trusted": true
        },
        "outputs": [
         {
          "data": {
           "image/png": "iVBORw0KGgoAAAANSUhEUgAAAz4AAAKPCAYAAACsKh+8AAAABHNCSVQICAgIfAhkiAAAAAlwSFlz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\nwgcAAGjv/wNiuh1JRm4QPQAAAABJRU5ErkJggg==\n",
           "text/plain": "<matplotlib.figure.Figure at 0x7f7e6e60add0>"
          },
          "metadata": {},
          "output_type": "display_data"
         }
        ],
        "source": "for i in range(N):\n    @interact(value=(-pi/2, pi/2, 0.1), n=fixed(i))\n    def set_joint_angle(n, value=0):\n        global a\n        a[n] = value\n        T = forward_kinematics(T0, l, a)\n        show_robot_arm(T)\n"
       },
       "cell_index": 10,
       "root": true
      }
     ]
    },
    "26795a5634004f179a4433436959f69c": {
     "views": []
    },
    "28f6bbda5c7d487fa65a3ccfcb890b44": {
     "views": []
    },
    "28fbf1d342404c90b19e51eb06b656a6": {
     "views": []
    },
    "29291248cbaf449dad8c04aefea3c251": {
     "views": []
    },
    "29324c74ce44472d816ddb618e5e7154": {
     "views": []
    },
    "29d7ec8815be42d180e90f0867e537a5": {
     "views": []
    },
    "29ef4faa80594de0ab95b9e1e31a0500": {
     "views": []
    },
    "2aa04ae23f974820977ecc02dc8b6b43": {
     "views": []
    },
    "2ab47ef47437437c8cfaa90fb663193c": {
     "views": []
    },
    "2af796b503d34c988689c3b04df5de24": {
     "views": [
      {
       "cell": {
        "cell_type": "code",
        "execution_count": 24,
        "metadata": {
         "collapsed": false,
         "trusted": true
        },
        "outputs": [
         {
          "data": {
           "image/png": "iVBORw0KGgoAAAANSUhEUgAAAxMAAAKPCAYAAAAWiZfcAAAABHNCSVQICAgIfAhkiAAAAAlwSFlz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\ngg==\n",
           "text/plain": "<matplotlib.figure.Figure at 0x7f7e70534390>"
          },
          "metadata": {},
          "output_type": "display_data"
         }
        ],
        "source": "from numpy import sin, cos, pi, matrix\nfrom math import atan2, acos\n\nT0 = trans(0, 0, 0)\nlv = [0] + range(N, 0, -1)  # length of link, l[0] is ingored\nbf = B\nfor i in range(N):\n    bf = bf.subs(l[i + 1], lv[i + 1])\n\ndef inverse_kinematics(x_e, y_e, theta_e):\n    b = bf.subs(x, x_e).subs(y, y_e).subs(theta, theta_e)\n    b = (b.subs('I', 1).subs('pi', pi).tolist())\n    b = [float(i[0]) for i in b]\n    return b\n    \n@interact(x_e=(0, max_len, 0.1), y_e=(-max_len, max_len, 0.1), theta_e=(-pi, pi, 0.1))\ndef set_end_effector(x_e=5, y_e=0, theta_e=0):\n    b = inverse_kinematics(x_e, y_e, theta_e)\n    T = forward_kinematics(T0, lv, b)\n    show_robot_arm(T)"
       },
       "cell_index": 31,
       "root": true
      }
     ]
    },
    "2b08bea1b4f54c9ba077c00da9f32df4": {
     "views": []
    },
    "2b93cbb0c4224f89849f2dde2fc15157": {
     "views": []
    },
    "2bc083e7865744218921a220b1dcd2bd": {
     "views": []
    },
    "2bd0e43b75c644de982f6ed6526efdd4": {
     "views": []
    },
    "2c34626d64f64cee97c80b20eca8bcca": {
     "views": []
    },
    "2d47a8fbe94e44558b858df765718bf6": {
     "views": []
    },
    "2da22ed89495462aa8367d393c2a7eb3": {
     "views": []
    },
    "2daf53bd4a7446b789c98057a1e8a250": {
     "views": []
    },
    "2dcbbf3b132149afa31062be6a07554c": {
     "views": []
    },
    "2e214dcc0b3c44e9b2328d1951fa682f": {
     "views": []
    },
    "2f158a0aa1a64a06b1e040595d5f3786": {
     "views": []
    },
    "2f2278ef4cfa4853819ae1f6527a3b73": {
     "views": []
    },
    "2f6d2e4e681c4aa69eb193d1231e33eb": {
     "views": []
    },
    "2fbda6a400e84a79aef5b70e619abb96": {
     "views": []
    },
    "3041d69ed88044cea4de4bd0f450c27d": {
     "views": []
    },
    "30d84e2c052640189dbdcf9392defa4c": {
     "views": []
    },
    "31cf7dfafa144ec4a2596eb29add3718": {
     "views": []
    },
    "31e0aedd3ffa43dea7a1c25a5500b106": {
     "views": []
    },
    "32abfd69cd694c50aa2ebee92df33674": {
     "views": []
    },
    "32d299c4eabe4ab0b7f7ce7d320c85bf": {
     "views": []
    },
    "32e5479e6e41479e984f122b75b58d11": {
     "views": []
    },
    "330fab827b204b90ad49370b88945728": {
     "views": []
    },
    "335ed94a336e40a2b69bd63a6f675584": {
     "views": []
    },
    "33602b70c8ec4149afabed51291da3d7": {
     "views": [
      {
       "cell": {
        "cell_type": "code",
        "execution_count": 7,
        "metadata": {
         "collapsed": false,
         "trusted": true
        },
        "outputs": [
         {
          "data": {
           "image/png": "iVBORw0KGgoAAAANSUhEUgAAAz4AAAKPCAYAAACsKh+8AAAABHNCSVQICAgIfAhkiAAAAAlwSFlz\nAAAMTQAADE0B0s6tTgAAH1xJREFUeJzt3X+w5Xdd3/HXG5ZFYrlXsEACCSEmpSYWTKAoJkULCjcM\nllrDIB1KBQrRAA6WhlaXTju2M2mpqDCMKQnogFSKo/gDxppLRiJgEhRNCIJRIIkmhCQygvdGV7Ib\n8ukf9yzerLvJ3d3v3XP2ncdjZoe95/u5n/P58p2bPc/7/Z7zrTFGAAAAOnvQvBcAAACw3YQPAADQ\nnvABAADaEz4AAEB7wgcAAGhP+AAAAO0JHwAAoL1Jw6eqdlbVW6vqM1V1XVX9wpTzAwAAHI4dE8/3\nxiT3jDGemCRV9eiJ5wcAADhkNcaYZqKq45LcluRxY4y/nmRSAACACUx5qdupSb6U5A1V9fGq+nBV\nPWvC+QEAAA7LlJe67UhycpJPjTF+vKrOTHJ5VZ0xxvjivkFVVUkem+TOCZ8bAIBpPTzJF8ZUlwfB\nnE15qds3Jrk9yc59PyBV9ftJfmyM8aFN4x6X5POTPCkAANvpxDHGrfNeBExhsjM+Y4y/rKrfTnJu\nkt+qqlOSPCHJ9fsNvTNJbrnlliwtLU319Exk165dueiii+a9DA7C8Vlcjs3icmwWm+OzmNbX13PS\nSSclrtChkak/1e2CJD9XVW9M8tUk548xbjvQwKWlJeGzgHbu3Om4LDDHZ3E5NovLsVlsjg9wtEwa\nPmOMm5L4QAMAAGChTHoDU459Kysr814C98HxWVyOzeJybBab4wMcLZN9uMGWn7BqKcna2tqaU9sA\nAAtofX09y8vLSbI8xlif93pgCs74AAAA7QkfAACgPeEDAAC0J3wAAID2hA8AANCe8AEAANoTPgAA\nQHvCBwAAaE/4AAAA7QkfAACgPeEDAAC0J3wAAID2hA8AANCe8AEAANoTPgAAQHvCBwAAaE/4AAAA\n7QkfAACgPeEDAAC0J3wAAID2hA8AANCe8AEAANoTPgAAQHvCBwAAaE/4AAAA7QkfAACgPeEDAAC0\nJ3wAAID2hA8AANCe8AEAANoTPgAAQHvCBwAAaE/4AAAA7QkfAACgPeEDAAC0J3wAAID2hA8AANCe\n8AEAANoTPgAAQHvCBwAAaE/4AAAA7QkfAACgPeEDAAC0J3wAAID2hA8AANCe8AEAANoTPgAAQHvC\nBwAAaE/4AAAA7QkfAACgPeEDAAC0J3wAAID2hA8AANCe8AEAANoTPgAAQHvCBwAAaE/4AAAA7Qkf\nAACgPeEDAAC0J3wAAID2hA8AANCe8AEAANoTPgAAQHvCBwAAaE/4AAAA7QkfAACgPeEDAAC0J3wA\nAID2hA8AANCe8AEAANoTPgAAQHvCBwAAaE/4AAAA7QkfAACgPeEDAAC0J3wAAID2hA8AANCe8AEA\nANoTPgAAQHvCBwAAaE/4AAAA7QkfAACgPeEDAAC0J3wAAID2hA8AANCe8AEAANoTPgAAQHvCBwAA\naE/4AAAA7QkfAACgPeEDAAC0J3wAAID2tiV8quplVXVPVT1/O+YHAAA4FJOHT1WdnOQVSa6eem4A\nAIDDMWn4VFUleUeS1yTZM+XcAAAAh2vqMz6vS/LRMca1E88LAABw2HZMNVFVfUuS85I8Y6o5AQAA\npjBZ+GQjeE5O8tnZJW/HJ7m0qk4YY1yy/+Bdu3Zl586dSZKVlZWsrKxMuBQAAA7F6upqVldXkyR7\n9njHAv3UGGN7Jq66IsnPjDHev9/jS0nW1tbWsrS0tC3PDQDA4VtfX8/y8nKSLI8x1ue9HpjCdt7H\nZ3uKCgAA4BBNeanbvYwxnrVdcwMAAByK7TzjAwAAsBCEDwAA0J7wAQAA2hM+AABAe8IHAABoT/gA\nAADtCR8AAKA94QMAALQnfAAAgPaEDwAA0J7wAQAA2hM+AABAe8IHAABoT/gAAADtCR8AAKA94QMA\nALQnfAAAgPaEDwAA0J7wAQAA2hM+AABAe8IHAABoT/gAAADtCR8AAKA94QMAALQnfAAAgPaEDwAA\n0J7wAQAA2hM+AABAe8IHAABoT/gAAADtCR8AAKA94QMAALQnfAAAgPaEDwAA0J7wAQAA2hM+AABA\ne8IHAABoT/gAAADtCR8AAKA94QMAALQnfAAAgPaEDwAA0J7wAQAA2hM+AABAe8IHAABoT/gAAADt\nCR8AAKA94QMAALQnfAAAgPaEDwAA0J7wAQAA2hM+AABAe8IHAABoT/gAAADtCR8AAKA94QMAALQn\nfAAAgPaEDwAA0J7wAQAA2hM+AABAe8IHAABoT/gAAADtCR8AAKA94QMAALQnfAAAgPaEDwAA0J7w\nAQAA2hM+AABAe8IHAABoT/gAAADtCR8AAKA94QMAALQnfAAAgPaEDwAA0J7wAQAA2hM+AABAe8IH\nAABoT/gAAADtCR8AAKA94QMAALQnfAAAgPaEDwAA0J7wAQAA2hM+AABAe8IHAABoT/gAAADtCR8A\nAKA94QMAALQnfAAAgPaEDwAA0J7wAQAA2hM+AABAe8IHAABoT/gAAADtCR8AAKC9ycKnqh5aVb9W\nVX9SVddW1WpVnTrV/AAAAIdr6jM+l4wxvnmMcVaS9yd5x8TzAwAAHLLJwmeMcdcY47JND30syclT\nzQ8AAHC4tvM9Pq9N8uvbOD8AAMCW7NiOSatqV5JTk5x/sDG7du3Kzp07kyQrKytZWVnZjqUAALAF\nq6urWV1dTZLs2bNnzquB6dUYY9oJqy5M8sIk3z3GuPMA25eSrK2trWVpaWnS5wYA4Mitr69neXk5\nSZbHGOvzXg9MYdIzPlX1uiQvykGiBwAAYB4mC5+qelySNyW5IckVVVVJvjLG+I6pngMAAOBwTBY+\nY4xb44aoAADAAhIqAABAe8IHAABoT/gAAADtCR8AAKA94QMAALQnfAAAgPaEDwAA0J7wAQAA2hM+\nAABAe8IHAABoT/gAAADtCR8AAKA94QMAALQnfAAAgPaEDwAA0J7wAQAA2hM+AABAe8IHAABoT/gA\nAADtCR8AAKA94QMAALQnfAAAgPaEDwAA0J7wAQAA2hM+AABAe8IHAABoT/gAAADtCR8AAKA94QMA\nALQnfAAAgPaEDwAA0J7wAQAA2hM+AABAe8IHAABoT/gAAADtCR8AAKA94QMAALQnfAAAgPaEDwAA\n0J7wAQAA2hM+AABAe8IHAABoT/gAAADtCR8AAKA94QMAALQnfAAAgPaEDwAA0J7wAQAA2hM+AABA\ne8IHAABoT/gAAADtCR8AAKA94QMAALQnfAAAgPaEDwAA0J7wAQAA2hM+AABAe8IHAABoT/gAAADt\nCR8AAKA94QMAALQnfAAAgPaEDwAA0J7wAQAA2hM+AABAe8IHAABoT/gAAHAwf1VV11XVufseqKrv\nqqrfr6pPzf58+4G+saoeVVW/VVWfqapPVtUzFnHbAdb972bjPltVl1TVgw8y7mFV9Z7ZuD+pqvMW\ncdsB1v29VXV9Vf1pVf1KVf2Dg4yrqnprVX1u9v/Hqxd024/O9vuag+3zPsIHAICDGUn+2RjjsiSp\nqhOSvDPJvxlj/JMkZyW5/iDf+z+TXD3GeGKSlyd5z6aIWKRtX1NVT0jy35KcM8b4R0mOT3L+Qfbv\nwiRfmY07N8nFVfWIBdy2ef++Psk7kjx/jPGPk9yW5L8cZP9ekuSbxxinJfn2JK+vqtMXbdsY481J\nXnGQfbgX4QMAwMHU7M8+r0ryi2OMzyTJGGPvGGP9IN/7wiRvm437gyRfSPJdC7Lt1k3bNntBkt8Y\nY3xx9vXbkvzrg+zfD2ya88+S/E6Sf7Ug267YtG2z5ya5Zozx2dnXF9/H/r0wydtnc345yS9tGrtI\n27ZM+AAAsFVnJDmuqi6vqmuq6i1V9bD9B1XVI5PsGGP8xaaH/yzJ4xdk258nefwB9u/xs233muMA\n4+5v7Ly3Hcr+HV9VB2qCee/DVrdtmfABAGCrdiR5RpLzkjwtySOT/MRcVwRbJHwAANiqm5P85hhj\nfYzx1ST/N8nT9x80xvhSkrur6tGbHn5Ckj9foG03H2T/Tt7CuGTjDMTBxi7Sts1unm3b55Qkt40x\n7jnI2IPNuUjbtkz4AACwVe9J8syq2jn7+rlJrjvI2F9OckGSVNXTkjw2yUcWaNuHZ19fVFWvmo17\nX5LnV9Wjq6qS/HCS9x5k/35ltj1VdUo23jP064u2rapeXVUXzcZdluSsqnri7OsL7mP/fjnJK6vq\nQbPLBX9g09hF2PZLB1n3Qe041G8AAOCBaYxxdVV9IMm1VXV3kk/n715wPzXJT4wxvnc2/MeSvLuq\nPpPkriQvnp0lWrRt35rkD2b7d1NV/dckV2XjE+2uSHLJbP9OyMbZrqfMvu8nk/x8VX0uyd1JXj07\nu7Ro285IcsNs//66ql6R5Ddmn2r3qSQ/OBuXqro2yXPHGLcneXeSf5rks0nuSfKmMcYfz4YuwrZP\n5xDVGONQv+eIVNVSkrW1tbUsLS0d1ecGAOD+ra+vZ3l5Odl48f8N9/HJbce02Zv6rx5jHPBeRB1U\n1UeyETN/M++1bJeq+udJfnpTlB6QS90AADiYO5J8uDbdwLSTMcY9naMnScYY39k8en40yc8m+eL9\njnXGBwCAzTad8VnueraHBx5nfAAAgPaEDwAA0J7wAQAA2hM+AABAe8IHAABoT/gAAADtCR8AAKA9\n4QMAALQnfAAAgPaEDwAA0J7wAQAA2hM+AABAe8IHAABoT/gAAADtCR8AAKA94QMAALS3Y94LADiW\n7d69O5deemlu/9zncvxpp+X888/PcccdN+9l0dDevXtz5ZVX5ku33ZZHnnBCzjnnnDzkIQ+Z97JI\nv2Ozd+/efPSjH533MmByNcaYbrKq05K8K8k/TPJXSV46xrh+vzFLSdbW1taytLQ02XMDHE27d+/O\nS84+O/dcf31etGdPHpvkC0neu3Nn6vTT83+uukoAMYm9e/fmpy68MDd/8IN51k035TF33ZU7HvrQ\nfOiUU3LSc56TC9/0pmP6RfaxrNux2bw/T7/xxvzgnj1JsjzGWJ/32mAKU4fPbyd55xjj3VV1XpL/\nNMb4tv3GCB/gmLZ79+6ce+KJefOXv5ynHGD7NUl+9BGPyGWf/7z44Yjs3bs3rz733LzqIx/JmXff\n/fe2f2LHjlz8nd+Zn73ssmPqBXYH3Y7N/vuznmR5Y5PwoY3JwqeqHpXks0keOca4Z/bYbUnOGWPc\nuGmc8AGOad9/5pn5z9ddd8Do2ecPk1x03HF535OffLSWRUP/46ab8tw77siZ9zHm2iSrxx+fH3vC\nE47Sqkj6HZv990f40NGU7/E5Kclt+6Jn5uYkj09y44G/BeDYsnv37ozrr7/P6EmSpyb56u7d2f2x\nj8U5Hw7H3iS3JPf5wjpJzkpy6e23Z+/tt2fxzyv00O3YbHV/4FjnU90ADsGll16aF21c936/XpTk\n7du7HBq7Msmztjj2WUmu2sa1cG/djs2h7A8cy6Y843NLkhOq6kGbzvo8Phtnff6eXbt2ZefOnUmS\nlZWVrKysTLgUgO1x++c+l6ducexjk1y3nYuhtS8lecwWxz4myV9u41q4t27HZt/+rM7+JMnWfr0D\nx5bJwmeM8cWquibJS5K8q6pekOSWze/v2eyiiy7yHh/gmHP8aaflC1sc+4Ukx2/nYmjtkUnu2OLY\nO5I8ehvXwr11Ozb79ucFSfb9Gno9yc/ObUWwPab+VLcnJnlnkm9MspbkZWOMT+83xocbAMes3bt3\n58WPeER+bQuXu31fVd77tKfl6x7kqmIO3d577slrP/nJXPyVr9zv2Ase9rC89clPzo6qo7Ayuh2b\nA+2PDzego0lvYDrG+EySs6ecE2CRHHfccanTT881W/hUtwd/67fm637v947W0mjmIUlOeu1r84mL\nLz7gxyXvc+2OHTn5/POz481vPnqLe4Drdmy2uj9wrJv0jM+WntAZH+AYt+8+Pj/z5S8f8P0+f5jk\n37uPDxPYd2+VCz7ykZx1gBek1+7Ykf99DN0rppNux2b//XHGh46ED8Bh2L17d15yzjm554//OD+w\nZ08em4339Lx35848+Iwz8u4rrxQ9TGLv3r35qde/Pjd/8IN55o035jF33ZU7HvrQfOiUU3Lyykr+\nw0/+5DHxwrqjbsdm8/58+w035KUbl/QKH9oQPgBHYPfu3Xn729+e22+4Icefempe+cpXCh62xd69\ne3PVVVflS7fdlkeecELOPvvsY+pFdWfdjs3evXtz+eWX53nPe14ifGhE+AAAcC/r6+tZXl5OhA+N\n+KghAACgPeEDAAC0J3wAAID2hA8AANCe8AEAANoTPgAAQHvCBwAAaE/4AAAA7QkfAACgPeEDAAC0\nJ3wAAID2hA8AANCe8AEAANoTPgAAQHvCBwAAaE/4AAAA7QkfAACgPeEDAAC0J3wAAID2hA8AANCe\n8AEAANoTPgAAQHvCBwAAaE/4AAAA7QkfAACgPeEDAAC0J3wAAID2hA8AANCe8AEAANoTPgAAQHvC\nBwAAaE/4AAAA7QkfAACgPeEDAAC0J3wAAID2hA8AANCe8AEAANoTPgAAQHvCBwAAaE/4AAAA7Qkf\nAACgPeEDAAC0J3wAAID2hA8AANCe8AEAANoTPgAAQHvCBwAAaE/4AAAA7QkfAACgPeEDAAC0J3wA\nAID2hA8AANCe8AEAANoTPgAAQHvCBwAAaE/4AAAA7QkfAACgPeEDAAC0J3wAAID2hA8AANCe8AEA\nANoTPgAAQHvCBwAAaE/4AAAA7QkfAACgPeEDAAC0J3wAAID2hA8AANCe8AEAANoTPgAAQHvCBwAA\naE/4AAAA7QkfAACgPeEDAAC0J3wAAID2hA8AANCe8AEAANoTPgAAQHvCBwAAaE/4AAAA7QkfAACg\nPeEDAAC0J3wAAID2hA8AANCe8AEAANoTPgAAQHvCBwAAaE/4AAAA7QkfAACgPeEDAAC0N0n4VNWP\nVNUfVdV1VfWJqnrxFPMCAABMYcdE83wqydljjDur6sQk11bVVWOMmyaaHwAA4LBNcsZnjHHFGOPO\n2d8/n+T2JCdNMTcAAMCRmvw9PlX1PUm+IcnHp54bAADgcGzpUrequirJafs/nGQkOWuMcets3JOS\n/HySF44x/nbKhQIAAByuLYXPGOPs+xtTVWckeX+Sl44xrr6/8bt27crOnTuTJCsrK1lZWdnKUgAA\n2Aarq6tZXV1NkuzZs2fOq4Hp1RjjyCepOj3J/0ty/hjj8vsZu5RkbW1tLUtLS0f83AAATGt9fT3L\ny8tJsjzGWJ/3emAKU73H5y1JlpK8saquraprqurZE80NAABwRCb5OOsxxnOmmAcAAGA7TP6pbgAA\nAItG+AAAAO0JHwAAoD3hAwAAtCd8AACA9oQPAADQnvABAADaEz4AAEB7wgcAAGhP+AAAAO0JHwAA\noD3hAwAAtCd8AACA9oQPAADQnvABAADaEz4AAEB7wgcAAGhP+AAAAO0JHwAAoD3hAwAAtCd8AACA\n9oQPAADQnvABAADaEz4AAEB7wgcAAGhP+AAAAO0JHwAAoD3hAwAAtCd8AACA9oQPAADQnvABAADa\nEz4AAEB7wgcAAGhP+AAAAO0JHwAAoD3hAwAAtCd8AACA9oQPAADQnvABAADaEz4AAEB7wgcAAGhP\n+AAAAO0JHwAAoD3hAwAAtCd8AACA9oQPAADQnvABAADaEz4AAEB7wgcAAGhP+AAAAO0JHwAAoD3h\nAwAAtCd8AACA9oQPAADQnvABAADaEz4AAEB7wgcAAGhP+AAAAO0JHwAAoD3hAwAAtCd8AACA9oQP\nAADQnvABAADaEz4AAEB7wgcAAGhP+AAAAO0JHwAAoD3hAwAAtCd8AACA9oQPAADQnvABAADaEz4A\nAEB7wgcAAGhP+AAAAO0JHwAAoD3hAwAAtCd8AACA9oQPAADQnvABAADaEz4AAEB7wgcAAGhP+AAA\nAO0JHwAAoD3hAwAAtCd8AACA9oQPAADQnvABAADaEz4AAEB7wgcAAGhP+AAAAO0JHwAAoD3hAwAA\ntCd8AACA9oQPAADQnvABAADamzR8qurRVXV7Vf3qlPMCAAAcianP+LwtyQcmnhMAAOCITBY+VfXy\nJDcm+d2p5gQAAJjCJOFTVack+aEkb5hiPgAAgCnt2MqgqroqyWn7P5xkJHlKkp9L8poxxl1VVVuZ\nc9euXdm5c2eSZGVlJSsrK1teNAAA01pdXc3q6mqSZM+ePXNeDUyvxhhHNkHVUpIbktw5e+jhSR6W\n5OoxxrMPMn5tbW0tS0tLR/TcAABMb319PcvLy0myPMZYn/d6YApbOuNzX2Y/DI/a93VV/WCSfznG\n+P4jnRsAAGAK7uMDAAC0N3n4jDHe5WwPAACwSJzxAQAA2hM+AABAe8IHAABoT/gAAADtCR8AAKA9\n4QMAALQnfAAAgPaEDwAA0J7wAQAA2hM+AABAe8IHAABoT/gAAADtCR8AAKA94QMAALQnfAAAgPaE\nDwAA0J7wAQAA2hM+AABAe8IHAABoT/gAAADtCR8AAKA94QMAALQnfAAAgPaEDwAA0J7wAQAA2hM+\nAABAe8IHAABoT/gAAADtCR8AAKA94QMAALQnfAAAgPaEDwAA0J7wAQAA2hM+AABAe8IHAABoT/gA\nAADtCR8AAKA94QMAALQnfAAAgPaEDwAA0J7wAQAA2hM+AABAe8IHAABoT/gAAADtCR8AAKA94QMA\nALQnfAAAgPaEDwAA0J7wAQAA2hM+AABAe8IHAABoT/gAAADtCR8AAKA94QMAALQnfAAAgPaEDwAA\n0J7wAQAA2hM+AABAe8IHAABoT/gAAADtCR8AAKA94QMAALQnfAAAgPaEDwAA0J7wAQAA2hM+AABA\ne8IHAABoT/gAAADtCR8AAKA94QMAALQnfAAAgPaEDwAA0J7wAQAA2hM+AABAe8IHAABoT/gAAADt\nCR8AAKA94QMAALQnfAAAgPaEDwAA0J7wAQAA2hM+AABAe8IHAABoT/gAAADtCR8AAKA94QMAALQn\nfAAAgPaEDwAA0J7wAQAA2hM+AABAe8IHAABoT/gAAADtCR8AAKA94QMAALQ3WfhU1XlV9cmq+qPZ\n/z5+qrkBAACOxCThU1VnJfnvSZ49xnhSku9I8hdTzM3Rtbq6Ou8lcB8cn8Xl2Cwux2axOT7A0TLV\nGZ/XJfnpMcYdSTLG+JsxxlcmmpujyD9Ai83xWVyOzeJybBab4wMcLVOFzxlJTq6q36mqP6yq/1ZV\nNdHcAAAAR2THVgZV1VVJTtv/4SQjyVmzec5M8pzZ39+f5IIkFx9szvX19cNYLtttz549js0Cc3wW\nl2OzuBybxeb4LCbHhI5qjHHkk1R9IMn7xhjvnH39qiRPH2P82wOMfVySzx/xkwIAsN1OHGPcOu9F\nwBS2dMZnC96T5F9U1buSPDgbZ34+epCxX0hyYpI7J3puAACm9/BsvG6DFqY641NJ/leS5yW5OxvR\n89oxxt1HPDkAAMARmiR8AAAAFtlkNzA9HG56utiq6tFVdXtV/eq818Lfqaofmf3MXFdVn6iqF897\nTQ9kVXVaVV1ZVX9aVb9XVafPe01sqKqHVtWvVdWfVNW1VbVaVafOe13cW1W9rKruqarnz3stbKiq\nnVX11qr6zOzfml+Y95pgClO9x+eQbbrp6TPHGHdU1dcn+eq81sMBvS3JB5J847wXwr18KsnZY4w7\nq+rEJNdW1VVjjJvmvbAHqEuSvG2M8e6qOi/Ju5J825zXxN+5ZIxxWZJU1auTvCPJM+e7JPapqpOT\nvCLJ1fNeC/fyxiT3jDGemGz8InTO64FJzPOMj5ueLrCqenmSG5P87rzXwr2NMa4YY9w5+/vnk9ye\n5KT5ruqBqaoeleSpSX4xScYY70tyUlV901wXRpJkjHHXvuiZ+ViSk+e1Hu5t9v7gdyR5TZI9c14O\nM1V1XJKXJ3nDvsfGGH8xvxXBdOYZPm56uqCq6pQkP5RN/9FjMVXV9yT5hiQfn/daHqBOSnLbGOOe\nTY/dnMRlu4vptUl+fd6L4Gtel+SjY4xr570Q7uXUJF9K8oaq+nhVfbiqnjXvRcEUtu1St+246SnT\nuJ9j85QkP5fkNWOMu8To0Xd/Pzv77qdQVU9K8vNJXjjG+Nuju0o4tlTVrmy8oDt/3mshqapvSXJe\nkmfMey38PTuycWb0U2OMH6+qM5NcXlVnjDG+OOe1wRHZtvAZY5x9X9ur6uZs3PR0T5I9szfQPz3C\nZ9vd17GpqqUkT0ryS7PmeXiSh1XV5WOMZx+lJT6g3d/PTpJU1RnZ+GXBS8cYro2fn1uSnFBVD9p0\n1ufx2Tjrw4KoqguTfF+S73ZJ9cJ4RjZeXH929gu245NcWlUnjDEume/SHvBuzsZ7rt+TJGOMT1TV\nTdl4bfCheS4MjtQ8L3V7T5Ln1IYd2Tjzc90c10OSMcb6GONRY4xvGmN8U5ILk3xQ9CyO2aeG/WaS\n88cY/hGao9lvP69J8pIkqaoXJLlljHHjXBfG11TV65K8KMmz9703jvkbY7xtjPG42b81p2Tj/Vfn\ni575G2P8ZZLfTnJu8rXL35+Q5Po5LgsmMc/weW+SW5N8OhsvHG5N8pY5rgeOFW9JspTkjbOP6L2m\nqoTp/Pxwkh+qqj9N8h+TvGzO62Gmqh6X5E1JlpNcMft5cYZ0Mbmp4GK5IMnrq+qTSX41G1F625zX\nBEfMDUwBAID25noDUwAAgKNB+AAAAO0JHwAAoD3hAwAAtCd8AACA9oQPAADQnvABAADaEz4AAEB7\nwgcAAGjv/wNiuh1JRm4QPQAAAABJRU5ErkJggg==\n",
           "text/plain": "<matplotlib.figure.Figure at 0x7f7e6e60add0>"
          },
          "metadata": {},
          "output_type": "display_data"
         }
        ],
        "source": "for i in range(N):\n    @interact(value=(-pi/2, pi/2, 0.1), n=fixed(i))\n    def set_joint_angle(n, value=0):\n        global a\n        a[n] = value\n        T = forward_kinematics(T0, l, a)\n        show_robot_arm(T)\n"
       },
       "cell_index": 10,
       "root": true
      }
     ]
    },
    "33b2e7d8d4c84e768423aa3803e2b9f5": {
     "views": []
    },
    "33d1a4a3e2984b5999adf4a82ed6d243": {
     "views": []
    },
    "34acdada4843453d86dc7812e4271c09": {
     "views": []
    },
    "356a4ddeac674b17a489dc73c02f2f57": {
     "views": []
    },
    "358e60da5d7c45278a2640a67c6af292": {
     "views": []
    },
    "36aa1b263e224022a6b374b09c44b6fb": {
     "views": []
    },
    "36ff2aeae7a14f91a7be43d3c47a0597": {
     "views": []
    },
    "374ce53463064914b8233dfced2d9d52": {
     "views": []
    },
    "37513503a13b45cfbd26e56238d8c949": {
     "views": []
    },
    "386c80b57d6a404992acaf6469506db3": {
     "views": []
    },
    "389ea982a40d46d591bebd0ee559801e": {
     "views": []
    },
    "38b47640815546939304ec2a6d71c3ad": {
     "views": [
      {
       "cell": {
        "cell_type": "code",
        "execution_count": 7,
        "metadata": {
         "collapsed": false,
         "trusted": true
        },
        "outputs": [
         {
          "data": {
           "image/png": "iVBORw0KGgoAAAANSUhEUgAAAz4AAAKPCAYAAACsKh+8AAAABHNCSVQICAgIfAhkiAAAAAlwSFlz\nAAAMTQAADE0B0s6tTgAAH1xJREFUeJzt3X+w5Xdd3/HXG5ZFYrlXsEACCSEmpSYWTKAoJkULCjcM\nllrDIB1KBQrRAA6WhlaXTju2M2mpqDCMKQnogFSKo/gDxppLRiJgEhRNCIJRIIkmhCQygvdGV7Ib\n8ukf9yzerLvJ3d3v3XP2ncdjZoe95/u5n/P58p2bPc/7/Z7zrTFGAAAAOnvQvBcAAACw3YQPAADQ\nnvABAADaEz4AAEB7wgcAAGhP+AAAAO0JHwAAoL1Jw6eqdlbVW6vqM1V1XVX9wpTzAwAAHI4dE8/3\nxiT3jDGemCRV9eiJ5wcAADhkNcaYZqKq45LcluRxY4y/nmRSAACACUx5qdupSb6U5A1V9fGq+nBV\nPWvC+QEAAA7LlJe67UhycpJPjTF+vKrOTHJ5VZ0xxvjivkFVVUkem+TOCZ8bAIBpPTzJF8ZUlwfB\nnE15qds3Jrk9yc59PyBV9ftJfmyM8aFN4x6X5POTPCkAANvpxDHGrfNeBExhsjM+Y4y/rKrfTnJu\nkt+qqlOSPCHJ9fsNvTNJbrnlliwtLU319Exk165dueiii+a9DA7C8Vlcjs3icmwWm+OzmNbX13PS\nSSclrtChkak/1e2CJD9XVW9M8tUk548xbjvQwKWlJeGzgHbu3Om4LDDHZ3E5NovLsVlsjg9wtEwa\nPmOMm5L4QAMAAGChTHoDU459Kysr814C98HxWVyOzeJybBab4wMcLZN9uMGWn7BqKcna2tqaU9sA\nAAtofX09y8vLSbI8xlif93pgCs74AAAA7QkfAACgPeEDAAC0J3wAAID2hA8AANCe8AEAANoTPgAA\nQHvCBwAAaE/4AAAA7QkfAACgPeEDAAC0J3wAAID2hA8AANCe8AEAANoTPgAAQHvCBwAAaE/4AAAA\n7QkfAACgPeEDAAC0J3wAAID2hA8AANCe8AEAANoTPgAAQHvCBwAAaE/4AAAA7QkfAACgPeEDAAC0\nJ3wAAID2hA8AANCe8AEAANoTPgAAQHvCBwAAaE/4AAAA7QkfAACgPeEDAAC0J3wAAID2hA8AANCe\n8AEAANoTPgAAQHvCBwAAaE/4AAAA7QkfAACgPeEDAAC0J3wAAID2hA8AANCe8AEAANoTPgAAQHvC\nBwAAaE/4AAAA7QkfAACgPeEDAAC0J3wAAID2hA8AANCe8AEAANoTPgAAQHvCBwAAaE/4AAAA7Qkf\nAACgPeEDAAC0J3wAAID2hA8AANCe8AEAANoTPgAAQHvCBwAAaE/4AAAA7QkfAACgPeEDAAC0J3wA\nAID2hA8AANCe8AEAANoTPgAAQHvCBwAAaE/4AAAA7QkfAACgPeEDAAC0J3wAAID2hA8AANCe8AEA\nANoTPgAAQHvCBwAAaE/4AAAA7QkfAACgPeEDAAC0J3wAAID2hA8AANCe8AEAANoTPgAAQHvCBwAA\naE/4AAAA7QkfAACgPeEDAAC0J3wAAID2tiV8quplVXVPVT1/O+YHAAA4FJOHT1WdnOQVSa6eem4A\nAIDDMWn4VFUleUeS1yTZM+XcAAAAh2vqMz6vS/LRMca1E88LAABw2HZMNVFVfUuS85I8Y6o5AQAA\npjBZ+GQjeE5O8tnZJW/HJ7m0qk4YY1yy/+Bdu3Zl586dSZKVlZWsrKxMuBQAAA7F6upqVldXkyR7\n9njHAv3UGGN7Jq66IsnPjDHev9/jS0nW1tbWsrS0tC3PDQDA4VtfX8/y8nKSLI8x1ue9HpjCdt7H\nZ3uKCgAA4BBNeanbvYwxnrVdcwMAAByK7TzjAwAAsBCEDwAA0J7wAQAA2hM+AABAe8IHAABoT/gA\nAADtCR8AAKA94QMAALQnfAAAgPaEDwAA0J7wAQAA2hM+AABAe8IHAABoT/gAAADtCR8AAKA94QMA\nALQnfAAAgPaEDwAA0J7wAQAA2hM+AABAe8IHAABoT/gAAADtCR8AAKA94QMAALQnfAAAgPaEDwAA\n0J7wAQAA2hM+AABAe8IHAABoT/gAAADtCR8AAKA94QMAALQnfAAAgPaEDwAA0J7wAQAA2hM+AABA\ne8IHAABoT/gAAADtCR8AAKA94QMAALQnfAAAgPaEDwAA0J7wAQAA2hM+AABAe8IHAABoT/gAAADt\nCR8AAKA94QMAALQnfAAAgPaEDwAA0J7wAQAA2hM+AABAe8IHAABoT/gAAADtCR8AAKA94QMAALQn\nfAAAgPaEDwAA0J7wAQAA2hM+AABAe8IHAABoT/gAAADtCR8AAKA94QMAALQnfAAAgPaEDwAA0J7w\nAQAA2hM+AABAe8IHAABoT/gAAADtCR8AAKA94QMAALQnfAAAgPaEDwAA0J7wAQAA2hM+AABAe8IH\nAABoT/gAAADtCR8AAKA94QMAALQnfAAAgPaEDwAA0J7wAQAA2hM+AABAe8IHAABoT/gAAADtCR8A\nAKA94QMAALQnfAAAgPaEDwAA0J7wAQAA2hM+AABAe8IHAABoT/gAAADtCR8AAKC9ycKnqh5aVb9W\nVX9SVddW1WpVnTrV/AAAAIdr6jM+l4wxvnmMcVaS9yd5x8TzAwAAHLLJwmeMcdcY47JND30syclT\nzQ8AAHC4tvM9Pq9N8uvbOD8AAMCW7NiOSatqV5JTk5x/sDG7du3Kzp07kyQrKytZWVnZjqUAALAF\nq6urWV1dTZLs2bNnzquB6dUYY9oJqy5M8sIk3z3GuPMA25eSrK2trWVpaWnS5wYA4Mitr69neXk5\nSZbHGOvzXg9MYdIzPlX1uiQvykGiBwAAYB4mC5+qelySNyW5IckVVVVJvjLG+I6pngMAAOBwTBY+\nY4xb44aoAADAAhIqAABAe8IHAABoT/gAAADtCR8AAKA94QMAALQnfAAAgPaEDwAA0J7wAQAA2hM+\nAABAe8IHAABoT/gAAADtCR8AAKA94QMAALQnfAAAgPaEDwAA0J7wAQAA2hM+AABAe8IHAABoT/gA\nAADtCR8AAKA94QMAALQnfAAAgPaEDwAA0J7wAQAA2hM+AABAe8IHAABoT/gAAADtCR8AAKA94QMA\nALQnfAAAgPaEDwAA0J7wAQAA2hM+AABAe8IHAABoT/gAAADtCR8AAKA94QMAALQnfAAAgPaEDwAA\n0J7wAQAA2hM+AABAe8IHAABoT/gAAADtCR8AAKA94QMAALQnfAAAgPaEDwAA0J7wAQAA2hM+AABA\ne8IHAABoT/gAAADtCR8AAKA94QMAALQnfAAAgPaEDwAA0J7wAQAA2hM+AABAe8IHAABoT/gAAADt\nCR8AAKA94QMAALQnfAAAgPaEDwAA0J7wAQAA2hM+AABAe8IHAABoT/gAAHAwf1VV11XVufseqKrv\nqqrfr6pPzf58+4G+saoeVVW/VVWfqapPVtUzFnHbAdb972bjPltVl1TVgw8y7mFV9Z7ZuD+pqvMW\ncdsB1v29VXV9Vf1pVf1KVf2Dg4yrqnprVX1u9v/Hqxd024/O9vuag+3zPsIHAICDGUn+2RjjsiSp\nqhOSvDPJvxlj/JMkZyW5/iDf+z+TXD3GeGKSlyd5z6aIWKRtX1NVT0jy35KcM8b4R0mOT3L+Qfbv\nwiRfmY07N8nFVfWIBdy2ef++Psk7kjx/jPGPk9yW5L8cZP9ekuSbxxinJfn2JK+vqtMXbdsY481J\nXnGQfbgX4QMAwMHU7M8+r0ryi2OMzyTJGGPvGGP9IN/7wiRvm437gyRfSPJdC7Lt1k3bNntBkt8Y\nY3xx9vXbkvzrg+zfD2ya88+S/E6Sf7Ug267YtG2z5ya5Zozx2dnXF9/H/r0wydtnc345yS9tGrtI\n27ZM+AAAsFVnJDmuqi6vqmuq6i1V9bD9B1XVI5PsGGP8xaaH/yzJ4xdk258nefwB9u/xs233muMA\n4+5v7Ly3Hcr+HV9VB2qCee/DVrdtmfABAGCrdiR5RpLzkjwtySOT/MRcVwRbJHwAANiqm5P85hhj\nfYzx1ST/N8nT9x80xvhSkrur6tGbHn5Ckj9foG03H2T/Tt7CuGTjDMTBxi7Sts1unm3b55Qkt40x\n7jnI2IPNuUjbtkz4AACwVe9J8syq2jn7+rlJrjvI2F9OckGSVNXTkjw2yUcWaNuHZ19fVFWvmo17\nX5LnV9Wjq6qS/HCS9x5k/35ltj1VdUo23jP064u2rapeXVUXzcZdluSsqnri7OsL7mP/fjnJK6vq\nQbPLBX9g09hF2PZLB1n3Qe041G8AAOCBaYxxdVV9IMm1VXV3kk/n715wPzXJT4wxvnc2/MeSvLuq\nPpPkriQvnp0lWrRt35rkD2b7d1NV/dckV2XjE+2uSHLJbP9OyMbZrqfMvu8nk/x8VX0uyd1JXj07\nu7Ro285IcsNs//66ql6R5Ddmn2r3qSQ/OBuXqro2yXPHGLcneXeSf5rks0nuSfKmMcYfz4YuwrZP\n5xDVGONQv+eIVNVSkrW1tbUsLS0d1ecGAOD+ra+vZ3l5Odl48f8N9/HJbce02Zv6rx5jHPBeRB1U\n1UeyETN/M++1bJeq+udJfnpTlB6QS90AADiYO5J8uDbdwLSTMcY9naMnScYY39k8en40yc8m+eL9\njnXGBwCAzTad8VnueraHBx5nfAAAgPaEDwAA0J7wAQAA2hM+AABAe8IHAABoT/gAAADtCR8AAKA9\n4QMAALQnfAAAgPaEDwAA0J7wAQAA2hM+AABAe8IHAABoT/gAAADtCR8AAKA94QMAALS3Y94LADiW\n7d69O5deemlu/9zncvxpp+X888/PcccdN+9l0dDevXtz5ZVX5ku33ZZHnnBCzjnnnDzkIQ+Z97JI\nv2Ozd+/efPSjH533MmByNcaYbrKq05K8K8k/TPJXSV46xrh+vzFLSdbW1taytLQ02XMDHE27d+/O\nS84+O/dcf31etGdPHpvkC0neu3Nn6vTT83+uukoAMYm9e/fmpy68MDd/8IN51k035TF33ZU7HvrQ\nfOiUU3LSc56TC9/0pmP6RfaxrNux2bw/T7/xxvzgnj1JsjzGWJ/32mAKU4fPbyd55xjj3VV1XpL/\nNMb4tv3GCB/gmLZ79+6ce+KJefOXv5ynHGD7NUl+9BGPyGWf/7z44Yjs3bs3rz733LzqIx/JmXff\n/fe2f2LHjlz8nd+Zn73ssmPqBXYH3Y7N/vuznmR5Y5PwoY3JwqeqHpXks0keOca4Z/bYbUnOGWPc\nuGmc8AGOad9/5pn5z9ddd8Do2ecPk1x03HF535OffLSWRUP/46ab8tw77siZ9zHm2iSrxx+fH3vC\nE47Sqkj6HZv990f40NGU7/E5Kclt+6Jn5uYkj09y44G/BeDYsnv37ozrr7/P6EmSpyb56u7d2f2x\nj8U5Hw7H3iS3JPf5wjpJzkpy6e23Z+/tt2fxzyv00O3YbHV/4FjnU90ADsGll16aF21c936/XpTk\n7du7HBq7Msmztjj2WUmu2sa1cG/djs2h7A8cy6Y843NLkhOq6kGbzvo8Phtnff6eXbt2ZefOnUmS\nlZWVrKysTLgUgO1x++c+l6ducexjk1y3nYuhtS8lecwWxz4myV9u41q4t27HZt/+rM7+JMnWfr0D\nx5bJwmeM8cWquibJS5K8q6pekOSWze/v2eyiiy7yHh/gmHP8aaflC1sc+4Ukx2/nYmjtkUnu2OLY\nO5I8ehvXwr11Ozb79ucFSfb9Gno9yc/ObUWwPab+VLcnJnlnkm9MspbkZWOMT+83xocbAMes3bt3\n58WPeER+bQuXu31fVd77tKfl6x7kqmIO3d577slrP/nJXPyVr9zv2Ase9rC89clPzo6qo7Ayuh2b\nA+2PDzego0lvYDrG+EySs6ecE2CRHHfccanTT881W/hUtwd/67fm637v947W0mjmIUlOeu1r84mL\nLz7gxyXvc+2OHTn5/POz481vPnqLe4Drdmy2uj9wrJv0jM+WntAZH+AYt+8+Pj/z5S8f8P0+f5jk\n37uPDxPYd2+VCz7ykZx1gBek1+7Ykf99DN0rppNux2b//XHGh46ED8Bh2L17d15yzjm554//OD+w\nZ08em4339Lx35848+Iwz8u4rrxQ9TGLv3r35qde/Pjd/8IN55o035jF33ZU7HvrQfOiUU3Lyykr+\nw0/+5DHxwrqjbsdm8/58+w035KUbl/QKH9oQPgBHYPfu3Xn729+e22+4Icefempe+cpXCh62xd69\ne3PVVVflS7fdlkeecELOPvvsY+pFdWfdjs3evXtz+eWX53nPe14ifGhE+AAAcC/r6+tZXl5OhA+N\n+KghAACgPeEDAAC0J3wAAID2hA8AANCe8AEAANoTPgAAQHvCBwAAaE/4AAAA7QkfAACgPeEDAAC0\nJ3wAAID2hA8AANCe8AEAANoTPgAAQHvCBwAAaE/4AAAA7QkfAACgPeEDAAC0J3wAAID2hA8AANCe\n8AEAANoTPgAAQHvCBwAAaE/4AAAA7QkfAACgPeEDAAC0J3wAAID2hA8AANCe8AEAANoTPgAAQHvC\nBwAAaE/4AAAA7QkfAACgPeEDAAC0J3wAAID2hA8AANCe8AEAANoTPgAAQHvCBwAAaE/4AAAA7Qkf\nAACgPeEDAAC0J3wAAID2hA8AANCe8AEAANoTPgAAQHvCBwAAaE/4AAAA7QkfAACgPeEDAAC0J3wA\nAID2hA8AANCe8AEAANoTPgAAQHvCBwAAaE/4AAAA7QkfAACgPeEDAAC0J3wAAID2hA8AANCe8AEA\nANoTPgAAQHvCBwAAaE/4AAAA7QkfAACgPeEDAAC0J3wAAID2hA8AANCe8AEAANoTPgAAQHvCBwAA\naE/4AAAA7QkfAACgPeEDAAC0J3wAAID2hA8AANCe8AEAANoTPgAAQHvCBwAAaE/4AAAA7QkfAACg\nPeEDAAC0J3wAAID2hA8AANCe8AEAANoTPgAAQHvCBwAAaE/4AAAA7QkfAACgPeEDAAC0N0n4VNWP\nVNUfVdV1VfWJqnrxFPMCAABMYcdE83wqydljjDur6sQk11bVVWOMmyaaHwAA4LBNcsZnjHHFGOPO\n2d8/n+T2JCdNMTcAAMCRmvw9PlX1PUm+IcnHp54bAADgcGzpUrequirJafs/nGQkOWuMcets3JOS\n/HySF44x/nbKhQIAAByuLYXPGOPs+xtTVWckeX+Sl44xrr6/8bt27crOnTuTJCsrK1lZWdnKUgAA\n2Aarq6tZXV1NkuzZs2fOq4Hp1RjjyCepOj3J/0ty/hjj8vsZu5RkbW1tLUtLS0f83AAATGt9fT3L\ny8tJsjzGWJ/3emAKU73H5y1JlpK8saquraprqurZE80NAABwRCb5OOsxxnOmmAcAAGA7TP6pbgAA\nAItG+AAAAO0JHwAAoD3hAwAAtCd8AACA9oQPAADQnvABAADaEz4AAEB7wgcAAGhP+AAAAO0JHwAA\noD3hAwAAtCd8AACA9oQPAADQnvABAADaEz4AAEB7wgcAAGhP+AAAAO0JHwAAoD3hAwAAtCd8AACA\n9oQPAADQnvABAADaEz4AAEB7wgcAAGhP+AAAAO0JHwAAoD3hAwAAtCd8AACA9oQPAADQnvABAADa\nEz4AAEB7wgcAAGhP+AAAAO0JHwAAoD3hAwAAtCd8AACA9oQPAADQnvABAADaEz4AAEB7wgcAAGhP\n+AAAAO0JHwAAoD3hAwAAtCd8AACA9oQPAADQnvABAADaEz4AAEB7wgcAAGhP+AAAAO0JHwAAoD3h\nAwAAtCd8AACA9oQPAADQnvABAADaEz4AAEB7wgcAAGhP+AAAAO0JHwAAoD3hAwAAtCd8AACA9oQP\nAADQnvABAADaEz4AAEB7wgcAAGhP+AAAAO0JHwAAoD3hAwAAtCd8AACA9oQPAADQnvABAADaEz4A\nAEB7wgcAAGhP+AAAAO0JHwAAoD3hAwAAtCd8AACA9oQPAADQnvABAADaEz4AAEB7wgcAAGhP+AAA\nAO0JHwAAoD3hAwAAtCd8AACA9oQPAADQnvABAADaEz4AAEB7wgcAAGhP+AAAAO0JHwAAoD3hAwAA\ntCd8AACA9oQPAADQnvABAADamzR8qurRVXV7Vf3qlPMCAAAcianP+LwtyQcmnhMAAOCITBY+VfXy\nJDcm+d2p5gQAAJjCJOFTVack+aEkb5hiPgAAgCnt2MqgqroqyWn7P5xkJHlKkp9L8poxxl1VVVuZ\nc9euXdm5c2eSZGVlJSsrK1teNAAA01pdXc3q6mqSZM+ePXNeDUyvxhhHNkHVUpIbktw5e+jhSR6W\n5OoxxrMPMn5tbW0tS0tLR/TcAABMb319PcvLy0myPMZYn/d6YApbOuNzX2Y/DI/a93VV/WCSfznG\n+P4jnRsAAGAK7uMDAAC0N3n4jDHe5WwPAACwSJzxAQAA2hM+AABAe8IHAABoT/gAAADtCR8AAKA9\n4QMAALQnfAAAgPaEDwAA0J7wAQAA2hM+AABAe8IHAABoT/gAAADtCR8AAKA94QMAALQnfAAAgPaE\nDwAA0J7wAQAA2hM+AABAe8IHAABoT/gAAADtCR8AAKA94QMAALQnfAAAgPaEDwAA0J7wAQAA2hM+\nAABAe8IHAABoT/gAAADtCR8AAKA94QMAALQnfAAAgPaEDwAA0J7wAQAA2hM+AABAe8IHAABoT/gA\nAADtCR8AAKA94QMAALQnfAAAgPaEDwAA0J7wAQAA2hM+AABAe8IHAABoT/gAAADtCR8AAKA94QMA\nALQnfAAAgPaEDwAA0J7wAQAA2hM+AABAe8IHAABoT/gAAADtCR8AAKA94QMAALQnfAAAgPaEDwAA\n0J7wAQAA2hM+AABAe8IHAABoT/gAAADtCR8AAKA94QMAALQnfAAAgPaEDwAA0J7wAQAA2hM+AABA\ne8IHAABoT/gAAADtCR8AAKA94QMAALQnfAAAgPaEDwAA0J7wAQAA2hM+AABAe8IHAABoT/gAAADt\nCR8AAKA94QMAALQnfAAAgPaEDwAA0J7wAQAA2hM+AABAe8IHAABoT/gAAADtCR8AAKA94QMAALQn\nfAAAgPaEDwAA0J7wAQAA2hM+AABAe8IHAABoT/gAAADtCR8AAKA94QMAALQ3WfhU1XlV9cmq+qPZ\n/z5+qrkBAACOxCThU1VnJfnvSZ49xnhSku9I8hdTzM3Rtbq6Ou8lcB8cn8Xl2Cwux2axOT7A0TLV\nGZ/XJfnpMcYdSTLG+JsxxlcmmpujyD9Ai83xWVyOzeJybBab4wMcLVOFzxlJTq6q36mqP6yq/1ZV\nNdHcAAAAR2THVgZV1VVJTtv/4SQjyVmzec5M8pzZ39+f5IIkFx9szvX19cNYLtttz549js0Cc3wW\nl2OzuBybxeb4LCbHhI5qjHHkk1R9IMn7xhjvnH39qiRPH2P82wOMfVySzx/xkwIAsN1OHGPcOu9F\nwBS2dMZnC96T5F9U1buSPDgbZ34+epCxX0hyYpI7J3puAACm9/BsvG6DFqY641NJ/leS5yW5OxvR\n89oxxt1HPDkAAMARmiR8AAAAFtlkNzA9HG56utiq6tFVdXtV/eq818Lfqaofmf3MXFdVn6iqF897\nTQ9kVXVaVV1ZVX9aVb9XVafPe01sqKqHVtWvVdWfVNW1VbVaVafOe13cW1W9rKruqarnz3stbKiq\nnVX11qr6zOzfml+Y95pgClO9x+eQbbrp6TPHGHdU1dcn+eq81sMBvS3JB5J847wXwr18KsnZY4w7\nq+rEJNdW1VVjjJvmvbAHqEuSvG2M8e6qOi/Ju5J825zXxN+5ZIxxWZJU1auTvCPJM+e7JPapqpOT\nvCLJ1fNeC/fyxiT3jDGemGz8InTO64FJzPOMj5ueLrCqenmSG5P87rzXwr2NMa4YY9w5+/vnk9ye\n5KT5ruqBqaoeleSpSX4xScYY70tyUlV901wXRpJkjHHXvuiZ+ViSk+e1Hu5t9v7gdyR5TZI9c14O\nM1V1XJKXJ3nDvsfGGH8xvxXBdOYZPm56uqCq6pQkP5RN/9FjMVXV9yT5hiQfn/daHqBOSnLbGOOe\nTY/dnMRlu4vptUl+fd6L4Gtel+SjY4xr570Q7uXUJF9K8oaq+nhVfbiqnjXvRcEUtu1St+246SnT\nuJ9j85QkP5fkNWOMu8To0Xd/Pzv77qdQVU9K8vNJXjjG+Nuju0o4tlTVrmy8oDt/3mshqapvSXJe\nkmfMey38PTuycWb0U2OMH6+qM5NcXlVnjDG+OOe1wRHZtvAZY5x9X9ur6uZs3PR0T5I9szfQPz3C\nZ9vd17GpqqUkT0ryS7PmeXiSh1XV5WOMZx+lJT6g3d/PTpJU1RnZ+GXBS8cYro2fn1uSnFBVD9p0\n1ufx2Tjrw4KoqguTfF+S73ZJ9cJ4RjZeXH929gu245NcWlUnjDEume/SHvBuzsZ7rt+TJGOMT1TV\nTdl4bfCheS4MjtQ8L3V7T5Ln1IYd2Tjzc90c10OSMcb6GONRY4xvGmN8U5ILk3xQ9CyO2aeG/WaS\n88cY/hGao9lvP69J8pIkqaoXJLlljHHjXBfG11TV65K8KMmz9703jvkbY7xtjPG42b81p2Tj/Vfn\ni575G2P8ZZLfTnJu8rXL35+Q5Po5LgsmMc/weW+SW5N8OhsvHG5N8pY5rgeOFW9JspTkjbOP6L2m\nqoTp/Pxwkh+qqj9N8h+TvGzO62Gmqh6X5E1JlpNcMft5cYZ0Mbmp4GK5IMnrq+qTSX41G1F625zX\nBEfMDUwBAID25noDUwAAgKNB+AAAAO0JHwAAoD3hAwAAtCd8AACA9oQPAADQnvABAADaEz4AAEB7\nwgcAAGjv/wNiuh1JRm4QPQAAAABJRU5ErkJggg==\n",
           "text/plain": "<matplotlib.figure.Figure at 0x7f7e6e60add0>"
          },
          "metadata": {},
          "output_type": "display_data"
         }
        ],
        "source": "for i in range(N):\n    @interact(value=(-pi/2, pi/2, 0.1), n=fixed(i))\n    def set_joint_angle(n, value=0):\n        global a\n        a[n] = value\n        T = forward_kinematics(T0, l, a)\n        show_robot_arm(T)\n"
       },
       "cell_index": 10,
       "root": true
      }
     ]
    },
    "38bc0f4ca75245689ea57a229c49472a": {
     "views": []
    },
    "38d0989572be494b80d396336d933313": {
     "views": []
    },
    "39240ffe45674b32aa64d099d6e61bd6": {
     "views": []
    },
    "3a5050c9cd9e457fae55d0a598eb4b4f": {
     "views": []
    },
    "3a80053831f94247947bda7171a375f5": {
     "views": []
    },
    "3b0b75b35ae34a6d9576ab19dea42ccd": {
     "views": []
    },
    "3b667c3b4fc4424d8893d82380ed312a": {
     "views": []
    },
    "3bd271b7ed304418a7d058b88a46817c": {
     "views": []
    },
    "3bfb2f44245f4631af2733821fc24f2d": {
     "views": []
    },
    "3c160aed9d4645a3867ab97e9d4428e8": {
     "views": []
    },
    "3c4064aa9a404ca0802954fe0baf05ad": {
     "views": []
    },
    "3c8d97fabeff4d4882982ae88559ca1d": {
     "views": []
    },
    "3ce5b9ab8fbc4af092b37669aef932a9": {
     "views": [
      {
       "cell": {
        "cell_type": "code",
        "execution_count": 7,
        "metadata": {
         "collapsed": false,
         "trusted": true
        },
        "outputs": [
         {
          "data": {
           "image/png": "iVBORw0KGgoAAAANSUhEUgAAAz4AAAKPCAYAAACsKh+8AAAABHNCSVQICAgIfAhkiAAAAAlwSFlz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\nwgcAAGjv/wNiuh1JRm4QPQAAAABJRU5ErkJggg==\n",
           "text/plain": "<matplotlib.figure.Figure at 0x7f7e6e60add0>"
          },
          "metadata": {},
          "output_type": "display_data"
         }
        ],
        "source": "for i in range(N):\n    @interact(value=(-pi/2, pi/2, 0.1), n=fixed(i))\n    def set_joint_angle(n, value=0):\n        global a\n        a[n] = value\n        T = forward_kinematics(T0, l, a)\n        show_robot_arm(T)\n"
       },
       "cell_index": 10,
       "root": true
      }
     ]
    },
    "3cfd0856c6ad4d72957c378772dddceb": {
     "views": []
    },
    "3d5f1dddcb724d6f8776e5beb45145be": {
     "views": []
    },
    "3dc13517176b4d059867e0c5c14b333e": {
     "views": []
    },
    "3e69ea50d1bc4d33a564d6e3dc695803": {
     "views": []
    },
    "3e7ec1eec9bb432ab76638a80530882e": {
     "views": []
    },
    "3ec90899379e473a8a3d9537a9fd3e6a": {
     "views": []
    },
    "3ee2ee71c4df41fe8bcc0e36c035bdc9": {
     "views": []
    },
    "3f1c69d137514a16a98abd88055e502c": {
     "views": []
    },
    "3f419880ead047eda91f3d02a9958b64": {
     "views": [
      {
       "cell": {
        "cell_type": "code",
        "execution_count": 7,
        "metadata": {
         "collapsed": false,
         "trusted": true
        },
        "outputs": [
         {
          "data": {
           "image/png": "iVBORw0KGgoAAAANSUhEUgAAAz4AAAKPCAYAAACsKh+8AAAABHNCSVQICAgIfAhkiAAAAAlwSFlz\nAAAMTQAADE0B0s6tTgAAH1xJREFUeJzt3X+w5Xdd3/HXG5ZFYrlXsEACCSEmpSYWTKAoJkULCjcM\nllrDIB1KBQrRAA6WhlaXTju2M2mpqDCMKQnogFSKo/gDxppLRiJgEhRNCIJRIIkmhCQygvdGV7Ib\n8ukf9yzerLvJ3d3v3XP2ncdjZoe95/u5n/P58p2bPc/7/Z7zrTFGAAAAOnvQvBcAAACw3YQPAADQ\nnvABAADaEz4AAEB7wgcAAGhP+AAAAO0JHwAAoL1Jw6eqdlbVW6vqM1V1XVX9wpTzAwAAHI4dE8/3\nxiT3jDGemCRV9eiJ5wcAADhkNcaYZqKq45LcluRxY4y/nmRSAACACUx5qdupSb6U5A1V9fGq+nBV\nPWvC+QEAAA7LlJe67UhycpJPjTF+vKrOTHJ5VZ0xxvjivkFVVUkem+TOCZ8bAIBpPTzJF8ZUlwfB\nnE15qds3Jrk9yc59PyBV9ftJfmyM8aFN4x6X5POTPCkAANvpxDHGrfNeBExhsjM+Y4y/rKrfTnJu\nkt+qqlOSPCHJ9fsNvTNJbrnlliwtLU319Exk165dueiii+a9DA7C8Vlcjs3icmwWm+OzmNbX13PS\nSSclrtChkak/1e2CJD9XVW9M8tUk548xbjvQwKWlJeGzgHbu3Om4LDDHZ3E5NovLsVlsjg9wtEwa\nPmOMm5L4QAMAAGChTHoDU459Kysr814C98HxWVyOzeJybBab4wMcLZN9uMGWn7BqKcna2tqaU9sA\nAAtofX09y8vLSbI8xlif93pgCs74AAAA7QkfAACgPeEDAAC0J3wAAID2hA8AANCe8AEAANoTPgAA\nQHvCBwAAaE/4AAAA7QkfAACgPeEDAAC0J3wAAID2hA8AANCe8AEAANoTPgAAQHvCBwAAaE/4AAAA\n7QkfAACgPeEDAAC0J3wAAID2hA8AANCe8AEAANoTPgAAQHvCBwAAaE/4AAAA7QkfAACgPeEDAAC0\nJ3wAAID2hA8AANCe8AEAANoTPgAAQHvCBwAAaE/4AAAA7QkfAACgPeEDAAC0J3wAAID2hA8AANCe\n8AEAANoTPgAAQHvCBwAAaE/4AAAA7QkfAACgPeEDAAC0J3wAAID2hA8AANCe8AEAANoTPgAAQHvC\nBwAAaE/4AAAA7QkfAACgPeEDAAC0J3wAAID2hA8AANCe8AEAANoTPgAAQHvCBwAAaE/4AAAA7Qkf\nAACgPeEDAAC0J3wAAID2hA8AANCe8AEAANoTPgAAQHvCBwAAaE/4AAAA7QkfAACgPeEDAAC0J3wA\nAID2hA8AANCe8AEAANoTPgAAQHvCBwAAaE/4AAAA7QkfAACgPeEDAAC0J3wAAID2hA8AANCe8AEA\nANoTPgAAQHvCBwAAaE/4AAAA7QkfAACgPeEDAAC0J3wAAID2hA8AANCe8AEAANoTPgAAQHvCBwAA\naE/4AAAA7QkfAACgPeEDAAC0J3wAAID2tiV8quplVXVPVT1/O+YHAAA4FJOHT1WdnOQVSa6eem4A\nAIDDMWn4VFUleUeS1yTZM+XcAAAAh2vqMz6vS/LRMca1E88LAABw2HZMNVFVfUuS85I8Y6o5AQAA\npjBZ+GQjeE5O8tnZJW/HJ7m0qk4YY1yy/+Bdu3Zl586dSZKVlZWsrKxMuBQAAA7F6upqVldXkyR7\n9njHAv3UGGN7Jq66IsnPjDHev9/jS0nW1tbWsrS0tC3PDQDA4VtfX8/y8nKSLI8x1ue9HpjCdt7H\nZ3uKCgAA4BBNeanbvYwxnrVdcwMAAByK7TzjAwAAsBCEDwAA0J7wAQAA2hM+AABAe8IHAABoT/gA\nAADtCR8AAKA94QMAALQnfAAAgPaEDwAA0J7wAQAA2hM+AABAe8IHAABoT/gAAADtCR8AAKA94QMA\nALQnfAAAgPaEDwAA0J7wAQAA2hM+AABAe8IHAABoT/gAAADtCR8AAKA94QMAALQnfAAAgPaEDwAA\n0J7wAQAA2hM+AABAe8IHAABoT/gAAADtCR8AAKA94QMAALQnfAAAgPaEDwAA0J7wAQAA2hM+AABA\ne8IHAABoT/gAAADtCR8AAKA94QMAALQnfAAAgPaEDwAA0J7wAQAA2hM+AABAe8IHAABoT/gAAADt\nCR8AAKA94QMAALQnfAAAgPaEDwAA0J7wAQAA2hM+AABAe8IHAABoT/gAAADtCR8AAKA94QMAALQn\nfAAAgPaEDwAA0J7wAQAA2hM+AABAe8IHAABoT/gAAADtCR8AAKA94QMAALQnfAAAgPaEDwAA0J7w\nAQAA2hM+AABAe8IHAABoT/gAAADtCR8AAKA94QMAALQnfAAAgPaEDwAA0J7wAQAA2hM+AABAe8IH\nAABoT/gAAADtCR8AAKA94QMAALQnfAAAgPaEDwAA0J7wAQAA2hM+AABAe8IHAABoT/gAAADtCR8A\nAKA94QMAALQnfAAAgPaEDwAA0J7wAQAA2hM+AABAe8IHAABoT/gAAADtCR8AAKC9ycKnqh5aVb9W\nVX9SVddW1WpVnTrV/AAAAIdr6jM+l4wxvnmMcVaS9yd5x8TzAwAAHLLJwmeMcdcY47JND30syclT\nzQ8AAHC4tvM9Pq9N8uvbOD8AAMCW7NiOSatqV5JTk5x/sDG7du3Kzp07kyQrKytZWVnZjqUAALAF\nq6urWV1dTZLs2bNnzquB6dUYY9oJqy5M8sIk3z3GuPMA25eSrK2trWVpaWnS5wYA4Mitr69neXk5\nSZbHGOvzXg9MYdIzPlX1uiQvykGiBwAAYB4mC5+qelySNyW5IckVVVVJvjLG+I6pngMAAOBwTBY+\nY4xb44aoAADAAhIqAABAe8IHAABoT/gAAADtCR8AAKA94QMAALQnfAAAgPaEDwAA0J7wAQAA2hM+\nAABAe8IHAABoT/gAAADtCR8AAKA94QMAALQnfAAAgPaEDwAA0J7wAQAA2hM+AABAe8IHAABoT/gA\nAADtCR8AAKA94QMAALQnfAAAgPaEDwAA0J7wAQAA2hM+AABAe8IHAABoT/gAAADtCR8AAKA94QMA\nALQnfAAAgPaEDwAA0J7wAQAA2hM+AABAe8IHAABoT/gAAADtCR8AAKA94QMAALQnfAAAgPaEDwAA\n0J7wAQAA2hM+AABAe8IHAABoT/gAAADtCR8AAKA94QMAALQnfAAAgPaEDwAA0J7wAQAA2hM+AABA\ne8IHAABoT/gAAADtCR8AAKA94QMAALQnfAAAgPaEDwAA0J7wAQAA2hM+AABAe8IHAABoT/gAAADt\nCR8AAKA94QMAALQnfAAAgPaEDwAA0J7wAQAA2hM+AABAe8IHAABoT/gAAHAwf1VV11XVufseqKrv\nqqrfr6pPzf58+4G+saoeVVW/VVWfqapPVtUzFnHbAdb972bjPltVl1TVgw8y7mFV9Z7ZuD+pqvMW\ncdsB1v29VXV9Vf1pVf1KVf2Dg4yrqnprVX1u9v/Hqxd024/O9vuag+3zPsIHAICDGUn+2RjjsiSp\nqhOSvDPJvxlj/JMkZyW5/iDf+z+TXD3GeGKSlyd5z6aIWKRtX1NVT0jy35KcM8b4R0mOT3L+Qfbv\nwiRfmY07N8nFVfWIBdy2ef++Psk7kjx/jPGPk9yW5L8cZP9ekuSbxxinJfn2JK+vqtMXbdsY481J\nXnGQfbgX4QMAwMHU7M8+r0ryi2OMzyTJGGPvGGP9IN/7wiRvm437gyRfSPJdC7Lt1k3bNntBkt8Y\nY3xx9vXbkvzrg+zfD2ya88+S/E6Sf7Ug267YtG2z5ya5Zozx2dnXF9/H/r0wydtnc345yS9tGrtI\n27ZM+AAAsFVnJDmuqi6vqmuq6i1V9bD9B1XVI5PsGGP8xaaH/yzJ4xdk258nefwB9u/xs233muMA\n4+5v7Ly3Hcr+HV9VB2qCee/DVrdtmfABAGCrdiR5RpLzkjwtySOT/MRcVwRbJHwAANiqm5P85hhj\nfYzx1ST/N8nT9x80xvhSkrur6tGbHn5Ckj9foG03H2T/Tt7CuGTjDMTBxi7Sts1unm3b55Qkt40x\n7jnI2IPNuUjbtkz4AACwVe9J8syq2jn7+rlJrjvI2F9OckGSVNXTkjw2yUcWaNuHZ19fVFWvmo17\nX5LnV9Wjq6qS/HCS9x5k/35ltj1VdUo23jP064u2rapeXVUXzcZdluSsqnri7OsL7mP/fjnJK6vq\nQbPLBX9g09hF2PZLB1n3Qe041G8AAOCBaYxxdVV9IMm1VXV3kk/n715wPzXJT4wxvnc2/MeSvLuq\nPpPkriQvnp0lWrRt35rkD2b7d1NV/dckV2XjE+2uSHLJbP9OyMbZrqfMvu8nk/x8VX0uyd1JXj07\nu7Ro285IcsNs//66ql6R5Ddmn2r3qSQ/OBuXqro2yXPHGLcneXeSf5rks0nuSfKmMcYfz4YuwrZP\n5xDVGONQv+eIVNVSkrW1tbUsLS0d1ecGAOD+ra+vZ3l5Odl48f8N9/HJbce02Zv6rx5jHPBeRB1U\n1UeyETN/M++1bJeq+udJfnpTlB6QS90AADiYO5J8uDbdwLSTMcY9naMnScYY39k8en40yc8m+eL9\njnXGBwCAzTad8VnueraHBx5nfAAAgPaEDwAA0J7wAQAA2hM+AABAe8IHAABoT/gAAADtCR8AAKA9\n4QMAALQnfAAAgPaEDwAA0J7wAQAA2hM+AABAe8IHAABoT/gAAADtCR8AAKA94QMAALS3Y94LADiW\n7d69O5deemlu/9zncvxpp+X888/PcccdN+9l0dDevXtz5ZVX5ku33ZZHnnBCzjnnnDzkIQ+Z97JI\nv2Ozd+/efPSjH533MmByNcaYbrKq05K8K8k/TPJXSV46xrh+vzFLSdbW1taytLQ02XMDHE27d+/O\nS84+O/dcf31etGdPHpvkC0neu3Nn6vTT83+uukoAMYm9e/fmpy68MDd/8IN51k035TF33ZU7HvrQ\nfOiUU3LSc56TC9/0pmP6RfaxrNux2bw/T7/xxvzgnj1JsjzGWJ/32mAKU4fPbyd55xjj3VV1XpL/\nNMb4tv3GCB/gmLZ79+6ce+KJefOXv5ynHGD7NUl+9BGPyGWf/7z44Yjs3bs3rz733LzqIx/JmXff\n/fe2f2LHjlz8nd+Zn73ssmPqBXYH3Y7N/vuznmR5Y5PwoY3JwqeqHpXks0keOca4Z/bYbUnOGWPc\nuGmc8AGOad9/5pn5z9ddd8Do2ecPk1x03HF535OffLSWRUP/46ab8tw77siZ9zHm2iSrxx+fH3vC\nE47Sqkj6HZv990f40NGU7/E5Kclt+6Jn5uYkj09y44G/BeDYsnv37ozrr7/P6EmSpyb56u7d2f2x\nj8U5Hw7H3iS3JPf5wjpJzkpy6e23Z+/tt2fxzyv00O3YbHV/4FjnU90ADsGll16aF21c936/XpTk\n7du7HBq7Msmztjj2WUmu2sa1cG/djs2h7A8cy6Y843NLkhOq6kGbzvo8Phtnff6eXbt2ZefOnUmS\nlZWVrKysTLgUgO1x++c+l6ducexjk1y3nYuhtS8lecwWxz4myV9u41q4t27HZt/+rM7+JMnWfr0D\nx5bJwmeM8cWquibJS5K8q6pekOSWze/v2eyiiy7yHh/gmHP8aaflC1sc+4Ukx2/nYmjtkUnu2OLY\nO5I8ehvXwr11Ozb79ucFSfb9Gno9yc/ObUWwPab+VLcnJnlnkm9MspbkZWOMT+83xocbAMes3bt3\n58WPeER+bQuXu31fVd77tKfl6x7kqmIO3d577slrP/nJXPyVr9zv2Ase9rC89clPzo6qo7Ayuh2b\nA+2PDzego0lvYDrG+EySs6ecE2CRHHfccanTT881W/hUtwd/67fm637v947W0mjmIUlOeu1r84mL\nLz7gxyXvc+2OHTn5/POz481vPnqLe4Drdmy2uj9wrJv0jM+WntAZH+AYt+8+Pj/z5S8f8P0+f5jk\n37uPDxPYd2+VCz7ykZx1gBek1+7Ykf99DN0rppNux2b//XHGh46ED8Bh2L17d15yzjm554//OD+w\nZ08em4339Lx35848+Iwz8u4rrxQ9TGLv3r35qde/Pjd/8IN55o035jF33ZU7HvrQfOiUU3Lyykr+\nw0/+5DHxwrqjbsdm8/58+w035KUbl/QKH9oQPgBHYPfu3Xn729+e22+4Icefempe+cpXCh62xd69\ne3PVVVflS7fdlkeecELOPvvsY+pFdWfdjs3evXtz+eWX53nPe14ifGhE+AAAcC/r6+tZXl5OhA+N\n+KghAACgPeEDAAC0J3wAAID2hA8AANCe8AEAANoTPgAAQHvCBwAAaE/4AAAA7QkfAACgPeEDAAC0\nJ3wAAID2hA8AANCe8AEAANoTPgAAQHvCBwAAaE/4AAAA7QkfAACgPeEDAAC0J3wAAID2hA8AANCe\n8AEAANoTPgAAQHvCBwAAaE/4AAAA7QkfAACgPeEDAAC0J3wAAID2hA8AANCe8AEAANoTPgAAQHvC\nBwAAaE/4AAAA7QkfAACgPeEDAAC0J3wAAID2hA8AANCe8AEAANoTPgAAQHvCBwAAaE/4AAAA7Qkf\nAACgPeEDAAC0J3wAAID2hA8AANCe8AEAANoTPgAAQHvCBwAAaE/4AAAA7QkfAACgPeEDAAC0J3wA\nAID2hA8AANCe8AEAANoTPgAAQHvCBwAAaE/4AAAA7QkfAACgPeEDAAC0J3wAAID2hA8AANCe8AEA\nANoTPgAAQHvCBwAAaE/4AAAA7QkfAACgPeEDAAC0J3wAAID2hA8AANCe8AEAANoTPgAAQHvCBwAA\naE/4AAAA7QkfAACgPeEDAAC0J3wAAID2hA8AANCe8AEAANoTPgAAQHvCBwAAaE/4AAAA7QkfAACg\nPeEDAAC0J3wAAID2hA8AANCe8AEAANoTPgAAQHvCBwAAaE/4AAAA7QkfAACgPeEDAAC0N0n4VNWP\nVNUfVdV1VfWJqnrxFPMCAABMYcdE83wqydljjDur6sQk11bVVWOMmyaaHwAA4LBNcsZnjHHFGOPO\n2d8/n+T2JCdNMTcAAMCRmvw9PlX1PUm+IcnHp54bAADgcGzpUrequirJafs/nGQkOWuMcets3JOS\n/HySF44x/nbKhQIAAByuLYXPGOPs+xtTVWckeX+Sl44xrr6/8bt27crOnTuTJCsrK1lZWdnKUgAA\n2Aarq6tZXV1NkuzZs2fOq4Hp1RjjyCepOj3J/0ty/hjj8vsZu5RkbW1tLUtLS0f83AAATGt9fT3L\ny8tJsjzGWJ/3emAKU73H5y1JlpK8saquraprqurZE80NAABwRCb5OOsxxnOmmAcAAGA7TP6pbgAA\nAItG+AAAAO0JHwAAoD3hAwAAtCd8AACA9oQPAADQnvABAADaEz4AAEB7wgcAAGhP+AAAAO0JHwAA\noD3hAwAAtCd8AACA9oQPAADQnvABAADaEz4AAEB7wgcAAGhP+AAAAO0JHwAAoD3hAwAAtCd8AACA\n9oQPAADQnvABAADaEz4AAEB7wgcAAGhP+AAAAO0JHwAAoD3hAwAAtCd8AACA9oQPAADQnvABAADa\nEz4AAEB7wgcAAGhP+AAAAO0JHwAAoD3hAwAAtCd8AACA9oQPAADQnvABAADaEz4AAEB7wgcAAGhP\n+AAAAO0JHwAAoD3hAwAAtCd8AACA9oQPAADQnvABAADaEz4AAEB7wgcAAGhP+AAAAO0JHwAAoD3h\nAwAAtCd8AACA9oQPAADQnvABAADaEz4AAEB7wgcAAGhP+AAAAO0JHwAAoD3hAwAAtCd8AACA9oQP\nAADQnvABAADaEz4AAEB7wgcAAGhP+AAAAO0JHwAAoD3hAwAAtCd8AACA9oQPAADQnvABAADaEz4A\nAEB7wgcAAGhP+AAAAO0JHwAAoD3hAwAAtCd8AACA9oQPAADQnvABAADaEz4AAEB7wgcAAGhP+AAA\nAO0JHwAAoD3hAwAAtCd8AACA9oQPAADQnvABAADaEz4AAEB7wgcAAGhP+AAAAO0JHwAAoD3hAwAA\ntCd8AACA9oQPAADQnvABAADamzR8qurRVXV7Vf3qlPMCAAAcianP+LwtyQcmnhMAAOCITBY+VfXy\nJDcm+d2p5gQAAJjCJOFTVack+aEkb5hiPgAAgCnt2MqgqroqyWn7P5xkJHlKkp9L8poxxl1VVVuZ\nc9euXdm5c2eSZGVlJSsrK1teNAAA01pdXc3q6mqSZM+ePXNeDUyvxhhHNkHVUpIbktw5e+jhSR6W\n5OoxxrMPMn5tbW0tS0tLR/TcAABMb319PcvLy0myPMZYn/d6YApbOuNzX2Y/DI/a93VV/WCSfznG\n+P4jnRsAAGAK7uMDAAC0N3n4jDHe5WwPAACwSJzxAQAA2hM+AABAe8IHAABoT/gAAADtCR8AAKA9\n4QMAALQnfAAAgPaEDwAA0J7wAQAA2hM+AABAe8IHAABoT/gAAADtCR8AAKA94QMAALQnfAAAgPaE\nDwAA0J7wAQAA2hM+AABAe8IHAABoT/gAAADtCR8AAKA94QMAALQnfAAAgPaEDwAA0J7wAQAA2hM+\nAABAe8IHAABoT/gAAADtCR8AAKA94QMAALQnfAAAgPaEDwAA0J7wAQAA2hM+AABAe8IHAABoT/gA\nAADtCR8AAKA94QMAALQnfAAAgPaEDwAA0J7wAQAA2hM+AABAe8IHAABoT/gAAADtCR8AAKA94QMA\nALQnfAAAgPaEDwAA0J7wAQAA2hM+AABAe8IHAABoT/gAAADtCR8AAKA94QMAALQnfAAAgPaEDwAA\n0J7wAQAA2hM+AABAe8IHAABoT/gAAADtCR8AAKA94QMAALQnfAAAgPaEDwAA0J7wAQAA2hM+AABA\ne8IHAABoT/gAAADtCR8AAKA94QMAALQnfAAAgPaEDwAA0J7wAQAA2hM+AABAe8IHAABoT/gAAADt\nCR8AAKA94QMAALQnfAAAgPaEDwAA0J7wAQAA2hM+AABAe8IHAABoT/gAAADtCR8AAKA94QMAALQn\nfAAAgPaEDwAA0J7wAQAA2hM+AABAe8IHAABoT/gAAADtCR8AAKA94QMAALQ3WfhU1XlV9cmq+qPZ\n/z5+qrkBAACOxCThU1VnJfnvSZ49xnhSku9I8hdTzM3Rtbq6Ou8lcB8cn8Xl2Cwux2axOT7A0TLV\nGZ/XJfnpMcYdSTLG+JsxxlcmmpujyD9Ai83xWVyOzeJybBab4wMcLVOFzxlJTq6q36mqP6yq/1ZV\nNdHcAAAAR2THVgZV1VVJTtv/4SQjyVmzec5M8pzZ39+f5IIkFx9szvX19cNYLtttz549js0Cc3wW\nl2OzuBybxeb4LCbHhI5qjHHkk1R9IMn7xhjvnH39qiRPH2P82wOMfVySzx/xkwIAsN1OHGPcOu9F\nwBS2dMZnC96T5F9U1buSPDgbZ34+epCxX0hyYpI7J3puAACm9/BsvG6DFqY641NJ/leS5yW5OxvR\n89oxxt1HPDkAAMARmiR8AAAAFtlkNzA9HG56utiq6tFVdXtV/eq818Lfqaofmf3MXFdVn6iqF897\nTQ9kVXVaVV1ZVX9aVb9XVafPe01sqKqHVtWvVdWfVNW1VbVaVafOe13cW1W9rKruqarnz3stbKiq\nnVX11qr6zOzfml+Y95pgClO9x+eQbbrp6TPHGHdU1dcn+eq81sMBvS3JB5J847wXwr18KsnZY4w7\nq+rEJNdW1VVjjJvmvbAHqEuSvG2M8e6qOi/Ju5J825zXxN+5ZIxxWZJU1auTvCPJM+e7JPapqpOT\nvCLJ1fNeC/fyxiT3jDGemGz8InTO64FJzPOMj5ueLrCqenmSG5P87rzXwr2NMa4YY9w5+/vnk9ye\n5KT5ruqBqaoeleSpSX4xScYY70tyUlV901wXRpJkjHHXvuiZ+ViSk+e1Hu5t9v7gdyR5TZI9c14O\nM1V1XJKXJ3nDvsfGGH8xvxXBdOYZPm56uqCq6pQkP5RN/9FjMVXV9yT5hiQfn/daHqBOSnLbGOOe\nTY/dnMRlu4vptUl+fd6L4Gtel+SjY4xr570Q7uXUJF9K8oaq+nhVfbiqnjXvRcEUtu1St+246SnT\nuJ9j85QkP5fkNWOMu8To0Xd/Pzv77qdQVU9K8vNJXjjG+Nuju0o4tlTVrmy8oDt/3mshqapvSXJe\nkmfMey38PTuycWb0U2OMH6+qM5NcXlVnjDG+OOe1wRHZtvAZY5x9X9ur6uZs3PR0T5I9szfQPz3C\nZ9vd17GpqqUkT0ryS7PmeXiSh1XV5WOMZx+lJT6g3d/PTpJU1RnZ+GXBS8cYro2fn1uSnFBVD9p0\n1ufx2Tjrw4KoqguTfF+S73ZJ9cJ4RjZeXH929gu245NcWlUnjDEume/SHvBuzsZ7rt+TJGOMT1TV\nTdl4bfCheS4MjtQ8L3V7T5Ln1IYd2Tjzc90c10OSMcb6GONRY4xvGmN8U5ILk3xQ9CyO2aeG/WaS\n88cY/hGao9lvP69J8pIkqaoXJLlljHHjXBfG11TV65K8KMmz9703jvkbY7xtjPG42b81p2Tj/Vfn\ni575G2P8ZZLfTnJu8rXL35+Q5Po5LgsmMc/weW+SW5N8OhsvHG5N8pY5rgeOFW9JspTkjbOP6L2m\nqoTp/Pxwkh+qqj9N8h+TvGzO62Gmqh6X5E1JlpNcMft5cYZ0Mbmp4GK5IMnrq+qTSX41G1F625zX\nBEfMDUwBAID25noDUwAAgKNB+AAAAO0JHwAAoD3hAwAAtCd8AACA9oQPAADQnvABAADaEz4AAEB7\nwgcAAGjv/wNiuh1JRm4QPQAAAABJRU5ErkJggg==\n",
           "text/plain": "<matplotlib.figure.Figure at 0x7f7e6e60add0>"
          },
          "metadata": {},
          "output_type": "display_data"
         }
        ],
        "source": "for i in range(N):\n    @interact(value=(-pi/2, pi/2, 0.1), n=fixed(i))\n    def set_joint_angle(n, value=0):\n        global a\n        a[n] = value\n        T = forward_kinematics(T0, l, a)\n        show_robot_arm(T)\n"
       },
       "cell_index": 10,
       "root": true
      }
     ]
    },
    "3f5ab6e43ca24f5e8e5027949e294b73": {
     "views": []
    },
    "402b967618d643fc97bfae338b61bca7": {
     "views": []
    },
    "406779a8f6d34d4380a191d686a93982": {
     "views": []
    },
    "40f4104efd0a476b8cda2270451a36c6": {
     "views": []
    },
    "413a128d962c46529e2d1e29560a6ae0": {
     "views": []
    },
    "41a1baaa410b4a2b9ef5215415419794": {
     "views": []
    },
    "41bff4e065034fba946a00910cf2bbd0": {
     "views": []
    },
    "4207fd35447646a3ae207eb156e8a1a7": {
     "views": []
    },
    "423b0c0c4c2d4854bb834c78182cbe36": {
     "views": []
    },
    "423eba659fb04fb99eac03114ad2d622": {
     "views": []
    },
    "429a4d65c8584ae791503ab41cb58731": {
     "views": []
    },
    "42d7f50de10a49f8b733885b0af80966": {
     "views": []
    },
    "432d06b78d8f4824bab1a93996b2a14a": {
     "views": []
    },
    "4358fc87be654926bec4b4b2e4440d38": {
     "views": []
    },
    "437bbfd69d6d4a80a94decfaf685876f": {
     "views": []
    },
    "440c429e8f294ce58c5f89ab76abf6c1": {
     "views": []
    },
    "441fdac0c8fb41b993d6f18e4204e6bf": {
     "views": []
    },
    "459c36f2bea74af49733d14f6c617384": {
     "views": []
    },
    "45a70163f8404fd294c9f936bff78828": {
     "views": []
    },
    "45c245c1bb9b4b859b23d15f980cd954": {
     "views": []
    },
    "473397ff39574085ac5ccd578afa8e07": {
     "views": []
    },
    "47eaadb62e4c4204b946f89c2d7cfba0": {
     "views": []
    },
    "47f4537bcdde4e569ddc6f1f1fdf082d": {
     "views": []
    },
    "48a945f1f67a461882f704126b5802e5": {
     "views": []
    },
    "4930cd5ddbaf497d83864cb1776b081c": {
     "views": []
    },
    "49472f1b85d14c5aacb9cd45dc73b937": {
     "views": []
    },
    "4a76aea6fa7844b5a2507caba2fbe80d": {
     "views": []
    },
    "4b34f8f5e4d94f9e88d18705f4a84be0": {
     "views": []
    },
    "4b9169c3066a4e2793168f58c546912e": {
     "views": []
    },
    "4bbf0bfc7f5b41feba7b3ed4fb58b590": {
     "views": []
    },
    "4c222a58cf0844be861fb1c6c3899ac8": {
     "views": []
    },
    "4d3ced97d549466280fe52cf91179ee1": {
     "views": []
    },
    "4d478351c1cb4336910a65566da5a404": {
     "views": []
    },
    "4e113d6cadb946adbfc504f0fc4f4506": {
     "views": []
    },
    "4e2da3d20dad466ebb93919d5acc5873": {
     "views": []
    },
    "4e7424e801804d24a1da1bc325ab4509": {
     "views": []
    },
    "4f313ccb6bf044e6bd4d67bb524477ff": {
     "views": []
    },
    "4f78051096014637bd27c6bb2d9a6fe2": {
     "views": []
    },
    "4f81829f7a2a44ccb3c0246fa42b0099": {
     "views": []
    },
    "4feb7d54900a4b55ade9546899309963": {
     "views": []
    },
    "4ff47f58b3234bb1a8794f408f35b1f9": {
     "views": []
    },
    "502c259235914c65aa122cf102c5f95c": {
     "views": []
    },
    "50602203bbcc4b1da8fa832cb050ea6a": {
     "views": []
    },
    "506abf1a2b804854bda60dad426aeeb6": {
     "views": []
    },
    "50e4995bc4a44719b8fe53616db715b2": {
     "views": []
    },
    "50e5dc84a6ca458a8267ff821bbab146": {
     "views": []
    },
    "5148268d65f64ef1a65d2f2aded3464f": {
     "views": []
    },
    "5148432ae0094c60bf8336c2188e5d97": {
     "views": []
    },
    "51c5280a6a36429ba00c237c1e71daa3": {
     "views": []
    },
    "51eab325838d423c951fe914d2e6f58d": {
     "views": []
    },
    "520196af52bb43d297c17f47b9a14cdc": {
     "views": []
    },
    "5296222172c44bb09a734e048885969a": {
     "views": []
    },
    "542cd1d22bcc4f9b8bbd027276654935": {
     "views": []
    },
    "5487e5d9a6114e3692a8b47c0115f9ef": {
     "views": []
    },
    "5501bd1747a649b684b6d41b422cb957": {
     "views": []
    },
    "553dac4558df4e5ab758a21559fb80b7": {
     "views": []
    },
    "55782ed84520477e9e0a4f24b6a0a294": {
     "views": []
    },
    "557ca17fb98a44d7931b118ccb20944d": {
     "views": []
    },
    "560ad4d8eddf4b2b900d18ded3210c7e": {
     "views": []
    },
    "56484c45895249018f169130a7e6aa98": {
     "views": []
    },
    "56db0e442c794624a9ada6b09daee590": {
     "views": []
    },
    "575e9ad19d414ba7848848d58bb7cb0e": {
     "views": []
    },
    "57659cbe98984d7e941d4fa94fc557e2": {
     "views": []
    },
    "57fcba7a75ab495a838548811f4dd804": {
     "views": []
    },
    "580b97bcc0c941fe8e6b707fb141d7eb": {
     "views": []
    },
    "58302abf49e347429bb7761fbbe33231": {
     "views": []
    },
    "58483ecde6ac44d49dc8482c986b6ddc": {
     "views": []
    },
    "58c882595c8e4800b34dae7974f07f19": {
     "views": []
    },
    "592a0a75fe434c05adb20c5ad8589421": {
     "views": []
    },
    "5943051f8c184c52acf56edbd48d5fb1": {
     "views": []
    },
    "59894859a6f34e528248367e05521199": {
     "views": []
    },
    "5acec54672e94c2cbae1da33a69a7a41": {
     "views": []
    },
    "5b0e4b7f52a14ed0925d6fccdad1c8f8": {
     "views": []
    },
    "5b8d22559a3047f986bd55309324c916": {
     "views": []
    },
    "5b9bde91070b4dccbd5a87a235f01887": {
     "views": []
    },
    "5cd2e158c2d24f7c950ec6954da1bef3": {
     "views": []
    },
    "5d783e15f0fe42f09e0b64f141ad229b": {
     "views": [
      {
       "cell": {
        "cell_type": "code",
        "execution_count": 7,
        "metadata": {
         "collapsed": false,
         "trusted": true
        },
        "outputs": [
         {
          "data": {
           "image/png": "iVBORw0KGgoAAAANSUhEUgAAAz4AAAKPCAYAAACsKh+8AAAABHNCSVQICAgIfAhkiAAAAAlwSFlz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\nwgcAAGjv/wNiuh1JRm4QPQAAAABJRU5ErkJggg==\n",
           "text/plain": "<matplotlib.figure.Figure at 0x7f7e6e60add0>"
          },
          "metadata": {},
          "output_type": "display_data"
         }
        ],
        "source": "for i in range(N):\n    @interact(value=(-pi/2, pi/2, 0.1), n=fixed(i))\n    def set_joint_angle(n, value=0):\n        global a\n        a[n] = value\n        T = forward_kinematics(T0, l, a)\n        show_robot_arm(T)\n"
       },
       "cell_index": 10,
       "root": true
      }
     ]
    },
    "5dbe6899de6941e4baa16dc072df40c9": {
     "views": []
    },
    "5e8769162a4140d5bc70b8aec03e7ad8": {
     "views": []
    },
    "5e87aee9f185402f8ff57a465fbe73e7": {
     "views": []
    },
    "5ef7e2e41c0043bc8a55756ce22df3e9": {
     "views": []
    },
    "5fef33cf88954c079bf52d5dbbb0339f": {
     "views": []
    },
    "61ac09cef9924de2a2146dcb2b2e852e": {
     "views": []
    },
    "621c02cb75364b558abc79df43f8b70e": {
     "views": []
    },
    "63511e5c5aa34ec3a58130ae0d8b6bdf": {
     "views": []
    },
    "63775a25bb2b4ee9b8446ceef21818fc": {
     "views": []
    },
    "639c23cf0db44536a5f78136ea5b449e": {
     "views": []
    },
    "63d34734668d4d4e8a9abd079cfffcc9": {
     "views": []
    },
    "647b63c63fed43daa91f41fe25b22482": {
     "views": []
    },
    "64976a06e0c24cbebbe7fe4ebe3ee1cd": {
     "views": []
    },
    "654d4b7dbb4a4a18bcb54cc292d2f4bb": {
     "views": []
    },
    "6628109154014be7a19c42fb56a91ef8": {
     "views": [
      {
       "cell": {
        "cell_type": "code",
        "execution_count": 7,
        "metadata": {
         "collapsed": false,
         "trusted": true
        },
        "outputs": [
         {
          "data": {
           "image/png": "iVBORw0KGgoAAAANSUhEUgAAAz4AAAKPCAYAAACsKh+8AAAABHNCSVQICAgIfAhkiAAAAAlwSFlz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\nwgcAAGjv/wNiuh1JRm4QPQAAAABJRU5ErkJggg==\n",
           "text/plain": "<matplotlib.figure.Figure at 0x7f7e6e60add0>"
          },
          "metadata": {},
          "output_type": "display_data"
         }
        ],
        "source": "for i in range(N):\n    @interact(value=(-pi/2, pi/2, 0.1), n=fixed(i))\n    def set_joint_angle(n, value=0):\n        global a\n        a[n] = value\n        T = forward_kinematics(T0, l, a)\n        show_robot_arm(T)\n"
       },
       "cell_index": 10,
       "root": true
      }
     ]
    },
    "66b011dbaa5c41fcb4c71d72f55af266": {
     "views": []
    },
    "66ecc76b33ce4b9dbf080bae63d3d6d7": {
     "views": []
    },
    "67377e0ad39f42a19133ea575e166cfd": {
     "views": []
    },
    "674d2cf140c5448d9fe5b7a5cceac6ba": {
     "views": []
    },
    "67e0805befc644748271decde7bf1218": {
     "views": []
    },
    "697a98b6e58844049a81cc4b5da87be0": {
     "views": []
    },
    "69d28d94f5eb40a3879b21f9507e6121": {
     "views": []
    },
    "6a212e13893a4ab0a241a89a6007906c": {
     "views": []
    },
    "6abd33d635584ac3bbe8902f7ddd90d4": {
     "views": []
    },
    "6b17c7b15ea1410a93477b40977226b5": {
     "views": []
    },
    "6ca5197312004a9683d386408cc08392": {
     "views": []
    },
    "6d017c1c4b01499693c498de96d7f97a": {
     "views": []
    },
    "6d17774c8b64462f93b8462a77e58415": {
     "views": []
    },
    "6db471bbc3794e53a4fda8828961360a": {
     "views": []
    },
    "6de8f2d679c1445fbc3ce051fec75a1e": {
     "views": []
    },
    "6e070ef4748e4e40a987b6aacf122e0c": {
     "views": []
    },
    "6e82cccbb1344bc3b20c3175f52608d0": {
     "views": []
    },
    "6e9a98ffa31b449d9c137b9f1f0359f3": {
     "views": []
    },
    "6ecb03b3ef024b1085696a8f3b41d3ba": {
     "views": []
    },
    "6ee8f1f634974b8ba9558e4322b4c6d4": {
     "views": []
    },
    "6f3a909c6f774a7b8d713440c87b0850": {
     "views": []
    },
    "7005e042210046bbbcb8774e321ad2de": {
     "views": []
    },
    "70e70828620b42e4a1691ab4a0002e47": {
     "views": []
    },
    "71356f391594493c9b6618e8439701bc": {
     "views": []
    },
    "7157f92cb89a403785ac94702c38681a": {
     "views": []
    },
    "715a4c01b195434c9c1c082a04e7adde": {
     "views": [
      {
       "cell": {
        "cell_type": "code",
        "execution_count": 7,
        "metadata": {
         "collapsed": false,
         "trusted": true
        },
        "outputs": [
         {
          "data": {
           "image/png": "iVBORw0KGgoAAAANSUhEUgAAAz4AAAKPCAYAAACsKh+8AAAABHNCSVQICAgIfAhkiAAAAAlwSFlz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\nwgcAAGjv/wNiuh1JRm4QPQAAAABJRU5ErkJggg==\n",
           "text/plain": "<matplotlib.figure.Figure at 0x7f7e6e60add0>"
          },
          "metadata": {},
          "output_type": "display_data"
         }
        ],
        "source": "for i in range(N):\n    @interact(value=(-pi/2, pi/2, 0.1), n=fixed(i))\n    def set_joint_angle(n, value=0):\n        global a\n        a[n] = value\n        T = forward_kinematics(T0, l, a)\n        show_robot_arm(T)\n"
       },
       "cell_index": 10,
       "root": true
      }
     ]
    },
    "71fe3ab37df047f8af2367d8f9a79994": {
     "views": []
    },
    "72231c63ee8d4c2196df2b889e895eb7": {
     "views": []
    },
    "7224f8df15bf4c81b657da552ca9ed24": {
     "views": []
    },
    "730a7d996a3a4ff18f7d3dd9ec5f5ae8": {
     "views": []
    },
    "73736b6f6f69435d971a25fe39a572df": {
     "views": []
    },
    "73b62c199ef741e6b2e86487476ed81d": {
     "views": []
    },
    "745aea5ce26e4cbd9559786ae4f2c9a5": {
     "views": []
    },
    "74932e9cb8f64a30b15936223eb666e6": {
     "views": []
    },
    "74ec10ad98f44cae8ec7cb23bca2e7e8": {
     "views": []
    },
    "755577b3878e4659a9d79c14d1a8b663": {
     "views": []
    },
    "75a0ef9fd2144683a0c221172e75686c": {
     "views": [
      {
       "cell": {
        "cell_type": "code",
        "execution_count": 7,
        "metadata": {
         "collapsed": false,
         "trusted": true
        },
        "outputs": [
         {
          "data": {
           "image/png": "iVBORw0KGgoAAAANSUhEUgAAAz4AAAKPCAYAAACsKh+8AAAABHNCSVQICAgIfAhkiAAAAAlwSFlz\nAAAMTQAADE0B0s6tTgAAH1xJREFUeJzt3X+w5Xdd3/HXG5ZFYrlXsEACCSEmpSYWTKAoJkULCjcM\nllrDIB1KBQrRAA6WhlaXTju2M2mpqDCMKQnogFSKo/gDxppLRiJgEhRNCIJRIIkmhCQygvdGV7Ib\n8ukf9yzerLvJ3d3v3XP2ncdjZoe95/u5n/P58p2bPc/7/Z7zrTFGAAAAOnvQvBcAAACw3YQPAADQ\nnvABAADaEz4AAEB7wgcAAGhP+AAAAO0JHwAAoL1Jw6eqdlbVW6vqM1V1XVX9wpTzAwAAHI4dE8/3\nxiT3jDGemCRV9eiJ5wcAADhkNcaYZqKq45LcluRxY4y/nmRSAACACUx5qdupSb6U5A1V9fGq+nBV\nPWvC+QEAAA7LlJe67UhycpJPjTF+vKrOTHJ5VZ0xxvjivkFVVUkem+TOCZ8bAIBpPTzJF8ZUlwfB\nnE15qds3Jrk9yc59PyBV9ftJfmyM8aFN4x6X5POTPCkAANvpxDHGrfNeBExhsjM+Y4y/rKrfTnJu\nkt+qqlOSPCHJ9fsNvTNJbrnlliwtLU319Exk165dueiii+a9DA7C8Vlcjs3icmwWm+OzmNbX13PS\nSSclrtChkak/1e2CJD9XVW9M8tUk548xbjvQwKWlJeGzgHbu3Om4LDDHZ3E5NovLsVlsjg9wtEwa\nPmOMm5L4QAMAAGChTHoDU459Kysr814C98HxWVyOzeJybBab4wMcLZN9uMGWn7BqKcna2tqaU9sA\nAAtofX09y8vLSbI8xlif93pgCs74AAAA7QkfAACgPeEDAAC0J3wAAID2hA8AANCe8AEAANoTPgAA\nQHvCBwAAaE/4AAAA7QkfAACgPeEDAAC0J3wAAID2hA8AANCe8AEAANoTPgAAQHvCBwAAaE/4AAAA\n7QkfAACgPeEDAAC0J3wAAID2hA8AANCe8AEAANoTPgAAQHvCBwAAaE/4AAAA7QkfAACgPeEDAAC0\nJ3wAAID2hA8AANCe8AEAANoTPgAAQHvCBwAAaE/4AAAA7QkfAACgPeEDAAC0J3wAAID2hA8AANCe\n8AEAANoTPgAAQHvCBwAAaE/4AAAA7QkfAACgPeEDAAC0J3wAAID2hA8AANCe8AEAANoTPgAAQHvC\nBwAAaE/4AAAA7QkfAACgPeEDAAC0J3wAAID2hA8AANCe8AEAANoTPgAAQHvCBwAAaE/4AAAA7Qkf\nAACgPeEDAAC0J3wAAID2hA8AANCe8AEAANoTPgAAQHvCBwAAaE/4AAAA7QkfAACgPeEDAAC0J3wA\nAID2hA8AANCe8AEAANoTPgAAQHvCBwAAaE/4AAAA7QkfAACgPeEDAAC0J3wAAID2hA8AANCe8AEA\nANoTPgAAQHvCBwAAaE/4AAAA7QkfAACgPeEDAAC0J3wAAID2hA8AANCe8AEAANoTPgAAQHvCBwAA\naE/4AAAA7QkfAACgPeEDAAC0J3wAAID2tiV8quplVXVPVT1/O+YHAAA4FJOHT1WdnOQVSa6eem4A\nAIDDMWn4VFUleUeS1yTZM+XcAAAAh2vqMz6vS/LRMca1E88LAABw2HZMNVFVfUuS85I8Y6o5AQAA\npjBZ+GQjeE5O8tnZJW/HJ7m0qk4YY1yy/+Bdu3Zl586dSZKVlZWsrKxMuBQAAA7F6upqVldXkyR7\n9njHAv3UGGN7Jq66IsnPjDHev9/jS0nW1tbWsrS0tC3PDQDA4VtfX8/y8nKSLI8x1ue9HpjCdt7H\nZ3uKCgAA4BBNeanbvYwxnrVdcwMAAByK7TzjAwAAsBCEDwAA0J7wAQAA2hM+AABAe8IHAABoT/gA\nAADtCR8AAKA94QMAALQnfAAAgPaEDwAA0J7wAQAA2hM+AABAe8IHAABoT/gAAADtCR8AAKA94QMA\nALQnfAAAgPaEDwAA0J7wAQAA2hM+AABAe8IHAABoT/gAAADtCR8AAKA94QMAALQnfAAAgPaEDwAA\n0J7wAQAA2hM+AABAe8IHAABoT/gAAADtCR8AAKA94QMAALQnfAAAgPaEDwAA0J7wAQAA2hM+AABA\ne8IHAABoT/gAAADtCR8AAKA94QMAALQnfAAAgPaEDwAA0J7wAQAA2hM+AABAe8IHAABoT/gAAADt\nCR8AAKA94QMAALQnfAAAgPaEDwAA0J7wAQAA2hM+AABAe8IHAABoT/gAAADtCR8AAKA94QMAALQn\nfAAAgPaEDwAA0J7wAQAA2hM+AABAe8IHAABoT/gAAADtCR8AAKA94QMAALQnfAAAgPaEDwAA0J7w\nAQAA2hM+AABAe8IHAABoT/gAAADtCR8AAKA94QMAALQnfAAAgPaEDwAA0J7wAQAA2hM+AABAe8IH\nAABoT/gAAADtCR8AAKA94QMAALQnfAAAgPaEDwAA0J7wAQAA2hM+AABAe8IHAABoT/gAAADtCR8A\nAKA94QMAALQnfAAAgPaEDwAA0J7wAQAA2hM+AABAe8IHAABoT/gAAADtCR8AAKC9ycKnqh5aVb9W\nVX9SVddW1WpVnTrV/AAAAIdr6jM+l4wxvnmMcVaS9yd5x8TzAwAAHLLJwmeMcdcY47JND30syclT\nzQ8AAHC4tvM9Pq9N8uvbOD8AAMCW7NiOSatqV5JTk5x/sDG7du3Kzp07kyQrKytZWVnZjqUAALAF\nq6urWV1dTZLs2bNnzquB6dUYY9oJqy5M8sIk3z3GuPMA25eSrK2trWVpaWnS5wYA4Mitr69neXk5\nSZbHGOvzXg9MYdIzPlX1uiQvykGiBwAAYB4mC5+qelySNyW5IckVVVVJvjLG+I6pngMAAOBwTBY+\nY4xb44aoAADAAhIqAABAe8IHAABoT/gAAADtCR8AAKA94QMAALQnfAAAgPaEDwAA0J7wAQAA2hM+\nAABAe8IHAABoT/gAAADtCR8AAKA94QMAALQnfAAAgPaEDwAA0J7wAQAA2hM+AABAe8IHAABoT/gA\nAADtCR8AAKA94QMAALQnfAAAgPaEDwAA0J7wAQAA2hM+AABAe8IHAABoT/gAAADtCR8AAKA94QMA\nALQnfAAAgPaEDwAA0J7wAQAA2hM+AABAe8IHAABoT/gAAADtCR8AAKA94QMAALQnfAAAgPaEDwAA\n0J7wAQAA2hM+AABAe8IHAABoT/gAAADtCR8AAKA94QMAALQnfAAAgPaEDwAA0J7wAQAA2hM+AABA\ne8IHAABoT/gAAADtCR8AAKA94QMAALQnfAAAgPaEDwAA0J7wAQAA2hM+AABAe8IHAABoT/gAAADt\nCR8AAKA94QMAALQnfAAAgPaEDwAA0J7wAQAA2hM+AABAe8IHAABoT/gAAHAwf1VV11XVufseqKrv\nqqrfr6pPzf58+4G+saoeVVW/VVWfqapPVtUzFnHbAdb972bjPltVl1TVgw8y7mFV9Z7ZuD+pqvMW\ncdsB1v29VXV9Vf1pVf1KVf2Dg4yrqnprVX1u9v/Hqxd024/O9vuag+3zPsIHAICDGUn+2RjjsiSp\nqhOSvDPJvxlj/JMkZyW5/iDf+z+TXD3GeGKSlyd5z6aIWKRtX1NVT0jy35KcM8b4R0mOT3L+Qfbv\nwiRfmY07N8nFVfWIBdy2ef++Psk7kjx/jPGPk9yW5L8cZP9ekuSbxxinJfn2JK+vqtMXbdsY481J\nXnGQfbgX4QMAwMHU7M8+r0ryi2OMzyTJGGPvGGP9IN/7wiRvm437gyRfSPJdC7Lt1k3bNntBkt8Y\nY3xx9vXbkvzrg+zfD2ya88+S/E6Sf7Ug267YtG2z5ya5Zozx2dnXF9/H/r0wydtnc345yS9tGrtI\n27ZM+AAAsFVnJDmuqi6vqmuq6i1V9bD9B1XVI5PsGGP8xaaH/yzJ4xdk258nefwB9u/xs233muMA\n4+5v7Ly3Hcr+HV9VB2qCee/DVrdtmfABAGCrdiR5RpLzkjwtySOT/MRcVwRbJHwAANiqm5P85hhj\nfYzx1ST/N8nT9x80xvhSkrur6tGbHn5Ckj9foG03H2T/Tt7CuGTjDMTBxi7Sts1unm3b55Qkt40x\n7jnI2IPNuUjbtkz4AACwVe9J8syq2jn7+rlJrjvI2F9OckGSVNXTkjw2yUcWaNuHZ19fVFWvmo17\nX5LnV9Wjq6qS/HCS9x5k/35ltj1VdUo23jP064u2rapeXVUXzcZdluSsqnri7OsL7mP/fjnJK6vq\nQbPLBX9g09hF2PZLB1n3Qe041G8AAOCBaYxxdVV9IMm1VXV3kk/n715wPzXJT4wxvnc2/MeSvLuq\nPpPkriQvnp0lWrRt35rkD2b7d1NV/dckV2XjE+2uSHLJbP9OyMbZrqfMvu8nk/x8VX0uyd1JXj07\nu7Ro285IcsNs//66ql6R5Ddmn2r3qSQ/OBuXqro2yXPHGLcneXeSf5rks0nuSfKmMcYfz4YuwrZP\n5xDVGONQv+eIVNVSkrW1tbUsLS0d1ecGAOD+ra+vZ3l5Odl48f8N9/HJbce02Zv6rx5jHPBeRB1U\n1UeyETN/M++1bJeq+udJfnpTlB6QS90AADiYO5J8uDbdwLSTMcY9naMnScYY39k8en40yc8m+eL9\njnXGBwCAzTad8VnueraHBx5nfAAAgPaEDwAA0J7wAQAA2hM+AABAe8IHAABoT/gAAADtCR8AAKA9\n4QMAALQnfAAAgPaEDwAA0J7wAQAA2hM+AABAe8IHAABoT/gAAADtCR8AAKA94QMAALS3Y94LADiW\n7d69O5deemlu/9zncvxpp+X888/PcccdN+9l0dDevXtz5ZVX5ku33ZZHnnBCzjnnnDzkIQ+Z97JI\nv2Ozd+/efPSjH533MmByNcaYbrKq05K8K8k/TPJXSV46xrh+vzFLSdbW1taytLQ02XMDHE27d+/O\nS84+O/dcf31etGdPHpvkC0neu3Nn6vTT83+uukoAMYm9e/fmpy68MDd/8IN51k035TF33ZU7HvrQ\nfOiUU3LSc56TC9/0pmP6RfaxrNux2bw/T7/xxvzgnj1JsjzGWJ/32mAKU4fPbyd55xjj3VV1XpL/\nNMb4tv3GCB/gmLZ79+6ce+KJefOXv5ynHGD7NUl+9BGPyGWf/7z44Yjs3bs3rz733LzqIx/JmXff\n/fe2f2LHjlz8nd+Zn73ssmPqBXYH3Y7N/vuznmR5Y5PwoY3JwqeqHpXks0keOca4Z/bYbUnOGWPc\nuGmc8AGOad9/5pn5z9ddd8Do2ecPk1x03HF535OffLSWRUP/46ab8tw77siZ9zHm2iSrxx+fH3vC\nE47Sqkj6HZv990f40NGU7/E5Kclt+6Jn5uYkj09y44G/BeDYsnv37ozrr7/P6EmSpyb56u7d2f2x\nj8U5Hw7H3iS3JPf5wjpJzkpy6e23Z+/tt2fxzyv00O3YbHV/4FjnU90ADsGll16aF21c936/XpTk\n7du7HBq7Msmztjj2WUmu2sa1cG/djs2h7A8cy6Y843NLkhOq6kGbzvo8Phtnff6eXbt2ZefOnUmS\nlZWVrKysTLgUgO1x++c+l6ducexjk1y3nYuhtS8lecwWxz4myV9u41q4t27HZt/+rM7+JMnWfr0D\nx5bJwmeM8cWquibJS5K8q6pekOSWze/v2eyiiy7yHh/gmHP8aaflC1sc+4Ukx2/nYmjtkUnu2OLY\nO5I8ehvXwr11Ozb79ucFSfb9Gno9yc/ObUWwPab+VLcnJnlnkm9MspbkZWOMT+83xocbAMes3bt3\n58WPeER+bQuXu31fVd77tKfl6x7kqmIO3d577slrP/nJXPyVr9zv2Ase9rC89clPzo6qo7Ayuh2b\nA+2PDzego0lvYDrG+EySs6ecE2CRHHfccanTT881W/hUtwd/67fm637v947W0mjmIUlOeu1r84mL\nLz7gxyXvc+2OHTn5/POz481vPnqLe4Drdmy2uj9wrJv0jM+WntAZH+AYt+8+Pj/z5S8f8P0+f5jk\n37uPDxPYd2+VCz7ykZx1gBek1+7Ykf99DN0rppNux2b//XHGh46ED8Bh2L17d15yzjm554//OD+w\nZ08em4339Lx35848+Iwz8u4rrxQ9TGLv3r35qde/Pjd/8IN55o035jF33ZU7HvrQfOiUU3Lyykr+\nw0/+5DHxwrqjbsdm8/58+w035KUbl/QKH9oQPgBHYPfu3Xn729+e22+4Icefempe+cpXCh62xd69\ne3PVVVflS7fdlkeecELOPvvsY+pFdWfdjs3evXtz+eWX53nPe14ifGhE+AAAcC/r6+tZXl5OhA+N\n+KghAACgPeEDAAC0J3wAAID2hA8AANCe8AEAANoTPgAAQHvCBwAAaE/4AAAA7QkfAACgPeEDAAC0\nJ3wAAID2hA8AANCe8AEAANoTPgAAQHvCBwAAaE/4AAAA7QkfAACgPeEDAAC0J3wAAID2hA8AANCe\n8AEAANoTPgAAQHvCBwAAaE/4AAAA7QkfAACgPeEDAAC0J3wAAID2hA8AANCe8AEAANoTPgAAQHvC\nBwAAaE/4AAAA7QkfAACgPeEDAAC0J3wAAID2hA8AANCe8AEAANoTPgAAQHvCBwAAaE/4AAAA7Qkf\nAACgPeEDAAC0J3wAAID2hA8AANCe8AEAANoTPgAAQHvCBwAAaE/4AAAA7QkfAACgPeEDAAC0J3wA\nAID2hA8AANCe8AEAANoTPgAAQHvCBwAAaE/4AAAA7QkfAACgPeEDAAC0J3wAAID2hA8AANCe8AEA\nANoTPgAAQHvCBwAAaE/4AAAA7QkfAACgPeEDAAC0J3wAAID2hA8AANCe8AEAANoTPgAAQHvCBwAA\naE/4AAAA7QkfAACgPeEDAAC0J3wAAID2hA8AANCe8AEAANoTPgAAQHvCBwAAaE/4AAAA7QkfAACg\nPeEDAAC0J3wAAID2hA8AANCe8AEAANoTPgAAQHvCBwAAaE/4AAAA7QkfAACgPeEDAAC0N0n4VNWP\nVNUfVdV1VfWJqnrxFPMCAABMYcdE83wqydljjDur6sQk11bVVWOMmyaaHwAA4LBNcsZnjHHFGOPO\n2d8/n+T2JCdNMTcAAMCRmvw9PlX1PUm+IcnHp54bAADgcGzpUrequirJafs/nGQkOWuMcets3JOS\n/HySF44x/nbKhQIAAByuLYXPGOPs+xtTVWckeX+Sl44xrr6/8bt27crOnTuTJCsrK1lZWdnKUgAA\n2Aarq6tZXV1NkuzZs2fOq4Hp1RjjyCepOj3J/0ty/hjj8vsZu5RkbW1tLUtLS0f83AAATGt9fT3L\ny8tJsjzGWJ/3emAKU73H5y1JlpK8saquraprqurZE80NAABwRCb5OOsxxnOmmAcAAGA7TP6pbgAA\nAItG+AAAAO0JHwAAoD3hAwAAtCd8AACA9oQPAADQnvABAADaEz4AAEB7wgcAAGhP+AAAAO0JHwAA\noD3hAwAAtCd8AACA9oQPAADQnvABAADaEz4AAEB7wgcAAGhP+AAAAO0JHwAAoD3hAwAAtCd8AACA\n9oQPAADQnvABAADaEz4AAEB7wgcAAGhP+AAAAO0JHwAAoD3hAwAAtCd8AACA9oQPAADQnvABAADa\nEz4AAEB7wgcAAGhP+AAAAO0JHwAAoD3hAwAAtCd8AACA9oQPAADQnvABAADaEz4AAEB7wgcAAGhP\n+AAAAO0JHwAAoD3hAwAAtCd8AACA9oQPAADQnvABAADaEz4AAEB7wgcAAGhP+AAAAO0JHwAAoD3h\nAwAAtCd8AACA9oQPAADQnvABAADaEz4AAEB7wgcAAGhP+AAAAO0JHwAAoD3hAwAAtCd8AACA9oQP\nAADQnvABAADaEz4AAEB7wgcAAGhP+AAAAO0JHwAAoD3hAwAAtCd8AACA9oQPAADQnvABAADaEz4A\nAEB7wgcAAGhP+AAAAO0JHwAAoD3hAwAAtCd8AACA9oQPAADQnvABAADaEz4AAEB7wgcAAGhP+AAA\nAO0JHwAAoD3hAwAAtCd8AACA9oQPAADQnvABAADaEz4AAEB7wgcAAGhP+AAAAO0JHwAAoD3hAwAA\ntCd8AACA9oQPAADQnvABAADamzR8qurRVXV7Vf3qlPMCAAAcianP+LwtyQcmnhMAAOCITBY+VfXy\nJDcm+d2p5gQAAJjCJOFTVack+aEkb5hiPgAAgCnt2MqgqroqyWn7P5xkJHlKkp9L8poxxl1VVVuZ\nc9euXdm5c2eSZGVlJSsrK1teNAAA01pdXc3q6mqSZM+ePXNeDUyvxhhHNkHVUpIbktw5e+jhSR6W\n5OoxxrMPMn5tbW0tS0tLR/TcAABMb319PcvLy0myPMZYn/d6YApbOuNzX2Y/DI/a93VV/WCSfznG\n+P4jnRsAAGAK7uMDAAC0N3n4jDHe5WwPAACwSJzxAQAA2hM+AABAe8IHAABoT/gAAADtCR8AAKA9\n4QMAALQnfAAAgPaEDwAA0J7wAQAA2hM+AABAe8IHAABoT/gAAADtCR8AAKA94QMAALQnfAAAgPaE\nDwAA0J7wAQAA2hM+AABAe8IHAABoT/gAAADtCR8AAKA94QMAALQnfAAAgPaEDwAA0J7wAQAA2hM+\nAABAe8IHAABoT/gAAADtCR8AAKA94QMAALQnfAAAgPaEDwAA0J7wAQAA2hM+AABAe8IHAABoT/gA\nAADtCR8AAKA94QMAALQnfAAAgPaEDwAA0J7wAQAA2hM+AABAe8IHAABoT/gAAADtCR8AAKA94QMA\nALQnfAAAgPaEDwAA0J7wAQAA2hM+AABAe8IHAABoT/gAAADtCR8AAKA94QMAALQnfAAAgPaEDwAA\n0J7wAQAA2hM+AABAe8IHAABoT/gAAADtCR8AAKA94QMAALQnfAAAgPaEDwAA0J7wAQAA2hM+AABA\ne8IHAABoT/gAAADtCR8AAKA94QMAALQnfAAAgPaEDwAA0J7wAQAA2hM+AABAe8IHAABoT/gAAADt\nCR8AAKA94QMAALQnfAAAgPaEDwAA0J7wAQAA2hM+AABAe8IHAABoT/gAAADtCR8AAKA94QMAALQn\nfAAAgPaEDwAA0J7wAQAA2hM+AABAe8IHAABoT/gAAADtCR8AAKA94QMAALQ3WfhU1XlV9cmq+qPZ\n/z5+qrkBAACOxCThU1VnJfnvSZ49xnhSku9I8hdTzM3Rtbq6Ou8lcB8cn8Xl2Cwux2axOT7A0TLV\nGZ/XJfnpMcYdSTLG+JsxxlcmmpujyD9Ai83xWVyOzeJybBab4wMcLVOFzxlJTq6q36mqP6yq/1ZV\nNdHcAAAAR2THVgZV1VVJTtv/4SQjyVmzec5M8pzZ39+f5IIkFx9szvX19cNYLtttz549js0Cc3wW\nl2OzuBybxeb4LCbHhI5qjHHkk1R9IMn7xhjvnH39qiRPH2P82wOMfVySzx/xkwIAsN1OHGPcOu9F\nwBS2dMZnC96T5F9U1buSPDgbZ34+epCxX0hyYpI7J3puAACm9/BsvG6DFqY641NJ/leS5yW5OxvR\n89oxxt1HPDkAAMARmiR8AAAAFtlkNzA9HG56utiq6tFVdXtV/eq818Lfqaofmf3MXFdVn6iqF897\nTQ9kVXVaVV1ZVX9aVb9XVafPe01sqKqHVtWvVdWfVNW1VbVaVafOe13cW1W9rKruqarnz3stbKiq\nnVX11qr6zOzfml+Y95pgClO9x+eQbbrp6TPHGHdU1dcn+eq81sMBvS3JB5J847wXwr18KsnZY4w7\nq+rEJNdW1VVjjJvmvbAHqEuSvG2M8e6qOi/Ju5J825zXxN+5ZIxxWZJU1auTvCPJM+e7JPapqpOT\nvCLJ1fNeC/fyxiT3jDGemGz8InTO64FJzPOMj5ueLrCqenmSG5P87rzXwr2NMa4YY9w5+/vnk9ye\n5KT5ruqBqaoeleSpSX4xScYY70tyUlV901wXRpJkjHHXvuiZ+ViSk+e1Hu5t9v7gdyR5TZI9c14O\nM1V1XJKXJ3nDvsfGGH8xvxXBdOYZPm56uqCq6pQkP5RN/9FjMVXV9yT5hiQfn/daHqBOSnLbGOOe\nTY/dnMRlu4vptUl+fd6L4Gtel+SjY4xr570Q7uXUJF9K8oaq+nhVfbiqnjXvRcEUtu1St+246SnT\nuJ9j85QkP5fkNWOMu8To0Xd/Pzv77qdQVU9K8vNJXjjG+Nuju0o4tlTVrmy8oDt/3mshqapvSXJe\nkmfMey38PTuycWb0U2OMH6+qM5NcXlVnjDG+OOe1wRHZtvAZY5x9X9ur6uZs3PR0T5I9szfQPz3C\nZ9vd17GpqqUkT0ryS7PmeXiSh1XV5WOMZx+lJT6g3d/PTpJU1RnZ+GXBS8cYro2fn1uSnFBVD9p0\n1ufx2Tjrw4KoqguTfF+S73ZJ9cJ4RjZeXH929gu245NcWlUnjDEume/SHvBuzsZ7rt+TJGOMT1TV\nTdl4bfCheS4MjtQ8L3V7T5Ln1IYd2Tjzc90c10OSMcb6GONRY4xvGmN8U5ILk3xQ9CyO2aeG/WaS\n88cY/hGao9lvP69J8pIkqaoXJLlljHHjXBfG11TV65K8KMmz9703jvkbY7xtjPG42b81p2Tj/Vfn\ni575G2P8ZZLfTnJu8rXL35+Q5Po5LgsmMc/weW+SW5N8OhsvHG5N8pY5rgeOFW9JspTkjbOP6L2m\nqoTp/Pxwkh+qqj9N8h+TvGzO62Gmqh6X5E1JlpNcMft5cYZ0Mbmp4GK5IMnrq+qTSX41G1F625zX\nBEfMDUwBAID25noDUwAAgKNB+AAAAO0JHwAAoD3hAwAAtCd8AACA9oQPAADQnvABAADaEz4AAEB7\nwgcAAGjv/wNiuh1JRm4QPQAAAABJRU5ErkJggg==\n",
           "text/plain": "<matplotlib.figure.Figure at 0x7f7e6e60add0>"
          },
          "metadata": {},
          "output_type": "display_data"
         }
        ],
        "source": "for i in range(N):\n    @interact(value=(-pi/2, pi/2, 0.1), n=fixed(i))\n    def set_joint_angle(n, value=0):\n        global a\n        a[n] = value\n        T = forward_kinematics(T0, l, a)\n        show_robot_arm(T)\n"
       },
       "cell_index": 10,
       "root": true
      }
     ]
    },
    "76003fe0a0e943fdbbe0391163fca3c0": {
     "views": []
    },
    "764bbadf61ac4bfba5c193d7562c6b89": {
     "views": []
    },
    "76878ad61be447418f71384c72be4989": {
     "views": []
    },
    "76a146ecc38a4fd3b910bb6c80a21aa6": {
     "views": []
    },
    "76bba0168ca74f5cae007378abb0a42c": {
     "views": []
    },
    "7714c84005eb41aa8073bc7267d94a49": {
     "views": []
    },
    "771da58bff8d45f48035c6f6dfbb0247": {
     "views": []
    },
    "7747d8da20ff4a8dbe04451e717037de": {
     "views": []
    },
    "779074abb57847c297259a8cfc62b864": {
     "views": []
    },
    "77ab5fa940aa4b83b3c4f15978a8c421": {
     "views": []
    },
    "77dae2f56add4b248fc8f337e2275370": {
     "views": []
    },
    "77fd06f6283343d98f53532ef885653a": {
     "views": []
    },
    "78922887d84c4d7993e3927b0dd838dd": {
     "views": []
    },
    "78ab8eb75a9f4eabb5c720f189ac0f82": {
     "views": []
    },
    "78ee2228e4a446fb96c5b05aabbed2f1": {
     "views": []
    },
    "78f31375e7d4470f98433d2d5c9f502d": {
     "views": []
    },
    "78f408ebfd2340ce9b9811b5e927f975": {
     "views": []
    },
    "79282081c34f434aadb044725a85bdc9": {
     "views": []
    },
    "795112a196b04c87a3b6624e243d5cc5": {
     "views": []
    },
    "7ab30028c509498ab7d830a537fdc21d": {
     "views": []
    },
    "7b2bfdef9f1642e38535e57feedfc381": {
     "views": []
    },
    "7cd0a60dcf9f4b2682bcc67379fd55dd": {
     "views": []
    },
    "7ce4994437d3413da6527af5d4e6b930": {
     "views": []
    },
    "7d1ed91c8df7452b9e2a6ddb8f7d8557": {
     "views": []
    },
    "7d444aa6065d45ba833da38d2fb90570": {
     "views": []
    },
    "7d45674650244446908304c2ba4c4a96": {
     "views": []
    },
    "7d61a398112f434892875cc03383fec7": {
     "views": []
    },
    "7d705660cb834878a36c134f6105e80e": {
     "views": []
    },
    "7dca5aaa136a4593b8a3aa2e0a24a754": {
     "views": []
    },
    "7dd210e55e304374bb21b7d46e3e5ed4": {
     "views": []
    },
    "7ee10d2a055e49ca9660e9446a51cb11": {
     "views": []
    },
    "7f0ec4266ec14f248d0093f483e65691": {
     "views": []
    },
    "7f5cbac936b440779d1b916fae9c0733": {
     "views": []
    },
    "7f6825787c254ee3840bce150c62fd09": {
     "views": []
    },
    "8076d1e6559b44bea3b3ce473234c6f5": {
     "views": []
    },
    "807e6397667547348051ab273e7c2646": {
     "views": []
    },
    "80c67420490d4018beb1de5c5ef80353": {
     "views": []
    },
    "81058127ab67471c9c9d42aa6adb9f4a": {
     "views": []
    },
    "810aa640b20a48d4ac7a6e0c1292c38b": {
     "views": []
    },
    "81f43a6480f64b7b85db422b7181d64d": {
     "views": []
    },
    "8232dc34462a4b50b05651b09d1cfed3": {
     "views": []
    },
    "836adde1e8ac4901a68a338072f9265a": {
     "views": []
    },
    "844023a0b67545e6a7b736c9c88f3774": {
     "views": []
    },
    "846659cf6d5d4e579bd085c5abbbccd7": {
     "views": []
    },
    "8506f13d29854bc1ab3b6cc61912ecac": {
     "views": []
    },
    "850c17b209e24a8cb08f3302a5eacf3c": {
     "views": []
    },
    "856832257ef14043af5f05a4f4e53108": {
     "views": []
    },
    "862af38d79ca48b79a2c3f58a8bca63b": {
     "views": []
    },
    "862d527c58ac44df9d2828447b1194b7": {
     "views": []
    },
    "8659caad67c44ead821bfaeeb81d9662": {
     "views": []
    },
    "86f51cbd07bc469fb86b9fd95bb0a432": {
     "views": []
    },
    "87c9b681640548cda63b491432a717b7": {
     "views": []
    },
    "8850e420a70e40cdadaa0cb98f706cbd": {
     "views": []
    },
    "8959d66d8d124a65a86aa0913bd458e6": {
     "views": []
    },
    "8986e01c90cc4f7e8129a5b8e6b44eba": {
     "views": []
    },
    "89c530dda5eb4ae2a6a5494bcf476cd3": {
     "views": []
    },
    "8a1c851f0d664ae2a38fad87b52c5d7a": {
     "views": []
    },
    "8a28e4f00a634b8da131d58e3f80e0a1": {
     "views": []
    },
    "8a7e287b5bc5444f9d4e744641fbed6a": {
     "views": []
    },
    "8a814ec4656946f6ae0934797ae6c6ed": {
     "views": []
    },
    "8ac353a448ca423cb1c973c85fb1cfcd": {
     "views": []
    },
    "8be4ce5846a2401da7e9e1541ad89ebe": {
     "views": []
    },
    "8bf08bd9d7494ca0a2f3b3a2d0821379": {
     "views": []
    },
    "8c563433df884ede8da3cf09f3d12c9b": {
     "views": []
    },
    "8d2d0c8d02f448f891ace3be57a6007c": {
     "views": []
    },
    "8d7a87e6c656415687f4aac07587d37a": {
     "views": []
    },
    "8df75c9715c4420aadc78c5616b630a1": {
     "views": []
    },
    "8e1a455843e44246930ddf48e576f596": {
     "views": []
    },
    "8e6df76d630a4e429c9f9b34d769852e": {
     "views": []
    },
    "91d26359e19d4c108bf81e55512e2f1c": {
     "views": []
    },
    "922ccb204ab34dc48233990308a0f181": {
     "views": []
    },
    "9284c33b60e540468611b74b1ce0803c": {
     "views": []
    },
    "929b9865d5e24ffbb0503010f1f74ec6": {
     "views": []
    },
    "942815f2227f4dd3897a509683ec7440": {
     "views": []
    },
    "943851c1d7914fe982eb4b0cab395f3b": {
     "views": []
    },
    "9444aeb1ad574274917df73a0b3bc7a6": {
     "views": []
    },
    "94485ed590f84177b37b63ccb8b82971": {
     "views": []
    },
    "9489d5c77aa44afc8b605a39209ba673": {
     "views": []
    },
    "94c8c972301c467a813f0d2804ed453d": {
     "views": []
    },
    "94f53cb7f3fc469cab4d6516de141579": {
     "views": []
    },
    "94fdf5141dfc46a9aa7949bd2ff2f933": {
     "views": []
    },
    "9593c52a782b490aa55139ac9e50047a": {
     "views": []
    },
    "95a07c01e5364b6e8d326b20a3b40632": {
     "views": []
    },
    "95b70460d1e34f5fa897895ddd9b004d": {
     "views": []
    },
    "95e09b11bb494afbbc077af37032f070": {
     "views": []
    },
    "96128cb6cc6546509b043107cff4ed5f": {
     "views": []
    },
    "961f9cf320524e48bb201b67deeeb19f": {
     "views": []
    },
    "9671ffc734974e7991a1c8182a245233": {
     "views": []
    },
    "967c3ebfee7746b599072ec50f618b51": {
     "views": []
    },
    "96e794d7916d4ff29cfd406da4a64ba9": {
     "views": []
    },
    "96ed4e7ca8984ccbac3afc8207321357": {
     "views": []
    },
    "9709fb06c5e946349ddefac58453b635": {
     "views": []
    },
    "971ccf47cc1e41ffa9f18b2bb5a5c095": {
     "views": []
    },
    "9737e26f026444fda30896fcd6f7ba59": {
     "views": []
    },
    "9746904fb0bb4a72a22fa574bab45f1e": {
     "views": []
    },
    "97b0feafc8fa41489451f40edd686abf": {
     "views": []
    },
    "97bfb4b134a04b1d9cdccb0e7bc47634": {
     "views": []
    },
    "97cb5255096244bfb858c3592db6595a": {
     "views": []
    },
    "981c04787ab14f868f8a0a5e572ff0f0": {
     "views": []
    },
    "98558e929fb447b1a0d450a29effdce6": {
     "views": []
    },
    "989eb48d7ef74f56b543c33c0f57119e": {
     "views": []
    },
    "98a41e3f379c41578dea0c1df4c8311a": {
     "views": []
    },
    "98bca9417a09414bbd7e372f67905d51": {
     "views": []
    },
    "98ea6590a7c041379fe58d8510e5fdcd": {
     "views": []
    },
    "98f1d54c470f4397bb682cc719bf501e": {
     "views": []
    },
    "9930fb05134747ba80c2e9205206a8d4": {
     "views": []
    },
    "99f2f2bf9085493bb010fe456dfd3c77": {
     "views": []
    },
    "9a042e9620434bfb819c9f89cdcef242": {
     "views": []
    },
    "9a0ca5ceee5e4a4d92aab9acc3d90e67": {
     "views": [
      {
       "cell": {
        "cell_type": "code",
        "execution_count": 7,
        "metadata": {
         "collapsed": false,
         "trusted": true
        },
        "outputs": [
         {
          "data": {
           "image/png": "iVBORw0KGgoAAAANSUhEUgAAAz4AAAKPCAYAAACsKh+8AAAABHNCSVQICAgIfAhkiAAAAAlwSFlz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\nwgcAAGjv/wNiuh1JRm4QPQAAAABJRU5ErkJggg==\n",
           "text/plain": "<matplotlib.figure.Figure at 0x7f7e6e60add0>"
          },
          "metadata": {},
          "output_type": "display_data"
         }
        ],
        "source": "for i in range(N):\n    @interact(value=(-pi/2, pi/2, 0.1), n=fixed(i))\n    def set_joint_angle(n, value=0):\n        global a\n        a[n] = value\n        T = forward_kinematics(T0, l, a)\n        show_robot_arm(T)\n"
       },
       "cell_index": 10,
       "root": true
      }
     ]
    },
    "9a19791b387e4c5a913a92790141f553": {
     "views": []
    },
    "9a3dd9ada08d4312b729bc1891e43f1a": {
     "views": []
    },
    "9a81582415584ce588f6a1c53b927d32": {
     "views": []
    },
    "9ae0d4a38f1e4b498b0bc4801df700ec": {
     "views": []
    },
    "9aef67ddda784eb7b93dc9c617ef03ec": {
     "views": []
    },
    "9b917897eeb24144930072d47c8a7571": {
     "views": []
    },
    "9bd57fc229d24f9aa65f8366028e3007": {
     "views": []
    },
    "9bdd3a0d16de4cd7801d67957b196382": {
     "views": []
    },
    "9c13a849122d47458c4ab77c56edf863": {
     "views": []
    },
    "9c9748ffe74d4a5cbc26aef71c6e4780": {
     "views": []
    },
    "9ce4a1bcfd694843a536393891af83be": {
     "views": []
    },
    "9d7f35226a3a4f6c9ae12362454a9716": {
     "views": []
    },
    "9dba4d8a3c4d420492b5b5ac732b5fa0": {
     "views": []
    },
    "9dd653229bd649df86e7ce3d5688e963": {
     "views": []
    },
    "9dddfa92060a4a4ab09253e94473d45e": {
     "views": [
      {
       "cell": {
        "cell_type": "code",
        "execution_count": 7,
        "metadata": {
         "collapsed": false,
         "trusted": true
        },
        "outputs": [
         {
          "data": {
           "image/png": "iVBORw0KGgoAAAANSUhEUgAAAz4AAAKPCAYAAACsKh+8AAAABHNCSVQICAgIfAhkiAAAAAlwSFlz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\nwgcAAGjv/wNiuh1JRm4QPQAAAABJRU5ErkJggg==\n",
           "text/plain": "<matplotlib.figure.Figure at 0x7f7e6e60add0>"
          },
          "metadata": {},
          "output_type": "display_data"
         }
        ],
        "source": "for i in range(N):\n    @interact(value=(-pi/2, pi/2, 0.1), n=fixed(i))\n    def set_joint_angle(n, value=0):\n        global a\n        a[n] = value\n        T = forward_kinematics(T0, l, a)\n        show_robot_arm(T)\n"
       },
       "cell_index": 10,
       "root": true
      }
     ]
    },
    "9ed9af812afd4824ae37de57527dbe04": {
     "views": []
    },
    "9ee6f262ac364087a35690994d9c777e": {
     "views": []
    },
    "9eef7f00bb544fdc85ac22d60e29b2cc": {
     "views": []
    },
    "9f295bd3ba0a424fbbc45da512f6bea9": {
     "views": []
    },
    "a0a561f1b4554e13aa87081b7d714d17": {
     "views": []
    },
    "a0cb4f4cc1924829826f8b13dc9c2700": {
     "views": []
    },
    "a0d45770e9364f16ad743568ce0d4baf": {
     "views": []
    },
    "a0e8a2c9ba5b47b7bd520aed0eeb8a2c": {
     "views": []
    },
    "a10daed678bc4e31b46716d918bcce1e": {
     "views": []
    },
    "a11b2c64cb654e509999eec253045444": {
     "views": []
    },
    "a165e7ee9b574a9bb1d515b055099c71": {
     "views": []
    },
    "a2e3c80098b7422880ffba2c4424e236": {
     "views": []
    },
    "a3692a56420240858fd193c030fa1a5d": {
     "views": []
    },
    "a3b31e9e4a994d8f9d2246adfcb882f3": {
     "views": []
    },
    "a47b898cf1cf4dda871a9c3d1854c2c7": {
     "views": []
    },
    "a4ab2fd0be014ecdaf6951ec1e613717": {
     "views": []
    },
    "a4cc8616d713406fa2b0d88c787492ef": {
     "views": []
    },
    "a62809bcaaaa476d9873d5a6821f7ff7": {
     "views": []
    },
    "a67f960425844150acae36c4a11bb270": {
     "views": []
    },
    "a68636cb0d7f48fd9476223e56e5836e": {
     "views": []
    },
    "a6978d6b8172402198e2d6805ddade00": {
     "views": []
    },
    "a6ec984ef08c445496dc89501b760ade": {
     "views": []
    },
    "a8bc94010cc74a0bbac9939a4fd9276d": {
     "views": []
    },
    "a8c1a89930c64b5f92245524b10c60bc": {
     "views": []
    },
    "a9e26b2037e944f087408db70155c888": {
     "views": []
    },
    "aa1463eaa1664fd28f0ba461dcf6ace1": {
     "views": []
    },
    "aae8913ea5ac4c68928076f10a251aa3": {
     "views": []
    },
    "aaea21e37619448a957d13e15fbaa90e": {
     "views": []
    },
    "ab4881ca82dd421486f3b6079b18f4fb": {
     "views": []
    },
    "ab79df375c9145a4a5de033070f21068": {
     "views": []
    },
    "ac3425cd0b5549c1b6122fd6ae492d5d": {
     "views": []
    },
    "ac6182fddd3740428187c68fff085376": {
     "views": []
    },
    "ac767e113c044a4c8dcc55edabd9c3bc": {
     "views": []
    },
    "ad032275625a4754956bc5eefaec7418": {
     "views": []
    },
    "ad07b73b4d4441c29670d42615a7ca6e": {
     "views": []
    },
    "ad76edec4856470c9500a4c0b63710f6": {
     "views": []
    },
    "ae1dd2fe05224d5992d3e2c6bff50322": {
     "views": []
    },
    "ae69f8830a034a5aabb75b12921db73a": {
     "views": []
    },
    "ae7809842e42462a9f6fb0b024e51542": {
     "views": []
    },
    "af4987ac07eb4c5d97a5ea71dd128b42": {
     "views": []
    },
    "af62547a4d7d4383a8f5de9f04a145da": {
     "views": []
    },
    "afb9dc2bf8404cd2b29c646fb1e1e8fc": {
     "views": []
    },
    "afd302529056487398bc4e5b3252e470": {
     "views": []
    },
    "b018508d019d49a3976590ad8440079a": {
     "views": []
    },
    "b048d199698d4fd189d74c77a4ef1c82": {
     "views": []
    },
    "b06bf370e25e471eb74e9de4420bcd16": {
     "views": [
      {
       "cell": {
        "cell_type": "code",
        "execution_count": 7,
        "metadata": {
         "collapsed": false,
         "trusted": true
        },
        "outputs": [
         {
          "data": {
           "image/png": "iVBORw0KGgoAAAANSUhEUgAAAz4AAAKPCAYAAACsKh+8AAAABHNCSVQICAgIfAhkiAAAAAlwSFlz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\nwgcAAGjv/wNiuh1JRm4QPQAAAABJRU5ErkJggg==\n",
           "text/plain": "<matplotlib.figure.Figure at 0x7f7e6e60add0>"
          },
          "metadata": {},
          "output_type": "display_data"
         }
        ],
        "source": "for i in range(N):\n    @interact(value=(-pi/2, pi/2, 0.1), n=fixed(i))\n    def set_joint_angle(n, value=0):\n        global a\n        a[n] = value\n        T = forward_kinematics(T0, l, a)\n        show_robot_arm(T)\n"
       },
       "cell_index": 10,
       "root": true
      }
     ]
    },
    "b0939de0ddd64138a947665fc7d23e20": {
     "views": []
    },
    "b097623d1e7a4a48b11b1f405d98d4e8": {
     "views": []
    },
    "b1318684110d42d79687a6386cbae811": {
     "views": [
      {
       "cell": {
        "cell_type": "code",
        "execution_count": 25,
        "metadata": {
         "collapsed": false,
         "trusted": true
        },
        "outputs": [
         {
          "data": {
           "image/png": "iVBORw0KGgoAAAANSUhEUgAAAzoAAAKPCAYAAAClwb/GAAAABHNCSVQICAgIfAhkiAAAAAlwSFlz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\nAACgO0IHAADojtABAAC6I3QAAIDu/P+zHD7CA7x3IAAAAABJRU5ErkJggg==\n",
           "text/plain": "<matplotlib.figure.Figure at 0x7f7e6b4d6ad0>"
          },
          "metadata": {},
          "output_type": "display_data"
         }
        ],
        "source": "from numpy import asarray\ntheta = asarray([0.1] * N)\nlambda_ = 0.001\ndef inverse_kinematics(x_e, y_e, theta_e, theta):\n    target = matrix([[x_e, y_e, theta_e]])\n    while True:\n        T = forward_kinematics(T0, lv, theta)\n        Te = matrix([from_trans(T[-1])])\n        e = target - Te\n        T = matrix([from_trans(i) for i in T[1:-1]])\n        J = Te - T\n        J = J.T\n        J[-1, :] = 1  # angular velocity\n        JJT = J * J.T\n        d_theta = lambda_ * J.T * JJT.I * e.T\n        theta += asarray(d_theta.T)[0]\n        if  np.linalg.norm(d_theta) < 1e-4:\n            break\n    return theta\n\nT = forward_kinematics(T0, lv, theta)\nTe = matrix([from_trans(T[-1])])\n\n@interact(x_e=(0, max_len, 0.01), y_e=(-max_len, max_len, 0.01), theta_e=(-pi, pi, 0.01), theta=fixed(theta))\ndef set_end_effector(x_e=Te[0,0], y_e=Te[0,1], theta_e=Te[0,2], theta=theta):\n    theta = inverse_kinematics(x_e, y_e, theta_e, theta)\n    T = forward_kinematics(T0, lv, theta)\n    show_robot_arm(T)\n\n# NOTE\n# while numerical inverse kinematics is easy to implemente, two issues have to be keep in mind:\n# * stablility: the correction step (lambda_) has to be small, but it will take longer time to converage\n# * singularity: there are singularity poses (all 0, for example), the correction will be 0, so the algorithm won't work. That's why many robots bends its leg when walking"
       },
       "cell_index": 33,
       "root": true
      }
     ]
    },
    "b249266f72ce41b096bfeafd4789ed36": {
     "views": []
    },
    "b27d4b54be3c499bac6ce346de64e0bb": {
     "views": []
    },
    "b28e241d2ac14db39d89dc3952ff8974": {
     "views": []
    },
    "b402a799328c49e99abd5beb99ad63cb": {
     "views": [
      {
       "cell": {
        "cell_type": "code",
        "execution_count": 7,
        "metadata": {
         "collapsed": false,
         "trusted": true
        },
        "outputs": [
         {
          "data": {
           "image/png": "iVBORw0KGgoAAAANSUhEUgAAAz4AAAKPCAYAAACsKh+8AAAABHNCSVQICAgIfAhkiAAAAAlwSFlz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\nwgcAAGjv/wNiuh1JRm4QPQAAAABJRU5ErkJggg==\n",
           "text/plain": "<matplotlib.figure.Figure at 0x7f7e6e60add0>"
          },
          "metadata": {},
          "output_type": "display_data"
         }
        ],
        "source": "for i in range(N):\n    @interact(value=(-pi/2, pi/2, 0.1), n=fixed(i))\n    def set_joint_angle(n, value=0):\n        global a\n        a[n] = value\n        T = forward_kinematics(T0, l, a)\n        show_robot_arm(T)\n"
       },
       "cell_index": 10,
       "root": true
      }
     ]
    },
    "b491570fd738421e971d2f01f6e5e025": {
     "views": []
    },
    "b4cd5a2f926e43be8c8028d2c071e2e5": {
     "views": []
    },
    "b579ef0051d945a9adc2c1c7a0387ab9": {
     "views": []
    },
    "b7203daacce34cedab333faf601f8080": {
     "views": []
    },
    "b74a7887033349f59d4dcce5df469ebe": {
     "views": []
    },
    "b7da1a920b6441d8b303aacc5472a743": {
     "views": []
    },
    "b7ebf419b324467196b93aec2ddfb2e5": {
     "views": []
    },
    "b7f65fb78b1f4963923e4b2b889ae71d": {
     "views": []
    },
    "b80d613ff47c4b5e8a92d15ce973c058": {
     "views": []
    },
    "b80d7b1129344995a0e08645bd02c43c": {
     "views": []
    },
    "b8af5204f7bd46e49556c9b9339a61d1": {
     "views": []
    },
    "b8f0724bbf9c4379af6c6b24598a2e45": {
     "views": []
    },
    "b94bcf1136124faa83d0d49f6ffd01ef": {
     "views": []
    },
    "b94d48ddfc0c4b9bbe799e23d02bdb23": {
     "views": []
    },
    "b9a4a36b6f0541d08765760f39d5979d": {
     "views": []
    },
    "b9b0e906c50b4fe194ba0561860a48d2": {
     "views": []
    },
    "b9b20e2b81ef469fbc2147fe4fd1fbcd": {
     "views": [
      {
       "cell": {
        "cell_type": "code",
        "execution_count": 7,
        "metadata": {
         "collapsed": false,
         "trusted": true
        },
        "outputs": [
         {
          "data": {
           "image/png": "iVBORw0KGgoAAAANSUhEUgAAAz4AAAKPCAYAAACsKh+8AAAABHNCSVQICAgIfAhkiAAAAAlwSFlz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\nwgcAAGjv/wNiuh1JRm4QPQAAAABJRU5ErkJggg==\n",
           "text/plain": "<matplotlib.figure.Figure at 0x7f7e6e60add0>"
          },
          "metadata": {},
          "output_type": "display_data"
         }
        ],
        "source": "for i in range(N):\n    @interact(value=(-pi/2, pi/2, 0.1), n=fixed(i))\n    def set_joint_angle(n, value=0):\n        global a\n        a[n] = value\n        T = forward_kinematics(T0, l, a)\n        show_robot_arm(T)\n"
       },
       "cell_index": 10,
       "root": true
      }
     ]
    },
    "b9eee2008f4e4bbdb794dc096ad66eed": {
     "views": []
    },
    "bb317461e530495584bed769e3907371": {
     "views": []
    },
    "bb4935d65aa4419a903c269ee1c245c6": {
     "views": []
    },
    "bb5048ede7214dbc95ddd20b2860d967": {
     "views": []
    },
    "bc375a0bce7f422988cf8184f1b766e4": {
     "views": []
    },
    "bcdf58e3772d46bc85c99b311fca3597": {
     "views": []
    },
    "bd0e575537f84a4dbbe73055036d545f": {
     "views": []
    },
    "bda506ba1987430e8e52e2370d61f1a7": {
     "views": []
    },
    "bde65c86e6d1468fb60ae401c4c8b29a": {
     "views": [
      {
       "cell": {
        "cell_type": "code",
        "execution_count": 7,
        "metadata": {
         "collapsed": false,
         "trusted": true
        },
        "outputs": [
         {
          "data": {
           "image/png": "iVBORw0KGgoAAAANSUhEUgAAAz4AAAKPCAYAAACsKh+8AAAABHNCSVQICAgIfAhkiAAAAAlwSFlz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\nwgcAAGjv/wNiuh1JRm4QPQAAAABJRU5ErkJggg==\n",
           "text/plain": "<matplotlib.figure.Figure at 0x7f7e6e60add0>"
          },
          "metadata": {},
          "output_type": "display_data"
         }
        ],
        "source": "for i in range(N):\n    @interact(value=(-pi/2, pi/2, 0.1), n=fixed(i))\n    def set_joint_angle(n, value=0):\n        global a\n        a[n] = value\n        T = forward_kinematics(T0, l, a)\n        show_robot_arm(T)\n"
       },
       "cell_index": 10,
       "root": true
      }
     ]
    },
    "be1acc039ba446ee8faa23f50a109cad": {
     "views": []
    },
    "bf5d09791dc84a05a89a788915401157": {
     "views": []
    },
    "c04926eeeee849949eb61738e5e66675": {
     "views": []
    },
    "c05c848c83c649bca51c6b180a176e4a": {
     "views": []
    },
    "c1778dbcd3454ee190824e9101a0b647": {
     "views": []
    },
    "c17e1418e17445ef8f2a0f8e1dad0c38": {
     "views": []
    },
    "c1eaf2eb5c684f2db956365800471e0d": {
     "views": []
    },
    "c205b755237d444eb87a20babac93ad5": {
     "views": []
    },
    "c229e9376d6a4e1b8243aa035744b4a8": {
     "views": []
    },
    "c296feae9fc241f6b7cc2155c35d2a21": {
     "views": []
    },
    "c298b40a15fc4980a8bec3c3c36e1cdf": {
     "views": []
    },
    "c2a9da2b5f9a441c86c7ca1d98bdfb5c": {
     "views": []
    },
    "c2ba4e3cb0024641939db9301b068ace": {
     "views": []
    },
    "c2bae26c415844b19c575a61f4e98967": {
     "views": []
    },
    "c2fa97d314134fdf8ed6e6db1428cd88": {
     "views": []
    },
    "c3703cc105c14aa29739a9c4aa53923c": {
     "views": [
      {
       "cell": {
        "cell_type": "code",
        "execution_count": 7,
        "metadata": {
         "collapsed": false,
         "trusted": true
        },
        "outputs": [
         {
          "data": {
           "image/png": "iVBORw0KGgoAAAANSUhEUgAAAz4AAAKPCAYAAACsKh+8AAAABHNCSVQICAgIfAhkiAAAAAlwSFlz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\nwgcAAGjv/wNiuh1JRm4QPQAAAABJRU5ErkJggg==\n",
           "text/plain": "<matplotlib.figure.Figure at 0x7f7e6e60add0>"
          },
          "metadata": {},
          "output_type": "display_data"
         }
        ],
        "source": "for i in range(N):\n    @interact(value=(-pi/2, pi/2, 0.1), n=fixed(i))\n    def set_joint_angle(n, value=0):\n        global a\n        a[n] = value\n        T = forward_kinematics(T0, l, a)\n        show_robot_arm(T)\n"
       },
       "cell_index": 10,
       "root": true
      }
     ]
    },
    "c39014455211404cae26ef0b4179cc29": {
     "views": []
    },
    "c3ae4ee5304c468f84b15b2f834369c3": {
     "views": []
    },
    "c40830ec69ab4c61882d3bb657705a29": {
     "views": [
      {
       "cell": {
        "cell_type": "code",
        "execution_count": 7,
        "metadata": {
         "collapsed": false,
         "trusted": true
        },
        "outputs": [
         {
          "data": {
           "image/png": "iVBORw0KGgoAAAANSUhEUgAAAz4AAAKPCAYAAACsKh+8AAAABHNCSVQICAgIfAhkiAAAAAlwSFlz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\nwgcAAGjv/wNiuh1JRm4QPQAAAABJRU5ErkJggg==\n",
           "text/plain": "<matplotlib.figure.Figure at 0x7f7e6e60add0>"
          },
          "metadata": {},
          "output_type": "display_data"
         }
        ],
        "source": "for i in range(N):\n    @interact(value=(-pi/2, pi/2, 0.1), n=fixed(i))\n    def set_joint_angle(n, value=0):\n        global a\n        a[n] = value\n        T = forward_kinematics(T0, l, a)\n        show_robot_arm(T)\n"
       },
       "cell_index": 10,
       "root": true
      }
     ]
    },
    "c49db5a1dc274629ba8fa33aaca2dd04": {
     "views": []
    },
    "c5494213ec854ef9a5680fda3ff388f3": {
     "views": []
    },
    "c58fbc8c37fa4a9c88a892c25fc50eb1": {
     "views": []
    },
    "c5dfde13382e4b98a48977d47310d9b5": {
     "views": []
    },
    "c75d5b6c85ac4c5ba9a782cabed119b9": {
     "views": []
    },
    "c80f6d81e13e4fdf80c9361c56878594": {
     "views": []
    },
    "c837b314041c4abd98fe54f2bad46be9": {
     "views": []
    },
    "c871e1b1955348a08ddc78e40d1b7784": {
     "views": []
    },
    "c87a9501e0944a9993c2e42e0d7c8ed8": {
     "views": []
    },
    "c9c24fca3e624b5a98bef7f3a69de196": {
     "views": []
    },
    "ca0d28d05e5246f997d3496c9cd7bea9": {
     "views": []
    },
    "ca1c6ee68d3c4e3f9cae7f8fd31f1052": {
     "views": []
    },
    "cacdb4e5168a4d8cbcd493bb81fa2be3": {
     "views": []
    },
    "cb033f53273b42f4a34583d92b212bca": {
     "views": []
    },
    "cb71d0de25414854bd9ff072c3d116d7": {
     "views": []
    },
    "cbc4d852cfd046f585f9f54d1db8ed58": {
     "views": []
    },
    "cc10f1446a684b4ea8b57db865cc0c70": {
     "views": []
    },
    "cc1aa36a99364aad800f4d273ede4ae4": {
     "views": []
    },
    "cc3f910800ba4db5a9f7069f40d26238": {
     "views": []
    },
    "cc6eb0da4afd4530a3365c524981911a": {
     "views": []
    },
    "ccb421a8a8e845f388581b2a73e3e477": {
     "views": []
    },
    "cccb7058119c4a15ade3e5183790974e": {
     "views": []
    },
    "ce20c58090da437da65ae2d97db98697": {
     "views": []
    },
    "ce9b4ee6374a4b25a377b2c7fc4bec9a": {
     "views": []
    },
    "d0e10bc796f34e3db44e8f587746efb9": {
     "views": []
    },
    "d12db5355f404ae2b1c3b43b7a4a6c6e": {
     "views": []
    },
    "d1346c623b904f678f75b94ef8a010b0": {
     "views": []
    },
    "d201c6f4b80d48b0a42247f1bc4c59a8": {
     "views": []
    },
    "d20fd2aea9d345bd808ad08c56f8d774": {
     "views": []
    },
    "d2b9e272d08a4789a24b0d393067e842": {
     "views": []
    },
    "d2dcb1c61cbf4025a1eccb2818c068ea": {
     "views": []
    },
    "d3945dedf4b343b6b9fffb0a2e6f5237": {
     "views": []
    },
    "d3e2e2ae788347d190644f3f3e284543": {
     "views": []
    },
    "d47f5163510b4c3bb75a3e7de42e6a47": {
     "views": []
    },
    "d574ff57355d42358dbcbadc80d660c1": {
     "views": []
    },
    "d5d33bae001545279b809e046a3d8f75": {
     "views": []
    },
    "d5f1aa9a5fdf443fa3813d4274b4a9f2": {
     "views": []
    },
    "d60ffb9674b941c794282fedb9d3bd5d": {
     "views": []
    },
    "d6c220a59902465ea367b59b68941b1e": {
     "views": []
    },
    "d84212e436fa4808b79e6a0e88dac527": {
     "views": []
    },
    "d9488098e33c4fa586e6f519e10c5756": {
     "views": []
    },
    "d995e56a27fd499586a39b83ad04386a": {
     "views": []
    },
    "d998ff4d11e34399a60f579b2124b56d": {
     "views": []
    },
    "da4c511997c14e9cb16262a855520a10": {
     "views": []
    },
    "da64ebe8a9f9486ba00437e0664071e2": {
     "views": []
    },
    "da8213350eb44e03930067f7616a30ba": {
     "views": [
      {
       "cell": {
        "cell_type": "code",
        "execution_count": 7,
        "metadata": {
         "collapsed": false,
         "trusted": true
        },
        "outputs": [
         {
          "data": {
           "image/png": "iVBORw0KGgoAAAANSUhEUgAAAz4AAAKPCAYAAACsKh+8AAAABHNCSVQICAgIfAhkiAAAAAlwSFlz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\nwgcAAGjv/wNiuh1JRm4QPQAAAABJRU5ErkJggg==\n",
           "text/plain": "<matplotlib.figure.Figure at 0x7f7e6e60add0>"
          },
          "metadata": {},
          "output_type": "display_data"
         }
        ],
        "source": "for i in range(N):\n    @interact(value=(-pi/2, pi/2, 0.1), n=fixed(i))\n    def set_joint_angle(n, value=0):\n        global a\n        a[n] = value\n        T = forward_kinematics(T0, l, a)\n        show_robot_arm(T)\n"
       },
       "cell_index": 10,
       "root": true
      }
     ]
    },
    "dae71c9df74f476d9bdca7dbdc9c4813": {
     "views": []
    },
    "db36bc23e8224a13bd5bd39d59b341ea": {
     "views": []
    },
    "db74c7e7bc0445af81e1a1a8cd4c1b2a": {
     "views": []
    },
    "dd7767d3ee1e4fdf9457356dcb9d8856": {
     "views": []
    },
    "dd9547c6a0de46bfbb8766c95faad93a": {
     "views": []
    },
    "de9d33d2fd504e6591a42183a04245c4": {
     "views": []
    },
    "dea19948b29b4852a2fafd8eb5ed81ba": {
     "views": []
    },
    "df3f2a8c0b8d4450b9c81e9bb6bf5a48": {
     "views": []
    },
    "df69964a0a784d678379ef980433bac2": {
     "views": []
    },
    "dfef404d9e874f5ba4bcb626c407e772": {
     "views": []
    },
    "e07f7328f0cd427d9af41fac575919a2": {
     "views": []
    },
    "e0fbecdda5c24dd0b7ae34203dd4bd08": {
     "views": []
    },
    "e14cff4f97544aa2850e91e886f48705": {
     "views": []
    },
    "e172cd6cdcb1425f9686213f3e73af38": {
     "views": []
    },
    "e21b7ba964e54981ac5505b6a6d8e9d4": {
     "views": []
    },
    "e27ff57b6a15404a9f220a4f234d012f": {
     "views": []
    },
    "e35aa9674b9c4be1a8bf4a6b6c3f61b0": {
     "views": []
    },
    "e399e06d7f1d45e98f6db2a87d658e37": {
     "views": [
      {
       "cell": {
        "cell_type": "code",
        "execution_count": 7,
        "metadata": {
         "collapsed": false,
         "trusted": true
        },
        "outputs": [
         {
          "data": {
           "image/png": "iVBORw0KGgoAAAANSUhEUgAAAz4AAAKPCAYAAACsKh+8AAAABHNCSVQICAgIfAhkiAAAAAlwSFlz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\nwgcAAGjv/wNiuh1JRm4QPQAAAABJRU5ErkJggg==\n",
           "text/plain": "<matplotlib.figure.Figure at 0x7f7e6e60add0>"
          },
          "metadata": {},
          "output_type": "display_data"
         }
        ],
        "source": "for i in range(N):\n    @interact(value=(-pi/2, pi/2, 0.1), n=fixed(i))\n    def set_joint_angle(n, value=0):\n        global a\n        a[n] = value\n        T = forward_kinematics(T0, l, a)\n        show_robot_arm(T)\n"
       },
       "cell_index": 10,
       "root": true
      }
     ]
    },
    "e3bbf63ca8f24f3f90c845609efaaa2a": {
     "views": []
    },
    "e3cc82f1d7704f12bdf1b63dd046c1e5": {
     "views": []
    },
    "e3d7d5bde7594823974275a142584fa6": {
     "views": []
    },
    "e3da4e2ae1d54776aa4c7cc721e5b154": {
     "views": []
    },
    "e404ccda48544b2caf82f95feb1a9bab": {
     "views": []
    },
    "e422e5c381a5484dad09cbaadcc77087": {
     "views": []
    },
    "e43c2bd292b24ab2816c0877b4738954": {
     "views": []
    },
    "e46fb472807547428ea7d4e8afa77dac": {
     "views": []
    },
    "e4cabad725b84230b67353f65ecabaae": {
     "views": []
    },
    "e536ce329e8a4dac80d16cc15a9733a7": {
     "views": []
    },
    "e54d65d577fb41fc93b093e342ebf57b": {
     "views": []
    },
    "e571d3e0777b4304baa3db684b3fdf4f": {
     "views": []
    },
    "e7013fe1510b4ceaa644362146094748": {
     "views": []
    },
    "e73bd151c797475bb43b646bf2752d18": {
     "views": []
    },
    "e7a0aa68cb854e4e88b10e88a67d92e9": {
     "views": []
    },
    "e82f169087f64f6697c7852b78fb8be9": {
     "views": []
    },
    "e85294b8300f4069986418f235b96af5": {
     "views": []
    },
    "e8a25988db84459298d40a5b1fc504cc": {
     "views": []
    },
    "e8c375bbe8284cd4b36eec55742be2f1": {
     "views": []
    },
    "e91edaabf1754034b8f421bd701dd90f": {
     "views": []
    },
    "e976f0e425ee4287859ccde23b54645c": {
     "views": []
    },
    "e98da6e6f091464b886cfcfa27073773": {
     "views": []
    },
    "e992373f1ad445cc951c6a729d8d0a34": {
     "views": []
    },
    "ea7e236f78a3472a8e17ae2bf4b5d872": {
     "views": []
    },
    "eab6fa910d8b42c68685d10c68f945ac": {
     "views": []
    },
    "eaf5a48642b445e0b3dfc3d9ddc7fed6": {
     "views": []
    },
    "eb6e7cf4eb454106909676cf889f1c33": {
     "views": []
    },
    "eb908d1cc2b34674a42a42cd059d0eb1": {
     "views": []
    },
    "eb9d5d11d60046438a24e5e324ef9c3d": {
     "views": []
    },
    "ebc01cbc9c81446085e6779adc7beea5": {
     "views": [
      {
       "cell": {
        "cell_type": "code",
        "execution_count": 7,
        "metadata": {
         "collapsed": false,
         "trusted": true
        },
        "outputs": [
         {
          "data": {
           "image/png": "iVBORw0KGgoAAAANSUhEUgAAAz4AAAKPCAYAAACsKh+8AAAABHNCSVQICAgIfAhkiAAAAAlwSFlz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\nwgcAAGjv/wNiuh1JRm4QPQAAAABJRU5ErkJggg==\n",
           "text/plain": "<matplotlib.figure.Figure at 0x7f7e6e60add0>"
          },
          "metadata": {},
          "output_type": "display_data"
         }
        ],
        "source": "for i in range(N):\n    @interact(value=(-pi/2, pi/2, 0.1), n=fixed(i))\n    def set_joint_angle(n, value=0):\n        global a\n        a[n] = value\n        T = forward_kinematics(T0, l, a)\n        show_robot_arm(T)\n"
       },
       "cell_index": 10,
       "root": true
      }
     ]
    },
    "ebd1bb1a6e184910a6ea9194bb246247": {
     "views": []
    },
    "ec331fec5dc849a096d6fc4614f5c6a1": {
     "views": []
    },
    "ed2373b2c86e4249963f1f0c1539875b": {
     "views": []
    },
    "ed5515d5ada341d5bddc42285601a968": {
     "views": []
    },
    "ee6badce55564b0bb690ba653a5c311b": {
     "views": []
    },
    "ee6e242f9f5b4d1197ca01c6bd49119c": {
     "views": []
    },
    "eebf627136a94f8db9d06a66bc1f5ff7": {
     "views": []
    },
    "eef0260f78af4a21ad250a3641b7a8d8": {
     "views": [
      {
       "cell": {
        "cell_type": "code",
        "execution_count": 7,
        "metadata": {
         "collapsed": false,
         "trusted": true
        },
        "outputs": [
         {
          "data": {
           "image/png": "iVBORw0KGgoAAAANSUhEUgAAAz4AAAKPCAYAAACsKh+8AAAABHNCSVQICAgIfAhkiAAAAAlwSFlz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\nwgcAAGjv/wNiuh1JRm4QPQAAAABJRU5ErkJggg==\n",
           "text/plain": "<matplotlib.figure.Figure at 0x7f7e6e60add0>"
          },
          "metadata": {},
          "output_type": "display_data"
         }
        ],
        "source": "for i in range(N):\n    @interact(value=(-pi/2, pi/2, 0.1), n=fixed(i))\n    def set_joint_angle(n, value=0):\n        global a\n        a[n] = value\n        T = forward_kinematics(T0, l, a)\n        show_robot_arm(T)\n"
       },
       "cell_index": 10,
       "root": true
      }
     ]
    },
    "f015dd8292e14585be2c3a0c59445226": {
     "views": []
    },
    "f0250e0e4dc046c2a027691da0596362": {
     "views": []
    },
    "f08ec1113b164c10902c7d0bffb4bb20": {
     "views": []
    },
    "f0b3bddfdf4f4301818959c16c50a8c3": {
     "views": []
    },
    "f0ccdd43c12b482f955a96a33a987d1f": {
     "views": []
    },
    "f29b33c4672a47fbba802a78a91df2dc": {
     "views": []
    },
    "f2bd115744cd430887c3a78df7ef0c6c": {
     "views": []
    },
    "f43ab6c3313b47259689c74b005c845e": {
     "views": []
    },
    "f455cefe6a1d4859864b8dc03a31dfd7": {
     "views": []
    },
    "f47905a5b1e74afe8deb8b1afabd8f4d": {
     "views": []
    },
    "f4b20b9235824b53aa4f9404d009ae80": {
     "views": []
    },
    "f4b8b2ae15794970b47d39be7b854aad": {
     "views": []
    },
    "f5206cf22fcd41ecb46d1697ae3f5b93": {
     "views": []
    },
    "f547ac65fa9a4037831b888060c1c557": {
     "views": []
    },
    "f62f4bada80c4b899d59c3e9b61ebb61": {
     "views": []
    },
    "f640a5c63e70451298e805159c07f3d4": {
     "views": []
    },
    "f69deb3ebacb4af3a5c71027490549ee": {
     "views": []
    },
    "f6ad70efcd5944939e52b79515405c92": {
     "views": []
    },
    "f7138b8ad04a4205b9f11a555e50c6e9": {
     "views": []
    },
    "f717c583a0414f7da87076453c301761": {
     "views": []
    },
    "f7563b083ad842bb97fbc95455f681a4": {
     "views": []
    },
    "f7bf54b876944cbaaa550461df8f8670": {
     "views": []
    },
    "f89ea22aa4bd4287a8b6b86a8a591a08": {
     "views": []
    },
    "f947e9915cbb41ed839bfe7115b528bd": {
     "views": []
    },
    "fa5ae86788654240bb268d605727e05e": {
     "views": []
    },
    "fa693f380691424ebad1e4161b275e36": {
     "views": []
    },
    "fb1d09f5c47d4a1e94290e5e3196d35e": {
     "views": []
    },
    "fb4a806d0af54f59868decbaeea0e523": {
     "views": []
    },
    "fc021ff2a81445379ca28e0dd02fbac8": {
     "views": []
    },
    "fc0c0c18d7954a21ae6fad378a211ebc": {
     "views": []
    },
    "fc2017a6287b43f9a61db19806467923": {
     "views": []
    },
    "fc939063c1e64c22aa11dac05f172a69": {
     "views": []
    },
    "fcb3b9b90884446e9115784dcca5505c": {
     "views": []
    },
    "fcc39e3f81cd433287ea6fee299aa5b9": {
     "views": []
    },
    "fcd8c96328f84203b0e5ea28baba88f3": {
     "views": []
    },
    "fcf83c58e7514ff49138935364e47234": {
     "views": []
    },
    "fd1836b1aa404f4e89ba04fb905657e6": {
     "views": []
    },
    "fdcb9e7abbc44b9aa5a1bfb61a37ac49": {
     "views": []
    },
    "fdeef67864714aa7b5e7222e87afbfd6": {
     "views": []
    },
    "feac76ba51434658ba579dea7035d238": {
     "views": []
    },
    "ff11d3f9b32f4489a729a228ab1abb6b": {
     "views": []
    },
    "ff2966c36daf4fe5bf7a8281c64fcc7d": {
     "views": []
    },
    "ff6fe47547274d3abfe490203e98c2d1": {
     "views": []
    }
   },
   "version": "1.0.0"
  }
 },
 "nbformat": 4,
 "nbformat_minor": 1
}
